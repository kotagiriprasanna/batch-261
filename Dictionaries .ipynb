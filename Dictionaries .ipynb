{
 "cells": [
  {
   "cell_type": "markdown",
   "id": "0823905d",
   "metadata": {},
   "source": [
    "## Dictionary"
   ]
  },
  {
   "cell_type": "markdown",
   "id": "eb705cf7",
   "metadata": {},
   "source": [
    "* Dictionaries are used to store data values in key:value pairs.\n",
    "* A dictionary is a collection which is ordered, changeable and do not allow duplicates.\n",
    "* Dictionaries are written with curly brackets.\n",
    "* Each key in a dictionary is unique and maps to a corresponding value.\n",
    "* retrieve data quickly and efficiently."
   ]
  },
  {
   "cell_type": "markdown",
   "id": "4ffeb9dd",
   "metadata": {},
   "source": [
    "## creating a dictionary"
   ]
  },
  {
   "cell_type": "code",
   "execution_count": 2,
   "id": "e71df436",
   "metadata": {},
   "outputs": [
    {
     "data": {
      "text/plain": [
       "{1: 11, 2: 22}"
      ]
     },
     "execution_count": 2,
     "metadata": {},
     "output_type": "execute_result"
    }
   ],
   "source": [
    "x = dict([(1,11),(2,22)])\n",
    "x"
   ]
  },
  {
   "cell_type": "markdown",
   "id": "4f7895e0",
   "metadata": {},
   "source": [
    "## Creating an empty dictionary"
   ]
  },
  {
   "cell_type": "markdown",
   "id": "0bfd0675",
   "metadata": {},
   "source": [
    "* Empty dictionary is also created by dict()"
   ]
  },
  {
   "cell_type": "code",
   "execution_count": 2,
   "id": "eb458302",
   "metadata": {},
   "outputs": [
    {
     "name": "stdout",
     "output_type": "stream",
     "text": [
      "{} <class 'dict'>\n"
     ]
    }
   ],
   "source": [
    "x = {}\n",
    "print(x,type(x))"
   ]
  },
  {
   "cell_type": "markdown",
   "id": "d580f306",
   "metadata": {},
   "source": [
    "## Nested dictionary"
   ]
  },
  {
   "cell_type": "markdown",
   "id": "581d9a95",
   "metadata": {},
   "source": [
    "* A nested dictionary is a collection of dictionaries into one single dictionary.\n",
    "* We can create a nested dictionary by assigning a dictionary to a key of another dictionary.\n",
    "* To access an element of a nested dictionary, we use indexing [] syntax in Python."
   ]
  },
  {
   "cell_type": "code",
   "execution_count": 7,
   "id": "34eb55b1",
   "metadata": {},
   "outputs": [
    {
     "data": {
      "text/plain": [
       "{1: {2: 'prasanna'}, 4: {3: 'prasanna'}}"
      ]
     },
     "execution_count": 7,
     "metadata": {},
     "output_type": "execute_result"
    }
   ],
   "source": [
    "x = {1:{2:'prasanna'},4:{3:'prasanna'}}\n",
    "x"
   ]
  },
  {
   "cell_type": "code",
   "execution_count": null,
   "id": "41aa3919",
   "metadata": {},
   "outputs": [],
   "source": []
  },
  {
   "cell_type": "code",
   "execution_count": 5,
   "id": "8ed3d071",
   "metadata": {},
   "outputs": [
    {
     "data": {
      "text/plain": [
       "['__class__',\n",
       " '__class_getitem__',\n",
       " '__contains__',\n",
       " '__delattr__',\n",
       " '__delitem__',\n",
       " '__dir__',\n",
       " '__doc__',\n",
       " '__eq__',\n",
       " '__format__',\n",
       " '__ge__',\n",
       " '__getattribute__',\n",
       " '__getitem__',\n",
       " '__getstate__',\n",
       " '__gt__',\n",
       " '__hash__',\n",
       " '__init__',\n",
       " '__init_subclass__',\n",
       " '__ior__',\n",
       " '__iter__',\n",
       " '__le__',\n",
       " '__len__',\n",
       " '__lt__',\n",
       " '__ne__',\n",
       " '__new__',\n",
       " '__or__',\n",
       " '__reduce__',\n",
       " '__reduce_ex__',\n",
       " '__repr__',\n",
       " '__reversed__',\n",
       " '__ror__',\n",
       " '__setattr__',\n",
       " '__setitem__',\n",
       " '__sizeof__',\n",
       " '__str__',\n",
       " '__subclasshook__',\n",
       " 'clear',\n",
       " 'copy',\n",
       " 'fromkeys',\n",
       " 'get',\n",
       " 'items',\n",
       " 'keys',\n",
       " 'pop',\n",
       " 'popitem',\n",
       " 'setdefault',\n",
       " 'update',\n",
       " 'values']"
      ]
     },
     "execution_count": 5,
     "metadata": {},
     "output_type": "execute_result"
    }
   ],
   "source": [
    "dir(x)"
   ]
  },
  {
   "cell_type": "markdown",
   "id": "8a65129f",
   "metadata": {},
   "source": [
    "## Dictionary methods"
   ]
  },
  {
   "cell_type": "markdown",
   "id": "c324968e",
   "metadata": {},
   "source": [
    "1. clear()\n",
    "   * Removes all the elements from the dictionary\n",
    "2. copy()\n",
    "   * Returns a copy of the dictionary\n",
    "3. fromkeys() \n",
    "   * Returns a dictionary with the specified keys and value\n",
    "4. get()\n",
    "   * Returns the value of the specified key\n",
    "5. items()\n",
    "   * Returns a list containing a tuple for each key value pair\n",
    "6. keys()\n",
    "   * Returns a list containing the dictionary's key\n",
    "7. pop()\n",
    "   * Removes the element with the specified key\n",
    "8. popitem() \n",
    "   * Removes the last inserted key-value pair\n",
    "9. setdefault() \n",
    "   * Returns the value of the specified key. If the key does not exist: insert the key, with the specified value\n",
    "10. update()\n",
    "    * updates the dictionary with the specified key-value pairs\n",
    "11. values()\n",
    "    * Returns a list of all the values in the dictionary"
   ]
  },
  {
   "cell_type": "code",
   "execution_count": 11,
   "id": "7d8a5635",
   "metadata": {},
   "outputs": [
    {
     "data": {
      "text/plain": [
       "{'k1': 1, 'k2': 2, 'k3': 3}"
      ]
     },
     "execution_count": 11,
     "metadata": {},
     "output_type": "execute_result"
    }
   ],
   "source": [
    "x = {'k1':1,\n",
    "     'k2':2,\n",
    "     'k3':3}\n",
    "x"
   ]
  },
  {
   "cell_type": "markdown",
   "id": "eefb7f29",
   "metadata": {},
   "source": [
    "## Clear"
   ]
  },
  {
   "cell_type": "markdown",
   "id": "0df4df44",
   "metadata": {},
   "source": [
    "* Removes all the elements from the dictionary"
   ]
  },
  {
   "cell_type": "code",
   "execution_count": 13,
   "id": "c80706ca",
   "metadata": {},
   "outputs": [
    {
     "name": "stdout",
     "output_type": "stream",
     "text": [
      "{}\n"
     ]
    }
   ],
   "source": [
    "x.clear()\n",
    "print(x)"
   ]
  },
  {
   "cell_type": "markdown",
   "id": "03edf48b",
   "metadata": {},
   "source": [
    "## Copy\n",
    "\n",
    "* Returns a copy of the dictionary"
   ]
  },
  {
   "cell_type": "code",
   "execution_count": 14,
   "id": "008eb1f0",
   "metadata": {},
   "outputs": [
    {
     "name": "stdout",
     "output_type": "stream",
     "text": [
      "{}\n",
      "{}/n<class 'dict'>/n0x25658bb1c80\n",
      "{}/n<class 'dict'>/n0x25658c1a440\n"
     ]
    }
   ],
   "source": [
    "print(x)\n",
    "print(x,type(x),hex(id(x)),sep = '/n')\n",
    "x = x.copy()\n",
    "print(x,type(x),hex(id(x)),sep = '/n')"
   ]
  },
  {
   "cell_type": "markdown",
   "id": "5c92cbd2",
   "metadata": {},
   "source": [
    "##  Get\n",
    "\n",
    "* Returns a copy of the dictionary\n",
    "* Syntax : Dict.get(key, default=None)\n",
    "* Parameters:\n",
    "   -key: The key name of the item you want to return the value from\n",
    "   -Value: (Optional) Value to be returned if the key is not found. The default value is None"
   ]
  },
  {
   "cell_type": "code",
   "execution_count": 12,
   "id": "fc0e3894",
   "metadata": {},
   "outputs": [
    {
     "data": {
      "text/plain": [
       "3"
      ]
     },
     "execution_count": 12,
     "metadata": {},
     "output_type": "execute_result"
    }
   ],
   "source": [
    "x.get('k3')"
   ]
  },
  {
   "cell_type": "code",
   "execution_count": 17,
   "id": "7b664b33",
   "metadata": {},
   "outputs": [
    {
     "data": {
      "text/plain": [
       "{'k1': 1, 'k2': 2, 'k3': 3, 'k4': 4}"
      ]
     },
     "execution_count": 17,
     "metadata": {},
     "output_type": "execute_result"
    }
   ],
   "source": [
    "x['k4'] = 4\n",
    "x"
   ]
  },
  {
   "cell_type": "code",
   "execution_count": 19,
   "id": "ab033f4f",
   "metadata": {},
   "outputs": [
    {
     "data": {
      "text/plain": [
       "{'k1': 111, 'k2': 2, 'k3': 3, 'k4': 4}"
      ]
     },
     "execution_count": 19,
     "metadata": {},
     "output_type": "execute_result"
    }
   ],
   "source": [
    "x['k1'] = 111 # doesn't take duplicate values, it overwrites the old key values\n",
    "x"
   ]
  },
  {
   "cell_type": "markdown",
   "id": "31b6658e",
   "metadata": {},
   "source": [
    "## Items()\n",
    "* The items () method returns a view object.\n",
    "* The view object contains the key-value pairs of the dictionary, as tuples in a list. \n",
    "* The view object will reflect any changes done to the dictionary, see example below.\n",
    "* Syntax dictionary .items ()\n"
   ]
  },
  {
   "cell_type": "code",
   "execution_count": 18,
   "id": "bb7bc701",
   "metadata": {},
   "outputs": [
    {
     "data": {
      "text/plain": [
       "{'k1': 1, 'k2': 2, 'k3': 3}"
      ]
     },
     "execution_count": 18,
     "metadata": {},
     "output_type": "execute_result"
    }
   ],
   "source": [
    "x = {'k1':1,\n",
    "         'k2':2,\n",
    "         'k3':3}\n",
    "x.items()\n",
    "x"
   ]
  },
  {
   "cell_type": "markdown",
   "id": "7ed08aa4",
   "metadata": {},
   "source": [
    "## Update()\n",
    "\n",
    "* Python update() function in set adds elements from a set (passed as an argument) to the set.\n",
    "* Syntax :  set1.update(set2)\n",
    "* Here set1 is the set in which set2 will be added.\n",
    "* Parameters : Update() method takes only a single argument. "
   ]
  },
  {
   "cell_type": "code",
   "execution_count": 23,
   "id": "701f5828",
   "metadata": {},
   "outputs": [
    {
     "data": {
      "text/plain": [
       "{'k1': 111, 'k2': 2, 'k3': 3, 'k4': 4, 'k5': 5, 'k6': 6, 'k7': 7, 'k8': 8}"
      ]
     },
     "execution_count": 23,
     "metadata": {},
     "output_type": "execute_result"
    }
   ],
   "source": [
    "x.update({'k7':7,'k8':8})\n",
    "x"
   ]
  },
  {
   "cell_type": "code",
   "execution_count": 38,
   "id": "b23e4614",
   "metadata": {},
   "outputs": [
    {
     "name": "stdout",
     "output_type": "stream",
     "text": [
      "{} <class 'dict'> 0x1eafb9d55c0\n"
     ]
    }
   ],
   "source": [
    "a = {}\n",
    "print(a,type(a),hex(id(a)))"
   ]
  },
  {
   "cell_type": "markdown",
   "id": "7b8d7981",
   "metadata": {},
   "source": [
    "## Keys()\n",
    "\n",
    "* The keys() method in Python is used to extract the keys of a dictionary and returns a view object\n",
    "* That displays the list of keys as a view object.\n",
    "* The syntax of the keys() method is dict.keys(), where dict is a dictionary whose keys are extracted. \n",
    "* The keys() method doesn’t take any parameters."
   ]
  },
  {
   "cell_type": "code",
   "execution_count": 39,
   "id": "a3ffee30",
   "metadata": {},
   "outputs": [
    {
     "name": "stdout",
     "output_type": "stream",
     "text": [
      "dict_keys([])\n",
      "<class 'dict_keys'>\n",
      "0\n",
      "\n",
      "[]\n",
      "<class 'list'>\n",
      "0\n",
      "\n"
     ]
    }
   ],
   "source": [
    "akeys = a.keys()\n",
    "print(xkeys,type(xkeys),len(xkeys),sep = '\\n')\n",
    "print()\n",
    "\n",
    "\n",
    "akeys = list(akeys)\n",
    "print(akeys,type(akeys),len(akeys),sep = '\\n')\n",
    "print()"
   ]
  },
  {
   "cell_type": "markdown",
   "id": "8d8c4424",
   "metadata": {},
   "source": [
    "## Pop()\n",
    "\n",
    "* The pop() method in Python is used to remove and return the last element from a list or the element at a specified index.\n",
    "* Syntax : list.pop([index])"
   ]
  },
  {
   "cell_type": "code",
   "execution_count": 21,
   "id": "1184cc1a",
   "metadata": {},
   "outputs": [
    {
     "data": {
      "text/plain": [
       "{'k2': 2, 'k3': 3}"
      ]
     },
     "execution_count": 21,
     "metadata": {},
     "output_type": "execute_result"
    }
   ],
   "source": [
    "x.pop('k1')\n",
    "x"
   ]
  },
  {
   "cell_type": "markdown",
   "id": "72700b55",
   "metadata": {},
   "source": [
    "## Popitem()\n",
    "\n",
    "* Python dictionary popitem() method removes the last inserted key-value pair from the dictionary and returns it as a tuple.\n",
    "* Python Dictionary popitem() Method Syntax:\n",
    "* Syntax : dict.popitem()\n",
    "* Parameters : None\n",
    "* Returns : A tuple containing the arbitrary key-value pair from dictionary. That pair is removed from dictionary"
   ]
  },
  {
   "cell_type": "code",
   "execution_count": 44,
   "id": "16b30f03",
   "metadata": {},
   "outputs": [
    {
     "data": {
      "text/plain": [
       "('k7', 7)"
      ]
     },
     "execution_count": 44,
     "metadata": {},
     "output_type": "execute_result"
    }
   ],
   "source": [
    "x.popitem()"
   ]
  },
  {
   "cell_type": "code",
   "execution_count": 50,
   "id": "17fef4c4",
   "metadata": {},
   "outputs": [
    {
     "data": {
      "text/plain": [
       "{'k1': 111, 'k2': 2, 'k3': 3, 'k4': 4, 'k5': 5, 'k6': 6}"
      ]
     },
     "execution_count": 50,
     "metadata": {},
     "output_type": "execute_result"
    }
   ],
   "source": [
    "x"
   ]
  },
  {
   "cell_type": "markdown",
   "id": "56feb33d",
   "metadata": {},
   "source": [
    "## Fromkeys()\n",
    "\n",
    "* from keys acts on class method it takes as a dictionary aas an input and returns a new dictionary whose keys are given           dictionary\n",
    "\n",
    "Parameters :\n",
    "\n",
    "* seq: The sequence to be transformed into a dictionary.\n",
    "       It can be any iterable like string, set, list, etc.\n",
    "       \n",
    "* value: The initial values that need to be assigned to the generated keys.\n",
    "          It can be of any type or any iterable like string, set, list, etc.\n",
    "          If not provided, then None is assigned to all the keys of the dictionary."
   ]
  },
  {
   "cell_type": "code",
   "execution_count": 52,
   "id": "48356f5c",
   "metadata": {},
   "outputs": [
    {
     "data": {
      "text/plain": [
       "{'k1': None, 'k2': None, 'k3': None, 'k4': None, 'k5': None, 'k6': None}"
      ]
     },
     "execution_count": 52,
     "metadata": {},
     "output_type": "execute_result"
    }
   ],
   "source": [
    "b = dict.fromkeys(x)\n",
    "b"
   ]
  },
  {
   "cell_type": "code",
   "execution_count": 55,
   "id": "86373250",
   "metadata": {},
   "outputs": [
    {
     "data": {
      "text/plain": [
       "{'k1': None, 'k2': None, 'k3': None, 'k4': None, 'k5': None, 'k6': None}"
      ]
     },
     "execution_count": 55,
     "metadata": {},
     "output_type": "execute_result"
    }
   ],
   "source": [
    "c = {'g':'god',\n",
    "     'h':'holla'}\n",
    "\n",
    "z = c.fromkeys(x)\n",
    "z"
   ]
  },
  {
   "cell_type": "markdown",
   "id": "81c2aa53",
   "metadata": {},
   "source": [
    "## Values()\n",
    "\n",
    "* values() is an inbuilt method in Python programming language that returns a view object.\n",
    "* The view object contains the values of the dictionary, as a list. \n",
    "* If you use the type() method on the return value, you get “dict_values object”. \n",
    "* It must be cast to obtain the actual list.\n",
    "* Syntax: dictionary_name.values()\n",
    "* Parameters:There are no parameters\n",
    "* Returns:A list of all the values available in a given dictionary. The values have been stored in a reversed manner\n"
   ]
  },
  {
   "cell_type": "code",
   "execution_count": 25,
   "id": "f4bd7130",
   "metadata": {},
   "outputs": [
    {
     "name": "stdout",
     "output_type": "stream",
     "text": [
      "['k1', 'k2', 'k3']\n",
      "<class 'list'>\n",
      "0x256598f3180\n",
      "3\n"
     ]
    }
   ],
   "source": [
    "xvalues = {'k1':1,\n",
    "           'k2':2,\n",
    "           'k3':3}\n",
    "xvalues=list(xvalues)\n",
    "print(xvalues,type(xvalues),hex(id(xvalues)),len(xvalues),sep='\\n')"
   ]
  },
  {
   "cell_type": "markdown",
   "id": "c22cd062",
   "metadata": {},
   "source": [
    "## maketrans()\n",
    "\n",
    "* Python String maketrans() function is used to construct the transition table i.e specify the list of characters that need to     be replaced in the whole string or the characters that need to be deleted from the string.\n",
    "\n",
    "* Syntax:maketrans(str1, str2, str3)\n",
    "\n",
    "* Parameters:\n",
    "  str1: Specifies the list of characters that need to be replaced\n",
    "  str2: Specifies the list of characters with which the characters need to be replaced.\n",
    "  str3: Specifies the list of characters that need to be deleted.\n",
    "  \n",
    "* Returns:\n",
    "  Returns the translation table which specifies the conversions that can be used by translate()"
   ]
  },
  {
   "cell_type": "code",
   "execution_count": 30,
   "id": "3102b43a",
   "metadata": {},
   "outputs": [
    {
     "name": "stdout",
     "output_type": "stream",
     "text": [
      "Hello Pam!\n"
     ]
    }
   ],
   "source": [
    "txt = \"Hello Sam!\"\n",
    "\n",
    "x = txt.maketrans(\"S\", \"P\")\n",
    "print(txt.translate(x))"
   ]
  },
  {
   "cell_type": "markdown",
   "id": "7f08faa2",
   "metadata": {},
   "source": [
    "## Translate()\n",
    "\n",
    "* The translate() method in Python String is used to replace the characters described in a dictionary . \n",
    "* The syntax of the method is string.translate(table).\n",
    "* The method takes a single parameter, table, which is a translation table containing the mapping between two characters. \n",
    "* The translation table is usually created by the maketrans() method.\n",
    "* The method returns a modified string2145.\n"
   ]
  },
  {
   "cell_type": "code",
   "execution_count": 34,
   "id": "ab60e240",
   "metadata": {},
   "outputs": [
    {
     "name": "stdout",
     "output_type": "stream",
     "text": [
      "Hello Sam!\n"
     ]
    }
   ],
   "source": [
    "mydict = {83: 80}\n",
    "\n",
    "txt = \"Hello Sam!\"\n",
    "print(txt.translate('mydict'))"
   ]
  },
  {
   "cell_type": "markdown",
   "id": "6876aa43",
   "metadata": {},
   "source": [
    "## conditional statements\n",
    "\n",
    "(i) A simple program using if ,elif &else statements"
   ]
  },
  {
   "cell_type": "code",
   "execution_count": 35,
   "id": "26873301",
   "metadata": {},
   "outputs": [
    {
     "name": "stdout",
     "output_type": "stream",
     "text": [
      "second round\n"
     ]
    }
   ],
   "source": [
    "marks=90\n",
    "if marks>=80:\n",
    "    print('second round')"
   ]
  },
  {
   "cell_type": "code",
   "execution_count": 47,
   "id": "c97a2e15",
   "metadata": {},
   "outputs": [],
   "source": [
    "marks=75\n",
    "if marks>=80:\n",
    "    print('second round')"
   ]
  },
  {
   "cell_type": "markdown",
   "id": "28e7f03e",
   "metadata": {},
   "source": [
    "* The above examples kips the entire staement because it is false"
   ]
  },
  {
   "cell_type": "code",
   "execution_count": 52,
   "id": "b3a44b79",
   "metadata": {},
   "outputs": [
    {
     "name": "stdout",
     "output_type": "stream",
     "text": [
      "second round\n"
     ]
    }
   ],
   "source": [
    "marks=90\n",
    "if marks>=80:\n",
    "    print(\"second round\")\n",
    "elif (marks>=60):\n",
    "    print(\"screening round\")\n",
    "else:\n",
    "    print(\"study hard\")"
   ]
  },
  {
   "cell_type": "code",
   "execution_count": 53,
   "id": "89029fb6",
   "metadata": {},
   "outputs": [
    {
     "name": "stdout",
     "output_type": "stream",
     "text": [
      "first round\n"
     ]
    }
   ],
   "source": [
    "marks=76\n",
    "if marks>=80:\n",
    "    print(\"second round\")\n",
    "elif (marks>=70):\n",
    "    print(\"first round\")\n",
    "elif (marks>=60):\n",
    "    print(\"screening round\")\n",
    "else:\n",
    "    print(\"study hard\")"
   ]
  },
  {
   "cell_type": "code",
   "execution_count": 54,
   "id": "bcf8bcfb",
   "metadata": {},
   "outputs": [
    {
     "name": "stdout",
     "output_type": "stream",
     "text": [
      "screening round\n"
     ]
    }
   ],
   "source": [
    "marks=66\n",
    "if marks>=80:\n",
    "    print(\"second round\")\n",
    "elif (marks>=70):\n",
    "    print(\"first round\")\n",
    "elif (marks>=60):\n",
    "    print(\"screening round\")\n",
    "else:\n",
    "    print(\"study hard\")"
   ]
  },
  {
   "cell_type": "markdown",
   "id": "61a474cd",
   "metadata": {},
   "source": [
    "(ii) By using simple program if ,elif &else conditional statements"
   ]
  },
  {
   "cell_type": "code",
   "execution_count": 55,
   "id": "cc79015a",
   "metadata": {},
   "outputs": [
    {
     "name": "stdout",
     "output_type": "stream",
     "text": [
      "study hard\n"
     ]
    }
   ],
   "source": [
    "marks=48\n",
    "if marks<=60:\n",
    "    print(\"study hard\")\n",
    "elif (marks<=70):\n",
    "    print(\"screening round\")\n",
    "elif (marks<=80):\n",
    "    print(\"first round\")\n",
    "else:\n",
    "    print(\"second round\")"
   ]
  },
  {
   "cell_type": "code",
   "execution_count": 56,
   "id": "498a4d6f",
   "metadata": {},
   "outputs": [
    {
     "name": "stdout",
     "output_type": "stream",
     "text": [
      "second round\n"
     ]
    }
   ],
   "source": [
    "marks=81\n",
    "if marks<=60:\n",
    "    print(\"study hard\")\n",
    "elif (marks<=70):\n",
    "    print(\"screening round\")\n",
    "elif (marks<=80):\n",
    "    print(\"first round\")\n",
    "else:\n",
    "    print(\"second round\")"
   ]
  },
  {
   "cell_type": "code",
   "execution_count": 57,
   "id": "1c0bad5f",
   "metadata": {},
   "outputs": [
    {
     "name": "stdout",
     "output_type": "stream",
     "text": [
      "first round\n"
     ]
    }
   ],
   "source": [
    "marks=78\n",
    "if marks<=60:\n",
    "    print(\"study hard\")\n",
    "elif (marks<=70):\n",
    "    print(\"screening round\")\n",
    "elif (marks<=80):\n",
    "    print(\"first round\")\n",
    "else:\n",
    "    print(\"second round\")\n"
   ]
  }
 ],
 "metadata": {
  "kernelspec": {
   "display_name": "Python 3 (ipykernel)",
   "language": "python",
   "name": "python3"
  },
  "language_info": {
   "codemirror_mode": {
    "name": "ipython",
    "version": 3
   },
   "file_extension": ".py",
   "mimetype": "text/x-python",
   "name": "python",
   "nbconvert_exporter": "python",
   "pygments_lexer": "ipython3",
   "version": "3.11.5"
  }
 },
 "nbformat": 4,
 "nbformat_minor": 5
}
