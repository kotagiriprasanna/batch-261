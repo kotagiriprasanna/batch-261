{
 "cells": [
  {
   "cell_type": "markdown",
   "id": "63bcfab0",
   "metadata": {},
   "source": [
    "### 1.Reverse the Order of Words with Five Letters or More\n",
    "#### Write a function that takes a string of one or more words as an argument and returns the same string, but with all five or more letter words reversed. Strings passed in will consist of only letters and spaces. Spaces will be included only when more than one word is present."
   ]
  },
  {
   "cell_type": "code",
   "execution_count": 6,
   "id": "ad02c958",
   "metadata": {},
   "outputs": [
    {
     "name": "stdout",
     "output_type": "stream",
     "text": [
      "Enter a string: There is a bus\n",
      "string: erehT is a bus\n"
     ]
    }
   ],
   "source": [
    "# Get input from the user\n",
    "x = input(\"Enter a string: \")\n",
    "\n",
    "# Initialize variables\n",
    "result = []  # This list will store the modified words\n",
    "word = \"\"    # This string will temporarily store each word\n",
    "i = 0       # This variable will track the index while iterating through the input string\n",
    "\n",
    "# Use a while loop to process each character of the input string\n",
    "while i < len(x):\n",
    "    if x[i].isalpha():\n",
    "        # If the character is a letter, add it to the current word\n",
    "        word += x[i]\n",
    "        i += 1\n",
    "    else:\n",
    "        # If the character is not a letter (i.e., space), process the word\n",
    "        if len(word) >= 5:\n",
    "            # Reverse the word if it has five or more letters\n",
    "            word = word[::-1]\n",
    "        result.append(word)  # Add the word to the result list\n",
    "        word = \"\"  # Reset the word for the next word\n",
    "        i += 1\n",
    "\n",
    "# Process the last word\n",
    "if len(word) >= 5:\n",
    "    word = word[::-1]\n",
    "result.append(word)\n",
    "\n",
    "# Join the words to create the final result\n",
    "output = \" \".join(result)\n",
    "\n",
    "# Print the result\n",
    "print(\"string:\", output)"
   ]
  },
  {
   "cell_type": "code",
   "execution_count": 5,
   "id": "8a7f3e47",
   "metadata": {},
   "outputs": [
    {
     "name": "stdout",
     "output_type": "stream",
     "text": [
      "Enter a string: There is a bus\n",
      "string: erehT is a bus\n"
     ]
    }
   ],
   "source": [
    "# Get input from the user\n",
    "x = input(\"Enter a string: \")\n",
    "\n",
    "# Split the input string into words\n",
    "words = x.split()\n",
    "\n",
    "# Iterate through the words and reverse those with five or more letters\n",
    "for i in range(len(words)):\n",
    "    if len(words[i]) >= 5:\n",
    "        words[i] = words[i][::-1]\n",
    "\n",
    "# Join the words to create the final result\n",
    "output = \" \".join(words)\n",
    "\n",
    "# Print the result\n",
    "print(\"string:\", output)"
   ]
  },
  {
   "cell_type": "markdown",
   "id": "d9a74a47",
   "metadata": {},
   "source": [
    "## 2.Frequency Distribution \n",
    "## Create a function that returns the frequency distribution of a list. This function should return an object, where the keys are the unique elements and the values are the frequency in which those elements occur."
   ]
  },
  {
   "cell_type": "code",
   "execution_count": 14,
   "id": "3244b5b4",
   "metadata": {},
   "outputs": [
    {
     "name": "stdout",
     "output_type": "stream",
     "text": [
      "Frequency distribution: {1: 1, 2: 2, 3: 1, 4: 3, 5: 2, 6: 1}\n"
     ]
    }
   ],
   "source": [
    "my_list = [1, 2, 2, 3, 4, 4, 4, 5, 5, 6]\n",
    "\n",
    "frequency distribution = {} # # Initialize an empty dictionary to store the frequency distribution\n",
    "i = 0\n",
    "while i < len(my list): # Use a while loop to iterate through the list\n",
    "    element = my list[i]\n",
    "    count = 0\n",
    "    j = i\n",
    "    while j < len(my list) and my list[j] == element:\n",
    "        count += 1 # Count the frequency of the current element\n",
    "        j += 1\n",
    "    frequency distribution[element] = count\n",
    "    i = j # Move the index to the next unique element\n",
    "print(\"Frequency distribution:\", frequency_distribution)"
   ]
  },
  {
   "cell_type": "code",
   "execution_count": 15,
   "id": "65a0648b",
   "metadata": {},
   "outputs": [
    {
     "name": "stdout",
     "output_type": "stream",
     "text": [
      "Frequency distribution: {1: 1, 2: 2, 3: 1, 4: 3, 5: 2, 6: 1}\n"
     ]
    }
   ],
   "source": [
    "my_list = [1, 2, 2, 3, 4, 4, 4, 5, 5, 6]\n",
    "\n",
    "frequency distribution = {} # Initialize an empty dictionary to store the frequency distribution\n",
    "\n",
    "for element in my list: # Use a for loop to iterate through the list\n",
    "    if element not in frequency distribution: \n",
    "        frequency distribution[element] = 1\n",
    "    else:\n",
    "        # If the element is already in the dictionary, increment its count\n",
    "        frequency distribution[element] += 1\n",
    "print(\"Frequency distribution:\", frequency_distribution)"
   ]
  },
  {
   "cell_type": "markdown",
   "id": "b79645b3",
   "metadata": {},
   "source": [
    "## 3.Intro to Nested Loops\n",
    "## Imagine a school that kids attend for 6 years. In each year, there are five groups started, marked with the letters a, b, c, d, e. For the first year, the groups are 1a, 1b, 1c, 1d, 1e and for the last year, the groups are 6a, 6b, 6c, 6d, 6e.\n",
    "\n",
    "### Write a function that returns the groups in the school by year (as a string), separated with a comma and a space in the form of \"1a, 1b, 1c, 1d, 1e, 2a, 2b (....) 5d, 5e, 6a, 6b, 6c, 6d, 6e\"."
   ]
  },
  {
   "cell_type": "code",
   "execution_count": 20,
   "id": "916c95a3",
   "metadata": {},
   "outputs": [
    {
     "name": "stdout",
     "output_type": "stream",
     "text": [
      "1a, 1b, 1c, 1d, 1e, 2a, 2b, 2c, 2d, 2e, 3a, 3b, 3c, 3d, 3e, 4a, 4b, 4c, 4d, 4e, 5a, 5b, 5c, 5d, 5e, 6a, 6b, 6c, 6d, 6e\n"
     ]
    }
   ],
   "source": [
    "year = 1 # Initialize variables\n",
    "groups = [\"a\", \"b\", \"c\", \"d\", \"e\"]\n",
    "group index = 0\n",
    "result = []\n",
    "\n",
    "while year <= 6:\n",
    "    for group in groups:\n",
    "        result.append(f\"{year}{group}\")\n",
    "    year += 1\n",
    "\n",
    "# Join the groups into a single string, separated by a comma and a space\n",
    "groups string = \", \".join(result)\n",
    "\n",
    "print(groups string)"
   ]
  },
  {
   "cell_type": "code",
   "execution_count": 18,
   "id": "5b7080be",
   "metadata": {},
   "outputs": [
    {
     "name": "stdout",
     "output_type": "stream",
     "text": [
      "1a, 1b, 1c, 1d, 1e, 2a, 2b, 2c, 2d, 2e, 3a, 3b, 3c, 3d, 3e, 4a, 4b, 4c, 4d, 4e, 5a, 5b, 5c, 5d, 5e, 6a, 6b, 6c, 6d, 6e\n"
     ]
    }
   ],
   "source": [
    "result = [] # Initialize variables\n",
    "for year in range(1, 7): # use a for loop to generate the grops for each year\n",
    "    for group in [\"a\", \"b\", \"c\", \"d\", \"e\"]:\n",
    "        result.append(f\"{year}{group}\")\n",
    "groups string = \", \".join(result)# Join the groups into a single string, separated by a comma and a space\n",
    "print(groups string)# Print the result"
   ]
  },
  {
   "cell_type": "markdown",
   "id": "857df3d5",
   "metadata": {},
   "source": [
    "## 4.Cumulative sum\n",
    "## Create a function that takes a list of numbers and returns a list where each number is the sum of itself + all previous numbers in the list."
   ]
  },
  {
   "cell_type": "code",
   "execution_count": 1,
   "id": "75c5892e",
   "metadata": {},
   "outputs": [
    {
     "name": "stdout",
     "output_type": "stream",
     "text": [
      "[1, 3, 6, 10, 15]\n"
     ]
    }
   ],
   "source": [
    "numbers = [1, 2, 3, 4, 5] # initialie variable \n",
    "sums = [] # empty string\n",
    "total = 0 #  to keep track of the cumulative sum \n",
    "index = 0 #  variable to iterate through the original list of numbers.\n",
    "\n",
    "\n",
    "while index < len(numbers):\n",
    "    total += numbers[index]\n",
    "    sums.append(total)\n",
    "    index += 1\n",
    "\n",
    "print(sums)"
   ]
  },
  {
   "cell_type": "code",
   "execution_count": 2,
   "id": "fd1db17b",
   "metadata": {},
   "outputs": [
    {
     "name": "stdout",
     "output_type": "stream",
     "text": [
      "[1, 3, 6, 10, 15]\n"
     ]
    }
   ],
   "source": [
    "numbers = [1, 2, 3, 4, 5]\n",
    "sums = []\n",
    "total = 0\n",
    "\n",
    "for number in numbers:\n",
    "    total += number\n",
    "    sums.append(total)\n",
    "\n",
    "print(sums)"
   ]
  },
  {
   "cell_type": "markdown",
   "id": "204b96cb",
   "metadata": {},
   "source": [
    "## 5.Find the first Non - repeated character\n",
    "## Create a function that accepts a string as an argument and returns the first non-repeated character.\n",
    "Notes:\n",
    "* An empty string should return False.\n",
    "* If every character repeats, return False.\n",
    "* Don't worry about case sensitivity or non-alphanumeric characters."
   ]
  },
  {
   "cell_type": "code",
   "execution_count": 4,
   "id": "754aeebb",
   "metadata": {},
   "outputs": [
    {
     "name": "stdout",
     "output_type": "stream",
     "text": [
      "The first non-repeated character is: h\n"
     ]
    }
   ],
   "source": [
    "text = \"hello world\" # we initialize a variable \n",
    "index = 0 #  to iterate through the characters in the string text\n",
    "\n",
    "while index < len(text):# The while loop continues as long as the index is within the length of the string.\n",
    "    char = text[index]\n",
    "    if text.count(char) == 1: # count method to check how many times this character appears in the string.\n",
    "        first non repeated char = char\n",
    "        break # first non repeated char variable and break out of the loop.\n",
    "    index += 1\n",
    "\n",
    "if \"first non repeated char\" in locals():\n",
    "    print(\"The first non-repeated character is:\", first_non_repeated_char)\n",
    "else:\n",
    "    print(\"No non-repeated character found in the string.\")"
   ]
  },
  {
   "cell_type": "code",
   "execution_count": 11,
   "id": "ede80367",
   "metadata": {},
   "outputs": [
    {
     "name": "stdout",
     "output_type": "stream",
     "text": [
      "The first non-repeated character is: H\n"
     ]
    }
   ],
   "source": [
    "text = \"Hyderabad\" # we initialize a variable\n",
    "\n",
    "for char in text:\n",
    "    if text.count(char) == 1: #  count method to check how many times this character appears in the string.\n",
    "        first non repeated char = char\n",
    "        break  # first non repeated char variable and break out of the loop.\n",
    "\n",
    "if \"first non repeated char\" in locals():\n",
    "    print(\"The first non-repeated character is:\", first non repeated char)\n",
    "else:\n",
    "    print(\"No non-repeated character found in the string.\")"
   ]
  },
  {
   "cell_type": "markdown",
   "id": "e5e99f48",
   "metadata": {},
   "source": [
    "## 6.Something in the box\n",
    "## Create a function that returns True if an asterisk * is inside a box."
   ]
  },
  {
   "cell_type": "code",
   "execution_count": 13,
   "id": "907e7a67",
   "metadata": {},
   "outputs": [
    {
     "name": "stdout",
     "output_type": "stream",
     "text": [
      "Asterisk (#) is inside the box.\n"
     ]
    }
   ],
   "source": [
    "box = [\n",
    "        \"#######\",\n",
    "        \"#     #\",\n",
    "        \"#     #\",\n",
    "        \"#     #\",\n",
    "        \"#######\",]\n",
    "inside_box = False\n",
    "row = 1  # Start from the second row (row 0 is the top border)\n",
    "\n",
    "while row < len(box) - 1:  # Exclude the first and last rows (borders)\n",
    "    if '#' in box[row]:\n",
    "        inside box = True\n",
    "        break\n",
    "    row += 1\n",
    "\n",
    "if inside box:\n",
    "    print(\"Asterisk (#) is inside the box.\")\n",
    "else:\n",
    "    print(\"Asterisk (#) is not inside the box.\")"
   ]
  },
  {
   "cell_type": "markdown",
   "id": "d5b519c0",
   "metadata": {},
   "source": [
    "#### In this code, we have a list called box, which represents a box made of asterisks and spaces. We use a while loop to iterate through the rows of the box, starting from the second row (row 0 is the top border). Inside the loop, we check if there is an asterisk * in the current row. If we find an asterisk, we set inside_box to True and break out of the loop.\n",
    "\n",
    "#### After the loop is done, we check the value of inside_box. If it's True, we print that an asterisk is inside the box; otherwise, we print that there is no asterisk inside the box.\n"
   ]
  },
  {
   "cell_type": "code",
   "execution_count": 16,
   "id": "95453a36",
   "metadata": {},
   "outputs": [
    {
     "name": "stdout",
     "output_type": "stream",
     "text": [
      "Asterisk (*) is not inside the box.\n"
     ]
    }
   ],
   "source": [
    "box = [\n",
    "        \"#######\",\n",
    "        \"#     #\",\n",
    "        \"#     #\",\n",
    "        \"#     #\",\n",
    "        \"#######\",]\n",
    "inside box = False\n",
    "\n",
    "for row in box[1:-1]:  # Exclude the first and last rows (borders)\n",
    "    if '*' in row:\n",
    "        inside_box = True\n",
    "        break\n",
    "\n",
    "if inside box:\n",
    "    print(\"Asterisk (*) is inside the box.\")\n",
    "else:\n",
    "    print(\"Asterisk (*) is not inside the box.\")"
   ]
  },
  {
   "cell_type": "markdown",
   "id": "c53cda60",
   "metadata": {},
   "source": [
    "## 7.Find unique positive numbers from array\n",
    "## Write a function that takes a list and returns a new list with unique positive (more than 0) numbers.\n",
    "\n",
    "\n",
    "example - unique_lst([-5, 1, -7, -5, -2, 3, 3, -5, -1, -1]) ➞ [1, 3]\n"
   ]
  },
  {
   "cell_type": "code",
   "execution_count": 31,
   "id": "21491c4c",
   "metadata": {},
   "outputs": [
    {
     "name": "stdout",
     "output_type": "stream",
     "text": [
      "[1, 2, 3, 4, 5, 6, 7]\n"
     ]
    }
   ],
   "source": [
    "list = [1, 2, 3, 2, 4, 5, 4, 6, 7] # containing some numbers\n",
    "unique_positive_numbers = [] # initializes an empty list\n",
    "index = 0 # starts from zero\n",
    "\n",
    "while index < len(list): # we use a while loop to iterate through the \"list\"\n",
    "    num = list[index] \n",
    "    if num > 0 and num not in unique_positive_numbers:\n",
    "        unique_positive_numbers.append(num)\n",
    "    index += 1\n",
    "\n",
    "print(unique_positive_numbers)"
   ]
  },
  {
   "cell_type": "code",
   "execution_count": 28,
   "id": "bd6817bf",
   "metadata": {},
   "outputs": [
    {
     "name": "stdout",
     "output_type": "stream",
     "text": [
      "[1, 2, 3, 4, 5, 6, 7]\n"
     ]
    }
   ],
   "source": [
    "list = [1, 2, 3, 2, 4, 5, 4, 6, 7] # containing some numbers\n",
    "unique_positive_numbers = [] # initialize an empty list\n",
    "\n",
    "for num in original_list: # We use a for loop to iterate through the \"list\"\n",
    "    if num > 0 and num not in unique_positive_numbers: \n",
    "        unique_positive_numbers.append(num)\n",
    "\n",
    "print(unique_positive_numbers)"
   ]
  },
  {
   "cell_type": "markdown",
   "id": "48e74ae1",
   "metadata": {},
   "source": [
    "## 8.Doubled pay\n",
    "## An employee working at a very bizarre company earns one penny on their first day. However, for every day that passes, their base amount doubles, so they earn two pennies on the second day and four pennies on the third day (totalling 7 pennies). Given a number of days, return how many pennies the employee accumulates.\n",
    "\n",
    "Examples\n",
    "doubled_pay(1) ➞ 1\n",
    "\n",
    "doubled_pay(2) ➞ 3\n",
    "\n",
    "doubled_pay(3) ➞ 7\n",
    "Notes\n",
    "You will only get tests for valid positive integers."
   ]
  },
  {
   "cell_type": "code",
   "execution_count": 34,
   "id": "a486bf06",
   "metadata": {},
   "outputs": [
    {
     "name": "stdout",
     "output_type": "stream",
     "text": [
      "Total pennies earned in 6 days: 63\n"
     ]
    }
   ],
   "source": [
    "num_days = 6  # Replace with the number of days you want to calculate for\n",
    "total_pennies = 0\n",
    "pennies_earned = 1  # Start with 1 penny on the first day\n",
    "day = 1\n",
    "\n",
    "while day <= num_days:\n",
    "    total_pennies += pennies_earned\n",
    "    pennies_earned *= 2  # Double the pennies earned each day\n",
    "    day += 1\n",
    "\n",
    "print(f\"Total pennies earned in {num_days} days: {total_pennies}\") # f-string is used"
   ]
  },
  {
   "cell_type": "code",
   "execution_count": 35,
   "id": "697a9dc5",
   "metadata": {},
   "outputs": [
    {
     "name": "stdout",
     "output_type": "stream",
     "text": [
      "Total pennies earned in 6 days: 63\n"
     ]
    }
   ],
   "source": [
    "num_days = 6  # Replace with the number of days you want to calculate for\n",
    "total_pennies = 0\n",
    "pennies_earned = 1  # Start with 1 penny on the first day\n",
    "\n",
    "for day in range(1, num_days + 1):\n",
    "    total_pennies += pennies_earned\n",
    "    pennies_earned *= 2  # Double the pennies earned each day\n",
    "\n",
    "print(f\"Total pennies earned in {num_days} days: {total_pennies}\")"
   ]
  },
  {
   "cell_type": "markdown",
   "id": "c82535f3",
   "metadata": {},
   "source": [
    "## 9.Capitalize the First Letter of Each Word\n",
    "## Create a function that takes a string as an argument and converts the first character of each word to uppercase. Return the newly formatted string.\n",
    "\n",
    "Examples\n",
    "make_title(\"This is a title\") ➞ \"This Is A Title\"\n",
    "\n",
    "make_title(\"capitalize every word\") ➞ \"Capitalize Every Word\"\n",
    "\n",
    "make_title(\"I Like Pizza\") ➞ \"I Like Pizza\"\n",
    "\n",
    "make_title(\"PIZZA PIZZA PIZZA\") ➞ \"PIZZA PIZZA PIZZA\"\n",
    "Notes\n",
    "You can expect a valid string for each test case.\n",
    "Some words may contain more than one uppercase letter (see example #4)."
   ]
  },
  {
   "cell_type": "code",
   "execution_count": 38,
   "id": "68f6334c",
   "metadata": {},
   "outputs": [
    {
     "name": "stdout",
     "output_type": "stream",
     "text": [
      "Capitalize The First Letter Of Each Word\n"
     ]
    }
   ],
   "source": [
    "words = input_string.split()\n",
    "\n",
    "# Initialize an empty list to store the capitalized words\n",
    "capitalized_words = []\n",
    "\n",
    "# Iterate through each word and capitalize the first letter using a while loop\n",
    "for word in words:\n",
    "    index = 0\n",
    "    capitalized_word = ''\n",
    "    while index < len(word):\n",
    "        if index == 0:\n",
    "            capitalized_word += word[index].upper()\n",
    "        else:\n",
    "            capitalized_word += word[index]\n",
    "        index += 1\n",
    "    capitalized_words.append(capitalized_word)\n",
    "\n",
    "# Join the capitalized words back into a single string with spaces\n",
    "result = ' '.join(capitalized_words)\n",
    "\n",
    "# Print the newly formatted string\n",
    "print(result)"
   ]
  },
  {
   "cell_type": "code",
   "execution_count": 26,
   "id": "9199b9ad",
   "metadata": {},
   "outputs": [
    {
     "name": "stdout",
     "output_type": "stream",
     "text": [
      "Capitalize The First Letter Of Each Word\n"
     ]
    }
   ],
   "source": [
    "# Input string\n",
    "input_string = \"capitalize the first letter of each word\"\n",
    "\n",
    "# Split the input string into words based on spaces\n",
    "words = input_string.split()\n",
    "\n",
    "# Initialize an empty list to store the capitalized words\n",
    "capitalized_words = []\n",
    "\n",
    "# Iterate through each word\n",
    "for word in words:\n",
    "    # Capitalize the first letter of the word and add it to the list\n",
    "    if len(word) > 0:\n",
    "        capitalized_word = word[0].upper() + word[1:]\n",
    "        capitalized_words.append(capitalized_word)\n",
    "\n",
    "# Join the capitalized words back into a single string with spaces\n",
    "result = ' '.join(capitalized_words)\n",
    "\n",
    "# Print the newly formatted string\n",
    "print(result)"
   ]
  },
  {
   "cell_type": "markdown",
   "id": "539e499a",
   "metadata": {},
   "source": [
    "## 10.If two or more resistors are connected in parallel, the overall resistance of the circuit reduces. It is possible to calculate the total resistance of a parallel circuit by using this formula:\n",
    "\n",
    "1/RTotal = 1/R1 + 1/R2 + 1/R3 ...\n",
    "\n",
    "Create a function that takes a list of parallel resistance values, and calculates the total resistance of the circuit.\n",
    "\n",
    "Worked Example\n",
    "parallel_resistance([6, 3, 6]) ➞ 1.5\n",
    "\n",
    "# 1/RTotal = 1/6 + 1/3 + 1/6\n",
    "# 1/RTotal = 2/3\n",
    "# RTotal = 3/2 = 1.5"
   ]
  },
  {
   "cell_type": "code",
   "execution_count": 38,
   "id": "6ae8a8b8",
   "metadata": {},
   "outputs": [
    {
     "name": "stdout",
     "output_type": "stream",
     "text": [
      "Total resistance of the parallel circuit: 1.348314606741573\n"
     ]
    }
   ],
   "source": [
    "resistors = [4, 5, 6, 8]  # Replace with the values of the resistors\n",
    "total_resistance = 0\n",
    "index = 0\n",
    "\n",
    "while index < len(resistors):\n",
    "    resistance = resistors[index] # For each resistor, we calculate the reciprocal (1/r) and add it to the total_resistance\n",
    "    total_resistance += 1 / resistance\n",
    "    index += 1 #  The loop continues until all the resistors are processed.\n",
    "\n",
    "if total_resistance != 0: # \n",
    "    total_resistance = 1 / total_resistance\n",
    "\n",
    "print(\"Total resistance of the parallel circuit:\", total_resistance)"
   ]
  },
  {
   "cell_type": "code",
   "execution_count": 39,
   "id": "088e87f0",
   "metadata": {},
   "outputs": [
    {
     "name": "stdout",
     "output_type": "stream",
     "text": [
      "Total resistance of the parallel circuit: 1.348314606741573\n"
     ]
    }
   ],
   "source": [
    "resistors = [4, 5, 6, 8]  # Replace with the values of the resistors\n",
    "total_resistance = 0\n",
    "\n",
    "for resistance in resistors:\n",
    "    total_resistance += 1 / resistance\n",
    "\n",
    "if total_resistance != 0:\n",
    "    total_resistance = 1 / total_resistance\n",
    "\n",
    "print(\"Total resistance of the parallel circuit:\", total_resistance)"
   ]
  },
  {
   "cell_type": "markdown",
   "id": "eb4c082d",
   "metadata": {},
   "source": [
    "## 11.Remove the letters ABC\n",
    "## Create a function that will remove the letters \"a\", \"b\" and \"c\" from the given string and return the modified version. If the given string does not contain \"a\", \"b\", or \"c\", return"
   ]
  },
  {
   "cell_type": "code",
   "execution_count": 39,
   "id": "efccda6c",
   "metadata": {},
   "outputs": [
    {
     "name": "stdout",
     "output_type": "stream",
     "text": [
      "de\n"
     ]
    }
   ],
   "source": [
    "input_string = \"abcdeabc\"\n",
    "\n",
    "# Initialize an empty string to store the modified version\n",
    "modified_string = \"\"\n",
    "\n",
    "# Initialize an index for the while loop\n",
    "index = 0\n",
    "\n",
    "# Use a while loop to iterate through each character in the input string\n",
    "while index < len(input_string):\n",
    "    # Check if the current character is \"a,\" \"b,\" or \"c\"\n",
    "    if input_string[index] not in (\"a\", \"b\", \"c\"):\n",
    "        # If it's not \"a,\" \"b,\" or \"c,\" add it to the modified string\n",
    "        modified_string += input_string[index]\n",
    "\n",
    "    # Increment the index\n",
    "    index += 1\n",
    "\n",
    "# Check if any characters were removed\n",
    "if modified_string == input_string:\n",
    "    result = \"The given string does not contain 'a', 'b', or 'c.'\"\n",
    "else:\n",
    "    result = modified_string\n",
    "\n",
    "# Print the result\n",
    "print(result)"
   ]
  },
  {
   "cell_type": "code",
   "execution_count": 40,
   "id": "0cf24362",
   "metadata": {},
   "outputs": [
    {
     "name": "stdout",
     "output_type": "stream",
     "text": [
      "de\n"
     ]
    }
   ],
   "source": [
    "input_string = \"abcdeabc\"\n",
    "\n",
    "# Initialize an empty string to store the modified version\n",
    "modified_string = \"\"\n",
    "\n",
    "# Use a for loop to iterate through each character in the input string\n",
    "for char in input_string:\n",
    "    # Check if the current character is not \"a,\" \"b,\" or \"c\"\n",
    "    if char not in (\"a\", \"b\", \"c\"):\n",
    "        # If it's not \"a,\" \"b,\" or \"c,\" add it to the modified string\n",
    "        modified_string += char\n",
    "\n",
    "# Check if any characters were removed\n",
    "if modified_string == input_string:\n",
    "    result = \"The given string does not contain 'a', 'b', or 'c.'\"\n",
    "else:\n",
    "    result = modified_string\n",
    "\n",
    "# Print the result\n",
    "print(result)"
   ]
  },
  {
   "cell_type": "markdown",
   "id": "562e9c89",
   "metadata": {},
   "source": [
    "## 12.Puzzle pieces\n",
    "## Write a function that takes two lists and adds the first element in the first list with the first element in the second list, the second element in the first list with the second element in the second list, etc, etc. Return True if all element combinations add up to the same number. Otherwise, return False.\n",
    "\n",
    "Examples\n",
    "puzzle_pieces([1, 2, 3, 4], [4, 3, 2, 1]) ➞ True\n",
    "# 1 + 4 = 5;  2 + 3 = 5;  3 + 2 = 5;  4 + 1 = 5\n",
    "# Both lists sum to [5, 5, 5, 5]\n",
    "\n",
    "puzzle_pieces([1, 8, 5, 0, -1, 7], [0, -7, -4, 1, 2, -6]) ➞ True\n",
    "\n",
    "puzzle_pieces([1, 2], [-1, -1]) ➞ False\n",
    "\n",
    "puzzle_pieces([9, 8, 7], [7, 8, 9, 10]) ➞ False\n",
    "Notes\n",
    "Each list will have at least one element.\n",
    "Return False if both lists are of different length."
   ]
  },
  {
   "cell_type": "code",
   "execution_count": 1,
   "id": "2ac2881a",
   "metadata": {},
   "outputs": [
    {
     "name": "stdout",
     "output_type": "stream",
     "text": [
      "False\n"
     ]
    }
   ],
   "source": [
    "list1 = [1, 2, 3]\n",
    "list2 = [4, 5, 2]\n",
    "\n",
    "# Check if both lists have the same length\n",
    "if len(list1) != len(list2):\n",
    "    result = False\n",
    "else:\n",
    "    i = 0\n",
    "    sum_of_combinations = list1[i] + list2[i]\n",
    "\n",
    "    while i < len(list1):\n",
    "        if list1[i] + list2[i] != sum_of_combinations:\n",
    "            result = False\n",
    "            break\n",
    "        i += 1\n",
    "    else:\n",
    "        result = True\n",
    "\n",
    "print(result)  # Output will be True in this case"
   ]
  },
  {
   "cell_type": "code",
   "execution_count": 5,
   "id": "d3836933",
   "metadata": {},
   "outputs": [
    {
     "name": "stdout",
     "output_type": "stream",
     "text": [
      "True\n"
     ]
    }
   ],
   "source": [
    "list1 = [1, 2, 3]\n",
    "list2 = [4, 3, 2]\n",
    "\n",
    "# Check if both lists have the same length\n",
    "if len(list1) != len(list2):\n",
    "    result = False\n",
    "else:\n",
    "    sum_of_combinations = list1[0] + list2[0]\n",
    "\n",
    "    for i in range(1, len(list1)):\n",
    "        if list1[i] + list2[i] != sum_of_combinations:\n",
    "            result = False\n",
    "            break\n",
    "    else:\n",
    "        result = True\n",
    "\n",
    "print(result)  # Output will be True in this case"
   ]
  },
  {
   "cell_type": "markdown",
   "id": "d1764e90",
   "metadata": {},
   "source": [
    "## 13.Compunding letters\n",
    "## Create a function that takes a string and returns a new string with each new character accumulating by +1. Separate each set with a dash.\n",
    "\n"
   ]
  },
  {
   "cell_type": "code",
   "execution_count": 6,
   "id": "ea3481cd",
   "metadata": {},
   "outputs": [
    {
     "name": "stdout",
     "output_type": "stream",
     "text": [
      "H-y-d-e-r-a-b-a-d\n"
     ]
    }
   ],
   "source": [
    "input_string = \"Hyderabad\"\n",
    "result = \"\"\n",
    "i = 0\n",
    "\n",
    "while i < len(input_string):\n",
    "    result += input_string[i]\n",
    "    if i < len(input_string) - 1:\n",
    "        result += \"-\"\n",
    "    i += 1\n",
    "\n",
    "print(result)"
   ]
  },
  {
   "cell_type": "code",
   "execution_count": 4,
   "id": "4be44cd3",
   "metadata": {},
   "outputs": [
    {
     "name": "stdout",
     "output_type": "stream",
     "text": [
      "H-y-d-e-r-a-b-a-d\n"
     ]
    }
   ],
   "source": [
    "input_string = \"Hyderabad\"\n",
    "result = \"\"\n",
    "\n",
    "for i in range(len(input_string)):\n",
    "    result += input_string[i]\n",
    "    if i < len(input_string) - 1:\n",
    "        result += \"-\"\n",
    "\n",
    "print(result)"
   ]
  },
  {
   "cell_type": "markdown",
   "id": "c1c24f21",
   "metadata": {},
   "source": [
    "## 14.Special lists\n",
    "## A list is special if every even index contains an even number and every odd index contains an odd number. Create a function that returns True if an array is special, and False otherwise."
   ]
  },
  {
   "cell_type": "code",
   "execution_count": 7,
   "id": "ed3ac36a",
   "metadata": {},
   "outputs": [
    {
     "name": "stdout",
     "output_type": "stream",
     "text": [
      "The list is special\n"
     ]
    }
   ],
   "source": [
    "arr = [2, 3, 4, 5, 6, 7]\n",
    "is_special = True\n",
    "i = 0\n",
    "\n",
    "while i < len(arr):\n",
    "    if i % 2 == 0:  # Even index\n",
    "        if arr[i] % 2 != 0:\n",
    "            is_special = False\n",
    "            break\n",
    "    else:  # Odd index\n",
    "        if arr[i] % 2 != 1:\n",
    "            is_special = False\n",
    "            break\n",
    "    i += 1\n",
    "\n",
    "if is_special:\n",
    "    print(\"The list is special\")\n",
    "else:\n",
    "    print(\"The list is not special\")"
   ]
  },
  {
   "cell_type": "code",
   "execution_count": 9,
   "id": "c72a62bf",
   "metadata": {},
   "outputs": [
    {
     "name": "stdout",
     "output_type": "stream",
     "text": [
      "The list is not special\n"
     ]
    }
   ],
   "source": [
    "arr = [7,8,9]\n",
    "is_special = True\n",
    "\n",
    "for i in range(len(arr)):\n",
    "    if i % 2 == 0:  # Even index\n",
    "        if arr[i] % 2 != 0:\n",
    "            is_special = False\n",
    "            break\n",
    "    else:  # Odd index\n",
    "        if arr[i] % 2 != 1:\n",
    "            is_special = False\n",
    "            break\n",
    "\n",
    "if is_special:\n",
    "    print(\"The list is special\")\n",
    "else:\n",
    "    print(\"The list is not special\")"
   ]
  },
  {
   "cell_type": "markdown",
   "id": "a743d423",
   "metadata": {},
   "source": [
    "## 15.Extremely over-nested\n",
    "## Create a function that returns the original value from a list with too many sub-lists."
   ]
  },
  {
   "cell_type": "code",
   "execution_count": 10,
   "id": "921af516",
   "metadata": {},
   "outputs": [
    {
     "name": "stdout",
     "output_type": "stream",
     "text": [
      "[1, 2, 3, 4, 5]\n"
     ]
    }
   ],
   "source": [
    "nested_list = [1, [2, [3, [4, [5]]]]]\n",
    "result = []\n",
    "\n",
    "while nested_list:\n",
    "    item = nested_list.pop(0)\n",
    "    if isinstance(item, list):\n",
    "        nested_list = item + nested_list\n",
    "    else:\n",
    "        result.append(item)\n",
    "\n",
    "print(result)"
   ]
  },
  {
   "cell_type": "code",
   "execution_count": 15,
   "id": "86e58079",
   "metadata": {},
   "outputs": [
    {
     "name": "stdout",
     "output_type": "stream",
     "text": [
      "[1, 2, 3, 4, [5]]\n"
     ]
    }
   ],
   "source": [
    "nested_list = [1, [2, [3, [4, [5]]]]]\n",
    "result = []\n",
    "\n",
    "for item in nested_list:\n",
    "    if isinstance(item, list):\n",
    "        for sub_item in item:\n",
    "            if isinstance(sub_item, list):\n",
    "                for sub_sub_item in sub_item:\n",
    "                    if isinstance(sub_sub_item, list):\n",
    "                        for value in sub_sub_item:\n",
    "                            result.append(value)\n",
    "                    else:\n",
    "                        result.append(sub_sub_item)\n",
    "            else:\n",
    "                result.append(sub_item)\n",
    "    else:\n",
    "        result.append(item)\n",
    "\n",
    "print(result)"
   ]
  },
  {
   "cell_type": "markdown",
   "id": "f8f5de62",
   "metadata": {},
   "source": [
    "## 16.Find the second occurence of \"zip\" in a given string\n",
    "## Write a function that returns the position of the second occurrence of \"zip\" in a string, or -1 if it does not occur at least twice. Your code should be general enough to pass every possible case where \"zip\" can occur in a string."
   ]
  },
  {
   "cell_type": "code",
   "execution_count": 16,
   "id": "e2fdead2",
   "metadata": {},
   "outputs": [
    {
     "name": "stdout",
     "output_type": "stream",
     "text": [
      "The position of the second occurrence of 'zip' is: 12\n"
     ]
    }
   ],
   "source": [
    "input_string = \"abczipzipdefzipghi\"\n",
    "\n",
    "first_index = input_string.find(\"zip\")\n",
    "if first_index != -1:\n",
    "    second_index = -1\n",
    "    while first_index != -1:\n",
    "        second_index = first_index\n",
    "        first_index = input_string.find(\"zip\", first_index + 3)\n",
    "    if second_index != -1:\n",
    "        print(\"The position of the second occurrence of 'zip' is:\", second_index)\n",
    "    else:\n",
    "        print(\"There is no second occurrence of 'zip'.\")\n",
    "else:\n",
    "    print(\"There is no first occurrence of 'zip'.\")"
   ]
  },
  {
   "cell_type": "code",
   "execution_count": 17,
   "id": "0fdd6e48",
   "metadata": {},
   "outputs": [
    {
     "name": "stdout",
     "output_type": "stream",
     "text": [
      "The position of the second occurrence of 'zip' is: 3\n"
     ]
    }
   ],
   "source": [
    "input_string = \"abczipzipdefzipghi\"\n",
    "second_zip_index = -1\n",
    "\n",
    "for i in range(len(input_string)):\n",
    "    if input_string[i:i + 3] == \"zip\":\n",
    "        if second_zip_index == -1:\n",
    "            second_zip_index = i\n",
    "        else:\n",
    "            break\n",
    "\n",
    "if second_zip_index != -1:\n",
    "    print(\"The position of the second occurrence of 'zip' is:\", second_zip_index)\n",
    "else:\n",
    "    print(\"There is no second occurrence of 'zip'.\")"
   ]
  },
  {
   "cell_type": "markdown",
   "id": "8023c4df",
   "metadata": {},
   "source": [
    "## 17.List of multiples\n",
    "## Create a function that takes two numbers as arguments (num, length) and returns a list of multiples of num until the list length reaches length."
   ]
  },
  {
   "cell_type": "code",
   "execution_count": 18,
   "id": "ad7136dc",
   "metadata": {},
   "outputs": [
    {
     "name": "stdout",
     "output_type": "stream",
     "text": [
      "[3, 6, 9, 12, 15]\n"
     ]
    }
   ],
   "source": [
    "num = 3  # The number for which you want to generate multiples\n",
    "length = 5  # The desired length of the list\n",
    "\n",
    "multiples = []  # Initialize an empty list\n",
    "count = 0  # Initialize a counter\n",
    "\n",
    "while count < length:\n",
    "    multiples.append(num * (count + 1))\n",
    "    count += 1\n",
    "\n",
    "print(multiples)"
   ]
  },
  {
   "cell_type": "code",
   "execution_count": 19,
   "id": "5f8c511a",
   "metadata": {},
   "outputs": [
    {
     "name": "stdout",
     "output_type": "stream",
     "text": [
      "[3, 6, 12, 24, 48]\n"
     ]
    }
   ],
   "source": [
    "num = 3  # The number for which you want to generate multiples\n",
    "length = 5  # The desired length of the list\n",
    "\n",
    "multiples = []  # Initialize an empty list\n",
    "\n",
    "for _ in range(length):\n",
    "    multiples.append(num)\n",
    "    num += num\n",
    "\n",
    "print(multiples)"
   ]
  },
  {
   "cell_type": "markdown",
   "id": "e5dce4c1",
   "metadata": {},
   "source": [
    "## Medium questions\n",
    "\n",
    "## 1. Missing letters\n",
    "## Given a string containing unique letters, return a sorted string with the letters that don't appear in the string.\n",
    "\n",
    "\n",
    "\n",
    "The combination of both strings should be 26 elements long, including all the letters in the alphabet.\n",
    "Letters will all be in lowercase.\n",
    "\n"
   ]
  },
  {
   "cell_type": "code",
   "execution_count": 27,
   "id": "0a972d73",
   "metadata": {},
   "outputs": [
    {
     "name": "stdout",
     "output_type": "stream",
     "text": [
      "abcdefghijklmnopqrstuvwxyz\n"
     ]
    }
   ],
   "source": [
    "input_string = \"abcdefghijklmnopqrstuvwxyz\"  # Replace with your input string\n",
    "\n",
    "# Create an empty result string containing all lowercase letters of the alphabet\n",
    "result = \"abcdefghijklmnopqrstuvwxyz\"\n",
    "\n",
    "i = 0\n",
    "while i < len(input_string):\n",
    "    if input_string[i] in result:\n",
    "        result = result.replace(input_string[i], \"\")\n",
    "    i += 1\n",
    "\n",
    "# If the input string was shorter than the full alphabet, pad the result with missing letters\n",
    "while len(result) < 26:\n",
    "    for letter in \"abcdefghijklmnopqrstuvwxyz\":\n",
    "        if letter not in result:\n",
    "            result += letter\n",
    "            break\n",
    "\n",
    "print(result)"
   ]
  },
  {
   "cell_type": "code",
   "execution_count": 29,
   "id": "e95a5075",
   "metadata": {},
   "outputs": [
    {
     "name": "stdout",
     "output_type": "stream",
     "text": [
      "abcdefghijklmnopqrstuvwxyz\n"
     ]
    }
   ],
   "source": [
    "input_string = \"abcdefghijklmnopqrstuvwxyz\"  # Replace with your input string\n",
    "\n",
    "# Create an empty result string containing all lowercase letters of the alphabet\n",
    "result = \"abcdefghijklmnopqrstuvwxyz\"\n",
    "\n",
    "# Iterate through the alphabet and remove letters found in the input_string\n",
    "for letter in \"abcdefghijklmnopqrstuvwxyz\":\n",
    "    if letter in input_string:\n",
    "        result = result.replace(letter, \"\")\n",
    "\n",
    "# If the input string was shorter than the full alphabet, pad the result with missing letters\n",
    "while len(result) < 26:\n",
    "    for letter in \"abcdefghijklmnopqrstuvwxyz\":\n",
    "        if letter not in result:\n",
    "            result += letter\n",
    "            break\n",
    "\n",
    "print(result)"
   ]
  },
  {
   "cell_type": "markdown",
   "id": "9b35ea5b",
   "metadata": {},
   "source": [
    "## 2.Find the largest even number\n",
    "## Write a function that finds the largest even number in a list. Return -1 if not found. The use of built-in functions max() and sorted() are prohibited."
   ]
  },
  {
   "cell_type": "code",
   "execution_count": 32,
   "id": "1b83793d",
   "metadata": {},
   "outputs": [
    {
     "name": "stdout",
     "output_type": "stream",
     "text": [
      "6\n"
     ]
    }
   ],
   "source": [
    "numbers = [9, 15, 2, 6, 3, 4, 11]  # Replace with your list of numbers\n",
    "\n",
    "largest_even = -1  # Initialize with -1 to handle the case where no even number is found\n",
    "index = 0\n",
    "\n",
    "while index < len(numbers):\n",
    "    number = numbers[index]\n",
    "\n",
    "    if number % 2 == 0:\n",
    "        if number > largest_even:\n",
    "            largest_even = number\n",
    "\n",
    "    index += 1\n",
    "\n",
    "print(largest_even)"
   ]
  },
  {
   "cell_type": "code",
   "execution_count": 30,
   "id": "94578813",
   "metadata": {},
   "outputs": [
    {
     "name": "stdout",
     "output_type": "stream",
     "text": [
      "8\n"
     ]
    }
   ],
   "source": [
    "numbers = [9, 15, 2, 6, 8, 4, 11]  # Replace with your list of numbers\n",
    "\n",
    "largest_even = -1  # Initialize with -1 to handle the case where no even number is found\n",
    "\n",
    "for number in numbers:\n",
    "    if number % 2 == 0 and number > largest_even:\n",
    "        largest_even = number\n",
    "\n",
    "print(largest_even)"
   ]
  },
  {
   "cell_type": "markdown",
   "id": "02010af8",
   "metadata": {},
   "source": [
    "## 3.Binary to decimal converter\n",
    "## You are given one input: a list containing eight 1's and/or 0's. Write a function that takes an 8 bit binary number and converts it to decimal."
   ]
  },
  {
   "cell_type": "code",
   "execution_count": 33,
   "id": "4dbdb0c4",
   "metadata": {},
   "outputs": [
    {
     "name": "stdout",
     "output_type": "stream",
     "text": [
      "154\n"
     ]
    }
   ],
   "source": [
    "binary_list = [1, 0, 0, 1, 1, 0, 1, 0]  # Replace with your 8-bit binary list\n",
    "decimal = 0\n",
    "power = 0\n",
    "index = len(binary_list) - 1\n",
    "\n",
    "while index >= 0:\n",
    "    decimal += binary_list[index] * (2 ** power)\n",
    "    power += 1\n",
    "    index -= 1\n",
    "\n",
    "print(decimal)"
   ]
  },
  {
   "cell_type": "code",
   "execution_count": 36,
   "id": "2f368801",
   "metadata": {},
   "outputs": [
    {
     "name": "stdout",
     "output_type": "stream",
     "text": [
      "4\n"
     ]
    }
   ],
   "source": [
    "binary_list = [1, 0, 0, 1, 1, 0, 1, 0]  # Replace with your 8-bit binary list\n",
    "decimal = 0\n",
    "\n",
    "for bit in binary_list:\n",
    "    decimal = decimal * 1 + bit\n",
    "\n",
    "print(decimal)"
   ]
  },
  {
   "cell_type": "markdown",
   "id": "9dbf647a",
   "metadata": {},
   "source": [
    "## 4.Consecutive numbers\n",
    "## Create a function that determines whether elements in an array can be re-arranged to form a consecutive list of numbers where each number appears exactly once."
   ]
  },
  {
   "cell_type": "code",
   "execution_count": 37,
   "id": "8f090b7f",
   "metadata": {},
   "outputs": [
    {
     "name": "stdout",
     "output_type": "stream",
     "text": [
      "The elements can be rearranged to form a consecutive list.\n"
     ]
    }
   ],
   "source": [
    "arr = [4, 2, 0, 3, 1]  # Replace with your array\n",
    "\n",
    "# Sort the array in ascending order\n",
    "arr.sort()\n",
    "\n",
    "# Check if the elements can be rearranged to form a consecutive list\n",
    "i = 1\n",
    "while i < len(arr):\n",
    "    if arr[i] != arr[i - 1] + 1:\n",
    "        print(\"The elements cannot be rearranged to form a consecutive list.\")\n",
    "        break\n",
    "    i += 1\n",
    "else:\n",
    "    print(\"The elements can be rearranged to form a consecutive list.\")"
   ]
  },
  {
   "cell_type": "code",
   "execution_count": 38,
   "id": "ae812111",
   "metadata": {},
   "outputs": [
    {
     "name": "stdout",
     "output_type": "stream",
     "text": [
      "The elements can be rearranged to form a consecutive list.\n"
     ]
    }
   ],
   "source": [
    "arr = [4, 2, 0, 3, 1]  # Replace with your array\n",
    "\n",
    "# Sort the array in ascending order\n",
    "arr.sort()\n",
    "\n",
    "# Initialize a flag to track consecutive elements\n",
    "consecutive = True\n",
    "\n",
    "for i in range(1, len(arr)):\n",
    "    if arr[i] != arr[i - 1] + 1:\n",
    "        consecutive = False\n",
    "        break\n",
    "\n",
    "if consecutive:\n",
    "    print(\"The elements can be rearranged to form a consecutive list.\")\n",
    "else:\n",
    "    print(\"The elements cannot be rearranged to form a consecutive list.\")"
   ]
  },
  {
   "cell_type": "markdown",
   "id": "0fb31ce4",
   "metadata": {},
   "source": [
    "## 5.Fruit juices\n",
    "## A fruit juice company tags their fruit juices by concatenating the first three letters of the words in a flavor's name, with its capacity.\n",
    "## Create a function that creates product IDs for different fruit juices."
   ]
  },
  {
   "cell_type": "code",
   "execution_count": 39,
   "id": "f52668a7",
   "metadata": {},
   "outputs": [
    {
     "name": "stdout",
     "output_type": "stream",
     "text": [
      "['appora250', 'blulem500', 'strkiw1000']\n"
     ]
    }
   ],
   "source": [
    "juice_flavors = [\"apple orange\", \"blueberry lemon\", \"strawberry kiwi\"]\n",
    "capacities = [250, 500, 1000]\n",
    "\n",
    "product_ids = []\n",
    "\n",
    "index = 0\n",
    "while index < len(juice_flavors):\n",
    "    # Split the flavor name into words and get the first three letters of each word\n",
    "    words = juice_flavors[index].split()\n",
    "    flavor_code = \"\".join([word[:3] for word in words]).lower()\n",
    "\n",
    "    # Combine the flavor code with the capacity to create the product ID\n",
    "    product_id = flavor_code + str(capacities[index])\n",
    "\n",
    "    product_ids.append(product_id)\n",
    "    index += 1\n",
    "\n",
    "print(product_ids)"
   ]
  },
  {
   "cell_type": "code",
   "execution_count": 44,
   "id": "94277bff",
   "metadata": {},
   "outputs": [
    {
     "name": "stdout",
     "output_type": "stream",
     "text": [
      "['appora250', 'blulem500', 'strkiw1000']\n"
     ]
    }
   ],
   "source": [
    "juice_flavors = [\"apple orange\", \"blueberry lemon\", \"strawberry kiwi\"]\n",
    "capacities = [250, 500, 1000]\n",
    "\n",
    "product_ids = []\n",
    "\n",
    "for i in range(len(juice_flavors)):\n",
    "    # Split the flavor name into words and get the first three letters of each word\n",
    "    words = juice_flavors[i].split()\n",
    "    flavor_code = \"\".join([word[:3] for word in words]).lower()\n",
    "\n",
    "    # Combine the flavor code with the capacity to create the product ID\n",
    "    product_id = flavor_code + str(capacities[i])\n",
    "\n",
    "    product_ids.append(product_id)\n",
    "\n",
    "print(product_ids)"
   ]
  },
  {
   "cell_type": "markdown",
   "id": "97b9a926",
   "metadata": {},
   "source": [
    "## 6.Finding leters\n",
    "## Create a function that takes two lists of numbers sorted in ascending order and returns a list of numbers which are common to both the input lists."
   ]
  },
  {
   "cell_type": "code",
   "execution_count": 45,
   "id": "f4a00f06",
   "metadata": {},
   "outputs": [
    {
     "name": "stdout",
     "output_type": "stream",
     "text": [
      "[3, 5, 9]\n"
     ]
    }
   ],
   "source": [
    "list1 = [1, 3, 5, 7, 9]\n",
    "list2 = [3, 5, 6, 8, 9]\n",
    "\n",
    "common_numbers = []\n",
    "\n",
    "i, j = 0, 0\n",
    "\n",
    "while i < len(list1) and j < len(list2):\n",
    "    if list1[i] < list2[j]:\n",
    "        i += 1\n",
    "    elif list1[i] > list2[j]:\n",
    "        j += 1\n",
    "    else:\n",
    "        common_numbers.append(list1[i])\n",
    "        i += 1\n",
    "        j += 1\n",
    "\n",
    "print(common_numbers)"
   ]
  },
  {
   "cell_type": "code",
   "execution_count": 46,
   "id": "bf5cc0e0",
   "metadata": {},
   "outputs": [
    {
     "name": "stdout",
     "output_type": "stream",
     "text": [
      "[3, 5, 9]\n"
     ]
    }
   ],
   "source": [
    "list1 = [1, 3, 5, 7, 9]\n",
    "list2 = [3, 5, 6, 8, 9]\n",
    "\n",
    "common_numbers = []\n",
    "\n",
    "i, j = 0, 0\n",
    "\n",
    "for _ in range(len(list1) + len(list2)):\n",
    "    if i >= len(list1) or j >= len(list2):\n",
    "        break\n",
    "\n",
    "    if list1[i] < list2[j]:\n",
    "        i += 1\n",
    "    elif list1[i] > list2[j]:\n",
    "        j += 1\n",
    "    else:\n",
    "        common_numbers.append(list1[i])\n",
    "        i += 1\n",
    "        j += 1\n",
    "\n",
    "print(common_numbers)"
   ]
  },
  {
   "cell_type": "markdown",
   "id": "8cb152fb",
   "metadata": {},
   "source": [
    "## 7.Construct and Deconstruct\n",
    "## Given a string, create a function that outputs a list, building and deconstructing the string letter by letter. "
   ]
  },
  {
   "cell_type": "code",
   "execution_count": 3,
   "id": "d77b9eba",
   "metadata": {},
   "outputs": [
    {
     "name": "stdout",
     "output_type": "stream",
     "text": [
      "Prasanna\n",
      "Prasanna\n"
     ]
    }
   ],
   "source": [
    "# Input string\n",
    "input_string = \"Prasanna\"\n",
    "\n",
    "# Initialize an index variable\n",
    "index = 0\n",
    "\n",
    "# Building the string letter by letter\n",
    "while index < len(input_string):\n",
    "    print(input_string[index], end=\"\")\n",
    "    index += 1\n",
    "\n",
    "print()  # Print a newline to separate building and deconstruction\n",
    "\n",
    "# Initialize the index variable again\n",
    "index = 0\n",
    "\n",
    "# Deconstructing the string letter by letter\n",
    "while index < len(input_string):\n",
    "    print(input_string[index], end=\"\")\n",
    "    index += 1\n",
    "    # You can perform any desired operations on each letter here.\n",
    "\n",
    "print()  # Print a newline to separate deconstruction and final result"
   ]
  },
  {
   "cell_type": "code",
   "execution_count": 1,
   "id": "02ebcae2",
   "metadata": {},
   "outputs": [
    {
     "name": "stdout",
     "output_type": "stream",
     "text": [
      "Prasanna\n",
      "Prasanna\n"
     ]
    }
   ],
   "source": [
    "# Input string\n",
    "input_string = \"Prasanna\"\n",
    "\n",
    "# Building the string letter by letter\n",
    "for char in input_string:\n",
    "    print(char, end=\"\")\n",
    "\n",
    "print()  # Print a newline to separate building and deconstruction\n",
    "\n",
    "# Deconstructing the string letter by letter\n",
    "for char in input_string:\n",
    "    print(char, end=\"\")\n",
    "    # You can perform any desired operations on each letter here.\n",
    "\n",
    "print()  # Print a newline to separate deconstruction and final result"
   ]
  },
  {
   "cell_type": "markdown",
   "id": "f7d8fae7",
   "metadata": {},
   "source": [
    "## 8.Remove repeated letters\n",
    "## Create a function that replaces all consecutively repeated letters in a word with single letters."
   ]
  },
  {
   "cell_type": "code",
   "execution_count": 49,
   "id": "e3737e76",
   "metadata": {},
   "outputs": [
    {
     "name": "stdout",
     "output_type": "stream",
     "text": [
      "misisipi\n"
     ]
    }
   ],
   "source": [
    "# Input string\n",
    "input_string = \"mississippi\"\n",
    "\n",
    "# Initialize an index variable\n",
    "index = 0\n",
    "\n",
    "# Initialize an empty string to store the result\n",
    "result = \"\"\n",
    "\n",
    "# Iterate through the input string with a while loop\n",
    "while index < len(input_string):\n",
    "    # Append the current character to the result\n",
    "    result += input_string[index]\n",
    "    \n",
    "    # Move to the next character\n",
    "    index += 1\n",
    "    \n",
    "    # Check for consecutive repeated letters\n",
    "    while index < len(input_string) and input_string[index] == result[-1]:\n",
    "        index += 1\n",
    "\n",
    "# Print the result\n",
    "print(result)"
   ]
  },
  {
   "cell_type": "code",
   "execution_count": 50,
   "id": "547719a3",
   "metadata": {},
   "outputs": [
    {
     "name": "stdout",
     "output_type": "stream",
     "text": [
      "misisipi\n"
     ]
    }
   ],
   "source": [
    "# Input string\n",
    "input_string = \"mississippi\"\n",
    "\n",
    "# Initialize an empty string to store the result\n",
    "result = \"\"\n",
    "\n",
    "# Iterate through the input string with a for loop\n",
    "for index in range(len(input_string)):\n",
    "    # If the current character is not the same as the previous character or it's the first character, add it to the result\n",
    "    if index == 0 or input_string[index] != input_string[index - 1]:\n",
    "        result += input_string[index]\n",
    "\n",
    "# Print the result\n",
    "print(result)"
   ]
  }
 ],
 "metadata": {
  "kernelspec": {
   "display_name": "Python 3 (ipykernel)",
   "language": "python",
   "name": "python3"
  },
  "language_info": {
   "codemirror_mode": {
    "name": "ipython",
    "version": 3
   },
   "file_extension": ".py",
   "mimetype": "text/x-python",
   "name": "python",
   "nbconvert_exporter": "python",
   "pygments_lexer": "ipython3",
   "version": "3.11.5"
  }
 },
 "nbformat": 4,
 "nbformat_minor": 5
}
