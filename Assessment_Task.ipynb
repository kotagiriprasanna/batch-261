{
 "cells": [
  {
   "cell_type": "markdown",
   "id": "5cbaf844",
   "metadata": {},
   "source": [
    "## Python Questions"
   ]
  },
  {
   "cell_type": "markdown",
   "id": "4afe9f82",
   "metadata": {},
   "source": [
    "### 1.What will be the output of the following python program"
   ]
  },
  {
   "cell_type": "code",
   "execution_count": 27,
   "id": "a1603cb4",
   "metadata": {},
   "outputs": [
    {
     "name": "stdout",
     "output_type": "stream",
     "text": [
      "True\n"
     ]
    }
   ],
   "source": [
    "def foo(x): # defines a function 'foo' and takes 'x' as an argument \n",
    "    x[0] = ['def'] # it modifies the first element of the input list 'x' contains 'def'\n",
    "    x[1] = ['abc'] # it modifies the second element of the input list 'x' contains 'abc'\n",
    "    return id(x) # it returns the (id) of the modified input list 'x'\n",
    "q = ['abc','def'] # Create a list 'q' with elements 'abc' and 'def'\n",
    "print(id(q) == foo(q))"
   ]
  },
  {
   "cell_type": "markdown",
   "id": "ce630028",
   "metadata": {},
   "source": [
    "### 2.What will be the output of the following python code"
   ]
  },
  {
   "cell_type": "code",
   "execution_count": 28,
   "id": "fef18692",
   "metadata": {},
   "outputs": [
    {
     "name": "stdout",
     "output_type": "stream",
     "text": [
      "2\n"
     ]
    }
   ],
   "source": [
    "def fun(): # it defines a function\n",
    "    try: # it attempt to execute the code\n",
    "        return 1 \n",
    "    finally: # This block will always be executed, regardless of whether an exception occurs or not\n",
    "        return 2\n",
    "k = fun() # Call the function 'fun' and store the result in variable 'k'\n",
    "print(k)"
   ]
  },
  {
   "cell_type": "markdown",
   "id": "bb5d8c81",
   "metadata": {},
   "source": [
    "### 3.What will be the output of the following code snippet"
   ]
  },
  {
   "cell_type": "code",
   "execution_count": 4,
   "id": "d2a32dcd",
   "metadata": {},
   "outputs": [
    {
     "name": "stdout",
     "output_type": "stream",
     "text": [
      "Local\n"
     ]
    }
   ],
   "source": [
    "def func(): # define a function 'func'\n",
    "    global value # declare 'value' as a global variable\n",
    "    value = \"Local\"   # Assign the string \"Local\" to the global variable 'value'\n",
    "\n",
    "value = \"Global\" # Assign the string \"Global\" to the global variable 'value'\n",
    "func() # Call the function 'func', which modifies the global variable 'value'\n",
    "\n",
    "print(value)"
   ]
  },
  {
   "cell_type": "markdown",
   "id": "c8a8cd63",
   "metadata": {},
   "source": [
    "### 4.______ excetions are raised as a result of an error in opening a particular file"
   ]
  },
  {
   "cell_type": "markdown",
   "id": "8f067adf",
   "metadata": {},
   "source": [
    "### Answer : IOError\n"
   ]
  },
  {
   "cell_type": "markdown",
   "id": "369a341c",
   "metadata": {},
   "source": [
    "### 5.In python we do not specify types, it is directed interpreted by the compiler, so consider the following operation to be performed."
   ]
  },
  {
   "cell_type": "markdown",
   "id": "7cbb08f3",
   "metadata": {},
   "source": [
    "* a) x = 13//2\n",
    "* b) x = int(13/2)\n",
    "* c) x = 13 % 2\n",
    "* d) All of the mentioned\n",
    "* Answer : option(d) "
   ]
  },
  {
   "cell_type": "markdown",
   "id": "cfcec2d1",
   "metadata": {},
   "source": [
    "### 6.What will be the output of the following python code t[5]"
   ]
  },
  {
   "cell_type": "markdown",
   "id": "ba4a5d03",
   "metadata": {},
   "source": [
    "* Answer : Name Error" # This error occurs when trying to use a variable or a name that is not defined. If t is not defined before using t[5], a NameError will occur.
   ]
  },
  {
   "cell_type": "markdown",
   "id": "45836fdf",
   "metadata": {},
   "source": [
    "### 7.A while loop in python is used for what type of iteration"
   ]
  },
  {
   "cell_type": "markdown",
   "id": "66dbdb08",
   "metadata": {},
   "source": [
    "* Answer : indefinite" #  it repeats a block of code as long as a specified condition is true
   ]
  },
  {
   "cell_type": "markdown",
   "id": "3c287ef5",
   "metadata": {},
   "source": [
    "### 9.What is the main advantage of using decorators in Python"
   ]
  },
  {
   "cell_type": "markdown",
   "id": "268e3d6f",
   "metadata": {},
   "source": [
    "* Answer : d) They provide additional security features"
# The main advantage of using decorators in Python is that they provide a way to easily and cleanly modify or extend the behavior of functions,
   promoting code reusability, separation of concerns, and improved readability.
   ]
  },
  {
   "cell_type": "markdown",
   "id": "38760249",
   "metadata": {},
   "source": [
    "### 10.If return statement is not used inside the function, the function will return:"
   ]
  },
  {
   "cell_type": "code",
   "execution_count": 25,
   "id": "dda73ad6",
   "metadata": {},
   "outputs": [
    {
     "name": "stdout",
     "output_type": "stream",
     "text": [
      "Inside my function\n",
      "None\n"
# If a return statement is not used inside a function in Python, the function will automatically return None by default.
  None is a special constant in Python that represents the absence of a value or a null value
     ]
    }
   ],
   "source": [
    "def my_func():  \n",
    "    print(\"Inside my function\")\n",
    "\n",
    "print(my_func())\n",
    "# The function returns the None"
   ]
  },
  {
   "cell_type": "markdown",
   "id": "1d1c4c4e",
   "metadata": {},
   "source": [
    "### 11. What is called when a function is defined inside a class?\n",
    "#### Answer :Method"
   ]
  },
  {
   "cell_type": "markdown",
   "id": "2a00466e",
   "metadata": {},
   "source": [
    "### 12. Which operator is used in python to import modules from packages?\n",
    "#### Answer : The dot . operator separates the package name from the module name"
   ]
  },
  {
   "cell_type": "code",
   "execution_count": 26,
   "id": "e98a540f",
   "metadata": {},
   "outputs": [
    {
     "name": "stdout",
     "output_type": "stream",
     "text": [
      "6\n"
     ]
    }
   ],
   "source": [
    "# 13. Question\n",
    "\n",
    "def getMonth(m):\n",
    "    if m<1 or m>12:\n",
    "        raise ValueError(\"Invalid\")\n",
    "    print(m)\n",
    "getMonth(6)"
   ]
  },
  {
   "cell_type": "markdown",
   "id": "ef9f63b7",
   "metadata": {},
   "source": [
    "### 14. In the python programming language, syntax error is detected by_____at____\n",
    "#### Answer : Interpreter / Run time"
   ]
  },
  {
   "cell_type": "markdown",
   "id": "c3142b08",
   "metadata": {},
   "source": [
    "## 15. Question"
   ]
  },
  {
   "cell_type": "code",
   "execution_count": 34,
   "id": "b0af8687",
   "metadata": {},
   "outputs": [],
   "source": [
    "class Book: # defines a class\n",
    "    def __init__(self,author): # __init__method to initialize instances with an author attribute\n",
    "        self.author=author\n",
    "book1=Book(\"V.M.Shah\")\n",
    "book2=book1\n",
    "# it will throw an error as multiple references to same object is not possible"
   ]
  },
  {
   "cell_type": "markdown",
   "id": "ba24322c",
   "metadata": {},
   "source": [
    "## Module - Data Analysis Questions"
   ]
  },
  {
   "cell_type": "code",
   "execution_count": 2,
   "id": "465d9ede",
   "metadata": {},
   "outputs": [],
   "source": [
    "import pandas as pd\n",
    "import numpy as np"
   ]
  },
  {
   "cell_type": "code",
   "execution_count": 68,
   "id": "ac9a6179",
   "metadata": {},
   "outputs": [
    {
     "data": {
      "text/html": [
       "<div>\n",
       "<style scoped>\n",
       "    .dataframe tbody tr th:only-of-type {\n",
       "        vertical-align: middle;\n",
       "    }\n",
       "\n",
       "    .dataframe tbody tr th {\n",
       "        vertical-align: top;\n",
       "    }\n",
       "\n",
       "    .dataframe thead th {\n",
       "        text-align: right;\n",
       "    }\n",
       "</style>\n",
       "<table border=\"1\" class=\"dataframe\">\n",
       "  <thead>\n",
       "    <tr style=\"text-align: right;\">\n",
       "      <th></th>\n",
       "      <th>Date</th>\n",
       "      <th>Category</th>\n",
       "      <th>Product</th>\n",
       "      <th>CustomerID</th>\n",
       "      <th>Quantity</th>\n",
       "      <th>UnitPrice</th>\n",
       "    </tr>\n",
       "  </thead>\n",
       "  <tbody>\n",
       "    <tr>\n",
       "      <th>0</th>\n",
       "      <td>2024-01-01</td>\n",
       "      <td>Bevarage</td>\n",
       "      <td>Cappuccino</td>\n",
       "      <td>C004</td>\n",
       "      <td>1</td>\n",
       "      <td>3</td>\n",
       "    </tr>\n",
       "    <tr>\n",
       "      <th>1</th>\n",
       "      <td>2024-01-02</td>\n",
       "      <td>Food</td>\n",
       "      <td>Croissant</td>\n",
       "      <td>C002</td>\n",
       "      <td>2</td>\n",
       "      <td>2</td>\n",
       "    </tr>\n",
       "    <tr>\n",
       "      <th>2</th>\n",
       "      <td>2024-01-03</td>\n",
       "      <td>Bevarage</td>\n",
       "      <td>Espresso</td>\n",
       "      <td>C001</td>\n",
       "      <td>2</td>\n",
       "      <td>2</td>\n",
       "    </tr>\n",
       "    <tr>\n",
       "      <th>3</th>\n",
       "      <td>2024-01-10</td>\n",
       "      <td>Bevarage</td>\n",
       "      <td>Latte</td>\n",
       "      <td>C001</td>\n",
       "      <td>3</td>\n",
       "      <td>3.5</td>\n",
       "    </tr>\n",
       "    <tr>\n",
       "      <th>4</th>\n",
       "      <td>2024-01-09</td>\n",
       "      <td>Bevarage</td>\n",
       "      <td>Latte</td>\n",
       "      <td>C003</td>\n",
       "      <td>1</td>\n",
       "      <td>3.5</td>\n",
       "    </tr>\n",
       "    <tr>\n",
       "      <th>5</th>\n",
       "      <td>2024-01-08</td>\n",
       "      <td>Food</td>\n",
       "      <td>Muffin</td>\n",
       "      <td>C002</td>\n",
       "      <td>1</td>\n",
       "      <td>2.5</td>\n",
       "    </tr>\n",
       "  </tbody>\n",
       "</table>\n",
       "</div>"
      ],
      "text/plain": [
       "         Date  Category     Product CustomerID Quantity UnitPrice\n",
       "0  2024-01-01  Bevarage  Cappuccino       C004        1         3\n",
       "1  2024-01-02      Food   Croissant       C002        2         2\n",
       "2  2024-01-03  Bevarage    Espresso       C001        2         2\n",
       "3  2024-01-10  Bevarage       Latte       C001        3       3.5\n",
       "4  2024-01-09  Bevarage       Latte       C003        1       3.5\n",
       "5  2024-01-08      Food      Muffin       C002        1       2.5"
      ]
     },
     "execution_count": 68,
     "metadata": {},
     "output_type": "execute_result"
    }
   ],
   "source": [
    "df = pd.DataFrame({\n",
    "    'Date': ['2024-01-01', '2024-01-02', '2024-01-03', '2024-01-10', '2024-01-09', '2024-01-08'],\n",
    "    'Category': ['Bevarage', 'Food', 'Bevarage', 'Bevarage', 'Bevarage', 'Food'],\n",
    "    'Product': ['Cappuccino', 'Croissant', 'Espresso', 'Latte', 'Latte', 'Muffin'],\n",
    "    'CustomerID': ['C004', 'C002', 'C001', 'C001', 'C003', 'C002'],\n",
    "    'Quantity': ['1', '2', '2', '3', '1', '1'],\n",
    "    'UnitPrice': ['3', '2', '2', '3.5', '3.5', '2.5']\n",
    "})\n",
    "df"
   ]
  },
  {
   "cell_type": "markdown",
   "id": "8554c2cc",
   "metadata": {},
   "source": [
    "### 16. How to create a new column 'Revenue' , which has value equals to the 'Quantity' * UnitPrice of the current row?"
   ]
  },
  {
   "cell_type": "code",
   "execution_count": 69,
   "id": "04b461df",
   "metadata": {},
   "outputs": [
    {
     "name": "stdout",
     "output_type": "stream",
     "text": [
      "         Date  Category     Product CustomerID  Quantity  UnitPrice  Revenue\n",
      "0  2024-01-01  Bevarage  Cappuccino       C004         1        3.0      3.0\n",
      "1  2024-01-02      Food   Croissant       C002         2        2.0      4.0\n",
      "2  2024-01-03  Bevarage    Espresso       C001         2        2.0      4.0\n",
      "3  2024-01-10  Bevarage       Latte       C001         3        3.5     10.5\n",
      "4  2024-01-09  Bevarage       Latte       C003         1        3.5      3.5\n",
      "5  2024-01-08      Food      Muffin       C002         1        2.5      2.5\n"
     ]
    }
   ],
   "source": [
    "# Assuming that df is already defined with the data\n",
    "df['Quantity'] = pd.to_numeric(df['Quantity'])\n",
    "df['UnitPrice'] = pd.to_numeric(df['UnitPrice'])\n",
    "\n",
    "df['Revenue'] = df['Quantity'] * df['UnitPrice'] # Now you can perform the multiplication\n",
    "\n",
    "print(df)"
   ]
  },
  {
   "cell_type": "markdown",
   "id": "c711b8f7",
   "metadata": {},
   "source": [
    "### 17. What is the syntax to find the Ctegorical wise revenue?"
   ]
  },
  {
   "cell_type": "code",
   "execution_count": 42,
   "id": "72be963d",
   "metadata": {},
   "outputs": [
    {
     "data": {
      "text/plain": [
       "Category\n",
       "Bevarage    21.0\n",
       "Food         6.5\n",
       "Name: Revenue, dtype: float64"
      ]
     },
     "execution_count": 42,
     "metadata": {},
     "output_type": "execute_result"
    }
   ],
   "source": [
    "a = df.groupby('Category')['Revenue'].sum()\n",
    "a"
   ]
  },
  {
   "cell_type": "code",
   "execution_count": 43,
   "id": "b5b2b95a",
   "metadata": {},
   "outputs": [
    {
     "data": {
      "text/plain": [
       "Category\n",
       "Bevarage    21.0\n",
       "Food         6.5\n",
       "Name: Revenue, dtype: float64"
      ]
     },
     "execution_count": 43,
     "metadata": {},
     "output_type": "execute_result"
    }
   ],
   "source": [
    "a = df.groupby('Category')['Revenue'].agg('sum')\n",
    "a\n"
   ]
  },
  {
   "cell_type": "markdown",
   "id": "e40bb4f0",
   "metadata": {},
   "source": [
    "### 18. To find the average quantity wrt to date and product , what is the correct syntax?"
   ]
  },
  {
   "cell_type": "code",
   "execution_count": 44,
   "id": "874a7cfa",
   "metadata": {},
   "outputs": [
    {
     "data": {
      "text/plain": [
       "Date        Product   \n",
       "2024-01-01  Cappuccino    1.0\n",
       "2024-01-02  Croissant     2.0\n",
       "2024-01-03  Espresso      2.0\n",
       "2024-01-08  Muffin        1.0\n",
       "2024-01-09  Latte         1.0\n",
       "2024-01-10  Latte         3.0\n",
       "Name: Quantity, dtype: float64"
      ]
     },
     "execution_count": 44,
     "metadata": {},
     "output_type": "execute_result"
    }
   ],
   "source": [
    "z = df.groupby(['Date','Product'])['Quantity'].mean()\n",
    "z"
   ]
  },
  {
   "cell_type": "markdown",
   "id": "aad50dc9",
   "metadata": {},
   "source": [
    "### 19. Categorical wise revenue for Beverage and Food respectively are"
   ]
  },
  {
   "cell_type": "code",
   "execution_count": 54,
   "id": "d9a618f0",
   "metadata": {},
   "outputs": [
    {
     "data": {
      "text/plain": [
       "Category\n",
       "Bevarage    21.0\n",
       "Food         6.5\n",
       "Name: Revenue, dtype: float64"
      ]
     },
     "execution_count": 54,
     "metadata": {},
     "output_type": "execute_result"
    }
   ],
   "source": [
    "z = category_wise_revenue = df.groupby('Category')['Revenue'].sum()\n",
    "z"
   ]
  },
  {
   "cell_type": "markdown",
   "id": "cac7ec57",
   "metadata": {},
   "source": [
    "### 20. Using transform, what is the syntax to create a column which has a UnitPrice difference wrt its Categorical mean?"
   ]
  },
  {
   "cell_type": "code",
   "execution_count": 56,
   "id": "c948af16",
   "metadata": {},
   "outputs": [
    {
     "data": {
      "text/plain": [
       "0    0.00\n",
       "1   -0.25\n",
       "2   -1.00\n",
       "3    0.50\n",
       "4    0.50\n",
       "5    0.25\n",
       "Name: UnitPrice, dtype: float64"
      ]
     },
     "execution_count": 56,
     "metadata": {},
     "output_type": "execute_result"
    }
   ],
   "source": [
    "m = df.groupby('Category')['UnitPrice'].transform(lambda x:x-x.mean())\n",
    "m"
   ]
  },
  {
   "cell_type": "markdown",
   "id": "6081d5fe",
   "metadata": {},
   "source": [
    "### 21. What is the correct syntax to get data wrt 'Monday'?"
   ]
  },
  {
   "cell_type": "code",
   "execution_count": 59,
   "id": "1f3771ff",
   "metadata": {},
   "outputs": [
    {
     "name": "stdout",
     "output_type": "stream",
     "text": [
      "        Date  Category     Product CustomerID  Quantity  UnitPrice  Revenue\n",
      "0 2024-01-01  Bevarage  Cappuccino       C004         1        3.0      3.0\n",
      "5 2024-01-08      Food      Muffin       C002         1        2.5      2.5\n"
     ]
    }
   ],
   "source": [
    "# Assuming df is already defined with the data\n",
    "df['Date'] = pd.to_datetime(df['Date'])\n",
    "df['Quantity'] = pd.to_numeric(df['Quantity'])\n",
    "df['UnitPrice'] = pd.to_numeric(df['UnitPrice'])\n",
    "df['Revenue'] = df['Quantity'] * df['UnitPrice']\n",
    "\n",
    "n = df.groupby(df['Date'].dt.day_name()).get_group('Monday')\n",
    "\n",
    "print(n)"
   ]
  },
  {
   "cell_type": "markdown",
   "id": "433b0ecb",
   "metadata": {},
   "source": [
    "### 22. Which of the following statements is/are True?"
   ]
  },
  {
   "cell_type": "markdown",
   "id": "41070add",
   "metadata": {},
   "source": [
    "* Answer: \n",
    "   - a) apply() can be applied on rows \n",
    "   - b) Apply applies the function on the entire series at a time"
   ]
  },
  {
   "cell_type": "markdown",
   "id": "2e3e9c57",
   "metadata": {},
   "source": [
    "### 23. Which of the following statements is/are True?"
   ]
  },
  {
   "cell_type": "markdown",
   "id": "2c6f4752",
   "metadata": {},
   "source": [
    "* Answer : \n",
    "    - c) Apply and Map are vectorized applications"
   ]
  },
  {
   "cell_type": "code",
   "execution_count": 65,
   "id": "43597810",
   "metadata": {},
   "outputs": [
    {
     "data": {
      "text/html": [
       "<div>\n",
       "<style scoped>\n",
       "    .dataframe tbody tr th:only-of-type {\n",
       "        vertical-align: middle;\n",
       "    }\n",
       "\n",
       "    .dataframe tbody tr th {\n",
       "        vertical-align: top;\n",
       "    }\n",
       "\n",
       "    .dataframe thead th {\n",
       "        text-align: right;\n",
       "    }\n",
       "</style>\n",
       "<table border=\"1\" class=\"dataframe\">\n",
       "  <thead>\n",
       "    <tr style=\"text-align: right;\">\n",
       "      <th></th>\n",
       "      <th>Date</th>\n",
       "      <th>Region</th>\n",
       "      <th>Salesperson</th>\n",
       "      <th>Product</th>\n",
       "      <th>Quantity</th>\n",
       "      <th>UnitPrice</th>\n",
       "    </tr>\n",
       "  </thead>\n",
       "  <tbody>\n",
       "    <tr>\n",
       "      <th>0</th>\n",
       "      <td>2024-01-10</td>\n",
       "      <td>North</td>\n",
       "      <td>Ajay</td>\n",
       "      <td>Notebook</td>\n",
       "      <td>5</td>\n",
       "      <td>12</td>\n",
       "    </tr>\n",
       "    <tr>\n",
       "      <th>1</th>\n",
       "      <td>2024-01-11</td>\n",
       "      <td>South</td>\n",
       "      <td>Balu</td>\n",
       "      <td>Pen</td>\n",
       "      <td>10</td>\n",
       "      <td>3</td>\n",
       "    </tr>\n",
       "    <tr>\n",
       "      <th>2</th>\n",
       "      <td>2024-01-10</td>\n",
       "      <td>East</td>\n",
       "      <td>Chirag</td>\n",
       "      <td>Notebook</td>\n",
       "      <td>7</td>\n",
       "      <td>12</td>\n",
       "    </tr>\n",
       "    <tr>\n",
       "      <th>3</th>\n",
       "      <td>2024-01-12</td>\n",
       "      <td>West</td>\n",
       "      <td>Ajay</td>\n",
       "      <td>Pen</td>\n",
       "      <td>15</td>\n",
       "      <td>3</td>\n",
       "    </tr>\n",
       "    <tr>\n",
       "      <th>4</th>\n",
       "      <td>2024-01-11</td>\n",
       "      <td>North</td>\n",
       "      <td>Balu</td>\n",
       "      <td>Binder</td>\n",
       "      <td>20</td>\n",
       "      <td>5</td>\n",
       "    </tr>\n",
       "    <tr>\n",
       "      <th>5</th>\n",
       "      <td>2024-01-12</td>\n",
       "      <td>East</td>\n",
       "      <td>Chirag</td>\n",
       "      <td>Binder</td>\n",
       "      <td>10</td>\n",
       "      <td>5</td>\n",
       "    </tr>\n",
       "  </tbody>\n",
       "</table>\n",
       "</div>"
      ],
      "text/plain": [
       "         Date Region Salesperson   Product Quantity UnitPrice\n",
       "0  2024-01-10  North        Ajay  Notebook        5        12\n",
       "1  2024-01-11  South        Balu       Pen       10         3\n",
       "2  2024-01-10   East      Chirag  Notebook        7        12\n",
       "3  2024-01-12   West        Ajay       Pen       15         3\n",
       "4  2024-01-11  North        Balu    Binder       20         5\n",
       "5  2024-01-12   East      Chirag    Binder       10         5"
      ]
     },
     "execution_count": 65,
     "metadata": {},
     "output_type": "execute_result"
    }
   ],
   "source": [
    "df1 = pd.DataFrame({\n",
    "    'Date': ['2024-01-10', '2024-01-11', '2024-01-10', '2024-01-12', '2024-01-11', '2024-01-12'],\n",
    "    'Region': ['North', 'South', 'East', 'West', 'North', 'East'],\n",
    "    'Salesperson': ['Ajay', 'Balu', 'Chirag', 'Ajay', 'Balu', 'Chirag'],\n",
    "    'Product': ['Notebook', 'Pen', 'Notebook', 'Pen', 'Binder', 'Binder'],\n",
    "    'Quantity': ['5', '10', '7', '15', '20', '10'],\n",
    "    'UnitPrice': ['12', '3', '12', '3', '5', '5']\n",
    "})\n",
    "df1"
   ]
  },
  {
   "cell_type": "markdown",
   "id": "23a641f0",
   "metadata": {},
   "source": [
    "### 24. What is the syntax to create a pivot table with index as North and South and columns as product where the values are sum of Quantities sold?"
   ]
  },
  {
   "cell_type": "code",
   "execution_count": 74,
   "id": "e16e4c46",
   "metadata": {},
   "outputs": [
    {
     "name": "stdout",
     "output_type": "stream",
     "text": [
      "Region    North  South\n",
      "Product               \n",
      "Binder     20.0    NaN\n",
      "Notebook    5.0    NaN\n",
      "Pen         NaN   10.0\n"
     ]
    }
   ],
   "source": [
    "df1['Quantity'] = pd.to_numeric(df1['Quantity'])\n",
    "a = df1[df1['Region'].isin(['North', 'South'])] # Filter the DataFrame based on 'Region'\n",
    "b = a.pivot_table(index='Product', columns='Region', values='Quantity', aggfunc='sum') # create a pivot_table\n",
    "\n",
    "print(b)"
   ]
  },
  {
   "cell_type": "markdown",
   "id": "dccbcf58",
   "metadata": {},
   "source": [
    "### 25. Which of the folloewing statements is/are True?"
   ]
  },
  {
   "cell_type": "markdown",
   "id": "b138b198",
   "metadata": {},
   "source": [
    "* Answers :\n",
    "    - a) .iloc method includes the last element when used for slicing\n",
    "    - b) We can use .loc method and pass default integer index of rows when slicing"
   ]
  },
  {
   "cell_type": "markdown",
   "id": "71e5c753",
   "metadata": {},
   "source": [
    "### 26. Using a pivot table is it possible to create a mulyi-index dataframe, if so what is the syntax to have a multi indx of Date and Region , with total Productsold as values?"
   ]
  },
  {
   "cell_type": "code",
   "execution_count": 81,
   "id": "5ddc9e55",
   "metadata": {},
   "outputs": [
    {
     "data": {
      "text/html": [
       "<div>\n",
       "<style scoped>\n",
       "    .dataframe tbody tr th:only-of-type {\n",
       "        vertical-align: middle;\n",
       "    }\n",
       "\n",
       "    .dataframe tbody tr th {\n",
       "        vertical-align: top;\n",
       "    }\n",
       "\n",
       "    .dataframe thead th {\n",
       "        text-align: right;\n",
       "    }\n",
       "</style>\n",
       "<table border=\"1\" class=\"dataframe\">\n",
       "  <thead>\n",
       "    <tr style=\"text-align: right;\">\n",
       "      <th></th>\n",
       "      <th>Product</th>\n",
       "      <th>Binder</th>\n",
       "      <th>Notebook</th>\n",
       "      <th>Pen</th>\n",
       "    </tr>\n",
       "    <tr>\n",
       "      <th>Date</th>\n",
       "      <th>Region</th>\n",
       "      <th></th>\n",
       "      <th></th>\n",
       "      <th></th>\n",
       "    </tr>\n",
       "  </thead>\n",
       "  <tbody>\n",
       "    <tr>\n",
       "      <th rowspan=\"2\" valign=\"top\">2024-01-10</th>\n",
       "      <th>East</th>\n",
       "      <td>NaN</td>\n",
       "      <td>7.0</td>\n",
       "      <td>NaN</td>\n",
       "    </tr>\n",
       "    <tr>\n",
       "      <th>North</th>\n",
       "      <td>NaN</td>\n",
       "      <td>5.0</td>\n",
       "      <td>NaN</td>\n",
       "    </tr>\n",
       "    <tr>\n",
       "      <th rowspan=\"2\" valign=\"top\">2024-01-11</th>\n",
       "      <th>North</th>\n",
       "      <td>20.0</td>\n",
       "      <td>NaN</td>\n",
       "      <td>NaN</td>\n",
       "    </tr>\n",
       "    <tr>\n",
       "      <th>South</th>\n",
       "      <td>NaN</td>\n",
       "      <td>NaN</td>\n",
       "      <td>10.0</td>\n",
       "    </tr>\n",
       "    <tr>\n",
       "      <th rowspan=\"2\" valign=\"top\">2024-01-12</th>\n",
       "      <th>East</th>\n",
       "      <td>10.0</td>\n",
       "      <td>NaN</td>\n",
       "      <td>NaN</td>\n",
       "    </tr>\n",
       "    <tr>\n",
       "      <th>West</th>\n",
       "      <td>NaN</td>\n",
       "      <td>NaN</td>\n",
       "      <td>15.0</td>\n",
       "    </tr>\n",
       "  </tbody>\n",
       "</table>\n",
       "</div>"
      ],
      "text/plain": [
       "Product            Binder  Notebook   Pen\n",
       "Date       Region                        \n",
       "2024-01-10 East       NaN       7.0   NaN\n",
       "           North      NaN       5.0   NaN\n",
       "2024-01-11 North     20.0       NaN   NaN\n",
       "           South      NaN       NaN  10.0\n",
       "2024-01-12 East      10.0       NaN   NaN\n",
       "           West       NaN       NaN  15.0"
      ]
     },
     "execution_count": 81,
     "metadata": {},
     "output_type": "execute_result"
    }
   ],
   "source": [
    "h = df1.pivot_table(index=['Date','Region'],columns='Product',values='Quantity',aggfunc='sum')\n",
    "h"
   ]
  },
  {
   "cell_type": "markdown",
   "id": "db31ed39",
   "metadata": {},
   "source": [
    "### 27. What does the margins parameter in the pivot_table()function allow you to include in the pivot table?"
   ]
  },
  {
   "cell_type": "markdown",
   "id": "248e06bc",
   "metadata": {},
   "source": [
    "* Answer:\n",
    "    - a) Additional margins and subtotals for rows and columns"
   ]
  },
  {
   "cell_type": "code",
   "execution_count": 4,
   "id": "7a4289e0",
   "metadata": {},
   "outputs": [
    {
     "data": {
      "text/html": [
       "<div>\n",
       "<style scoped>\n",
       "    .dataframe tbody tr th:only-of-type {\n",
       "        vertical-align: middle;\n",
       "    }\n",
       "\n",
       "    .dataframe tbody tr th {\n",
       "        vertical-align: top;\n",
       "    }\n",
       "\n",
       "    .dataframe thead th {\n",
       "        text-align: right;\n",
       "    }\n",
       "</style>\n",
       "<table border=\"1\" class=\"dataframe\">\n",
       "  <thead>\n",
       "    <tr style=\"text-align: right;\">\n",
       "      <th></th>\n",
       "      <th>Fruits</th>\n",
       "      <th>Price</th>\n",
       "    </tr>\n",
       "  </thead>\n",
       "  <tbody>\n",
       "    <tr>\n",
       "      <th>0</th>\n",
       "      <td>apple</td>\n",
       "      <td></td>\n",
       "    </tr>\n",
       "    <tr>\n",
       "      <th>1</th>\n",
       "      <td>banana</td>\n",
       "      <td></td>\n",
       "    </tr>\n",
       "    <tr>\n",
       "      <th>2</th>\n",
       "      <td>apple</td>\n",
       "      <td>205</td>\n",
       "    </tr>\n",
       "    <tr>\n",
       "      <th>3</th>\n",
       "      <td>apple</td>\n",
       "      <td>200</td>\n",
       "    </tr>\n",
       "    <tr>\n",
       "      <th>4</th>\n",
       "      <td>banana</td>\n",
       "      <td>40</td>\n",
       "    </tr>\n",
       "    <tr>\n",
       "      <th>5</th>\n",
       "      <td>apple</td>\n",
       "      <td>210</td>\n",
       "    </tr>\n",
       "    <tr>\n",
       "      <th>6</th>\n",
       "      <td>kiwi</td>\n",
       "      <td>300</td>\n",
       "    </tr>\n",
       "    <tr>\n",
       "      <th>7</th>\n",
       "      <td>kiwi</td>\n",
       "      <td>320</td>\n",
       "    </tr>\n",
       "    <tr>\n",
       "      <th>8</th>\n",
       "      <td>banana</td>\n",
       "      <td></td>\n",
       "    </tr>\n",
       "    <tr>\n",
       "      <th>9</th>\n",
       "      <td>apple</td>\n",
       "      <td>180</td>\n",
       "    </tr>\n",
       "    <tr>\n",
       "      <th>10</th>\n",
       "      <td>kiwi</td>\n",
       "      <td>350</td>\n",
       "    </tr>\n",
       "    <tr>\n",
       "      <th>11</th>\n",
       "      <td>apple</td>\n",
       "      <td></td>\n",
       "    </tr>\n",
       "    <tr>\n",
       "      <th>12</th>\n",
       "      <td>banana</td>\n",
       "      <td>35</td>\n",
       "    </tr>\n",
       "    <tr>\n",
       "      <th>13</th>\n",
       "      <td>grape</td>\n",
       "      <td></td>\n",
       "    </tr>\n",
       "    <tr>\n",
       "      <th>14</th>\n",
       "      <td>apple</td>\n",
       "      <td>215</td>\n",
       "    </tr>\n",
       "    <tr>\n",
       "      <th>15</th>\n",
       "      <td>banana</td>\n",
       "      <td>40</td>\n",
       "    </tr>\n",
       "    <tr>\n",
       "      <th>16</th>\n",
       "      <td>apple</td>\n",
       "      <td></td>\n",
       "    </tr>\n",
       "    <tr>\n",
       "      <th>17</th>\n",
       "      <td>apple</td>\n",
       "      <td></td>\n",
       "    </tr>\n",
       "    <tr>\n",
       "      <th>18</th>\n",
       "      <td>grape</td>\n",
       "      <td></td>\n",
       "    </tr>\n",
       "  </tbody>\n",
       "</table>\n",
       "</div>"
      ],
      "text/plain": [
       "    Fruits Price\n",
       "0    apple      \n",
       "1   banana      \n",
       "2    apple   205\n",
       "3    apple   200\n",
       "4   banana    40\n",
       "5    apple   210\n",
       "6     kiwi   300\n",
       "7     kiwi   320\n",
       "8   banana      \n",
       "9    apple   180\n",
       "10    kiwi   350\n",
       "11   apple      \n",
       "12  banana    35\n",
       "13   grape      \n",
       "14   apple   215\n",
       "15  banana    40\n",
       "16   apple      \n",
       "17   apple      \n",
       "18   grape      "
      ]
     },
     "execution_count": 4,
     "metadata": {},
     "output_type": "execute_result"
    }
   ],
   "source": [
    "df2 = pd.DataFrame({\n",
    "    'Fruits': ['apple', 'banana', 'apple', 'apple', 'banana', 'apple', 'kiwi', 'kiwi', 'banana', 'apple', 'kiwi', 'apple', 'banana', 'grape', 'apple', 'banana', 'apple', 'apple', 'grape'],\n",
    "    'Price': ['', '', 205, 200, 40, 210, 300, 320, '', 180, 350, '', 35, '', 215, 40, '', '', '']\n",
    "})\n",
    "df2"
   ]
  },
  {
   "cell_type": "markdown",
   "id": "52d36eb5",
   "metadata": {},
   "source": [
    "### 28. If we choose to impute missing values in Price col by chaining ffill() and bfill() while limiting the imputation to 1, 1 respectively, how many missing values will be left post imputation?"
   ]
  },
  {
   "cell_type": "code",
   "execution_count": 17,
   "id": "b11d191b",
   "metadata": {},
   "outputs": [
    {
     "data": {
      "text/html": [
       "<div>\n",
       "<style scoped>\n",
       "    .dataframe tbody tr th:only-of-type {\n",
       "        vertical-align: middle;\n",
       "    }\n",
       "\n",
       "    .dataframe tbody tr th {\n",
       "        vertical-align: top;\n",
       "    }\n",
       "\n",
       "    .dataframe thead th {\n",
       "        text-align: right;\n",
       "    }\n",
       "</style>\n",
       "<table border=\"1\" class=\"dataframe\">\n",
       "  <thead>\n",
       "    <tr style=\"text-align: right;\">\n",
       "      <th></th>\n",
       "      <th>Fruits</th>\n",
       "      <th>Price</th>\n",
       "    </tr>\n",
       "  </thead>\n",
       "  <tbody>\n",
       "    <tr>\n",
       "      <th>0</th>\n",
       "      <td>apple</td>\n",
       "      <td>NaN</td>\n",
       "    </tr>\n",
       "    <tr>\n",
       "      <th>1</th>\n",
       "      <td>banana</td>\n",
       "      <td>205.0</td>\n",
       "    </tr>\n",
       "    <tr>\n",
       "      <th>2</th>\n",
       "      <td>apple</td>\n",
       "      <td>205.0</td>\n",
       "    </tr>\n",
       "    <tr>\n",
       "      <th>3</th>\n",
       "      <td>apple</td>\n",
       "      <td>200.0</td>\n",
       "    </tr>\n",
       "    <tr>\n",
       "      <th>4</th>\n",
       "      <td>banana</td>\n",
       "      <td>40.0</td>\n",
       "    </tr>\n",
       "    <tr>\n",
       "      <th>5</th>\n",
       "      <td>apple</td>\n",
       "      <td>210.0</td>\n",
       "    </tr>\n",
       "    <tr>\n",
       "      <th>6</th>\n",
       "      <td>kiwi</td>\n",
       "      <td>300.0</td>\n",
       "    </tr>\n",
       "    <tr>\n",
       "      <th>7</th>\n",
       "      <td>kiwi</td>\n",
       "      <td>320.0</td>\n",
       "    </tr>\n",
       "    <tr>\n",
       "      <th>8</th>\n",
       "      <td>banana</td>\n",
       "      <td>320.0</td>\n",
       "    </tr>\n",
       "    <tr>\n",
       "      <th>9</th>\n",
       "      <td>apple</td>\n",
       "      <td>180.0</td>\n",
       "    </tr>\n",
       "    <tr>\n",
       "      <th>10</th>\n",
       "      <td>kiwi</td>\n",
       "      <td>350.0</td>\n",
       "    </tr>\n",
       "    <tr>\n",
       "      <th>11</th>\n",
       "      <td>apple</td>\n",
       "      <td>350.0</td>\n",
       "    </tr>\n",
       "    <tr>\n",
       "      <th>12</th>\n",
       "      <td>banana</td>\n",
       "      <td>35.0</td>\n",
       "    </tr>\n",
       "    <tr>\n",
       "      <th>13</th>\n",
       "      <td>grape</td>\n",
       "      <td>35.0</td>\n",
       "    </tr>\n",
       "    <tr>\n",
       "      <th>14</th>\n",
       "      <td>apple</td>\n",
       "      <td>215.0</td>\n",
       "    </tr>\n",
       "    <tr>\n",
       "      <th>15</th>\n",
       "      <td>banana</td>\n",
       "      <td>40.0</td>\n",
       "    </tr>\n",
       "    <tr>\n",
       "      <th>16</th>\n",
       "      <td>apple</td>\n",
       "      <td>40.0</td>\n",
       "    </tr>\n",
       "    <tr>\n",
       "      <th>17</th>\n",
       "      <td>apple</td>\n",
       "      <td>NaN</td>\n",
       "    </tr>\n",
       "    <tr>\n",
       "      <th>18</th>\n",
       "      <td>grape</td>\n",
       "      <td>NaN</td>\n",
       "    </tr>\n",
       "  </tbody>\n",
       "</table>\n",
       "</div>"
      ],
      "text/plain": [
       "    Fruits  Price\n",
       "0    apple    NaN\n",
       "1   banana  205.0\n",
       "2    apple  205.0\n",
       "3    apple  200.0\n",
       "4   banana   40.0\n",
       "5    apple  210.0\n",
       "6     kiwi  300.0\n",
       "7     kiwi  320.0\n",
       "8   banana  320.0\n",
       "9    apple  180.0\n",
       "10    kiwi  350.0\n",
       "11   apple  350.0\n",
       "12  banana   35.0\n",
       "13   grape   35.0\n",
       "14   apple  215.0\n",
       "15  banana   40.0\n",
       "16   apple   40.0\n",
       "17   apple    NaN\n",
       "18   grape    NaN"
      ]
     },
     "execution_count": 17,
     "metadata": {},
     "output_type": "execute_result"
    }
   ],
   "source": [
    "df2['Price'] = pd.to_numeric(df2['Price'])\n",
    "df2['Price'] = df2['Price'].ffill(limit=1).bfill(limit=1)\n",
    "df2\n",
    "# post imputation 3NaN Values are there"
   ]
  },
  {
   "cell_type": "markdown",
   "id": "b5da61bc",
   "metadata": {},
   "source": [
    "### 29. What kind of missing values handling technique is appropriate for df2"
   ]
  },
  {
   "cell_type": "markdown",
   "id": "f45e529f",
   "metadata": {},
   "source": [
    "## Answer: \n",
    "* Imputing Price col with individual fruits price's median"
   ]
  },
  {
   "cell_type": "markdown",
   "id": "88c497c8",
   "metadata": {},
   "source": [
    "### 30. If we choose to impute missing values in Price col by with individual Fruits' Price's mean, how many missing values will be post imputation?"
   ]
  },
  {
   "cell_type": "markdown",
   "id": "b2087bc5",
   "metadata": {},
   "source": [
    "## Answer :\n",
    "* Post imputation there are two NaN values due in the given dataframe for grapes there is no values are given so there is no chance to fill the NaN value with the individual fruit mean value\n",
    "* Therefore there will be 2 NaN values"
   ]
  },
  {
   "cell_type": "markdown",
   "id": "c1209cba",
   "metadata": {},
   "source": [
    "### 31. If a = pd.Series([np.nan, 1,2, np.nan, np.nan,np.nan, np.nan, 4, 5, 7])\n",
    "### What will be the output of a.interpolate()"
   ]
  },
  {
   "cell_type": "code",
   "execution_count": 20,
   "id": "9015e003",
   "metadata": {},
   "outputs": [
    {
     "data": {
      "text/plain": [
       "0    NaN\n",
       "1    1.0\n",
       "2    2.0\n",
       "3    2.4\n",
       "4    2.8\n",
       "5    3.2\n",
       "6    3.6\n",
       "7    4.0\n",
       "8    5.0\n",
       "9    7.0\n",
       "dtype: float64"
      ]
     },
     "execution_count": 20,
     "metadata": {},
     "output_type": "execute_result"
    }
   ],
   "source": [
    "a = pd.Series([np.nan, 1,2, np.nan, np.nan,np.nan, np.nan, 4, 5, 7])\n",
    "a.interpolate()"
   ]
  },
  {
   "cell_type": "markdown",
   "id": "da04f1a5",
   "metadata": {},
   "source": [
    "### 32. What is the use of the normalization parameter in the crosstab method of pandas?"
   ]
  },
  {
   "cell_type": "markdown",
   "id": "90ce25f5",
   "metadata": {},
   "source": [
    "## Answer: \n",
    "* It used to normalize values by dividing them by the total count"
   ]
  },
  {
   "cell_type": "code",
   "execution_count": 22,
   "id": "a0a1defe",
   "metadata": {},
   "outputs": [
    {
     "data": {
      "text/html": [
       "<div>\n",
       "<style scoped>\n",
       "    .dataframe tbody tr th:only-of-type {\n",
       "        vertical-align: middle;\n",
       "    }\n",
       "\n",
       "    .dataframe tbody tr th {\n",
       "        vertical-align: top;\n",
       "    }\n",
       "\n",
       "    .dataframe thead th {\n",
       "        text-align: right;\n",
       "    }\n",
       "</style>\n",
       "<table border=\"1\" class=\"dataframe\">\n",
       "  <thead>\n",
       "    <tr style=\"text-align: right;\">\n",
       "      <th></th>\n",
       "      <th>Age Group</th>\n",
       "      <th>Favorite Color</th>\n",
       "      <th>Gender</th>\n",
       "      <th>Has Pet</th>\n",
       "    </tr>\n",
       "  </thead>\n",
       "  <tbody>\n",
       "    <tr>\n",
       "      <th>0</th>\n",
       "      <td>26-35</td>\n",
       "      <td>Blue</td>\n",
       "      <td>Male</td>\n",
       "      <td>Yes</td>\n",
       "    </tr>\n",
       "    <tr>\n",
       "      <th>1</th>\n",
       "      <td>18-25</td>\n",
       "      <td>Red</td>\n",
       "      <td>Female</td>\n",
       "      <td>Yes</td>\n",
       "    </tr>\n",
       "    <tr>\n",
       "      <th>2</th>\n",
       "      <td>18-25</td>\n",
       "      <td>Red</td>\n",
       "      <td>Male</td>\n",
       "      <td>Yes</td>\n",
       "    </tr>\n",
       "    <tr>\n",
       "      <th>3</th>\n",
       "      <td>26-35</td>\n",
       "      <td>Blue</td>\n",
       "      <td>Female</td>\n",
       "      <td>Yes</td>\n",
       "    </tr>\n",
       "    <tr>\n",
       "      <th>4</th>\n",
       "      <td>18-25</td>\n",
       "      <td>Red</td>\n",
       "      <td>Female</td>\n",
       "      <td>Yes</td>\n",
       "    </tr>\n",
       "    <tr>\n",
       "      <th>5</th>\n",
       "      <td>18-25</td>\n",
       "      <td>Blue</td>\n",
       "      <td>Female</td>\n",
       "      <td>No</td>\n",
       "    </tr>\n",
       "  </tbody>\n",
       "</table>\n",
       "</div>"
      ],
      "text/plain": [
       "  Age Group Favorite Color  Gender Has Pet\n",
       "0     26-35           Blue    Male     Yes\n",
       "1     18-25            Red  Female     Yes\n",
       "2     18-25            Red    Male     Yes\n",
       "3     26-35           Blue  Female     Yes\n",
       "4     18-25            Red  Female     Yes\n",
       "5     18-25           Blue  Female      No"
      ]
     },
     "execution_count": 22,
     "metadata": {},
     "output_type": "execute_result"
    }
   ],
   "source": [
    "df3 = pd.DataFrame({'Age Group': ['26-35', '18-25', '18-25', '26-35', '18-25', '18-25'],\n",
    "    'Favorite Color': ['Blue', 'Red', 'Red', 'Blue', 'Red', 'Blue'],\n",
    "    'Gender': ['Male', 'Female', 'Male', 'Female', 'Female', 'Female'],\n",
    "    'Has Pet': ['Yes', 'Yes', 'Yes', 'Yes', 'Yes', 'No']\n",
    "})\n",
    "df3"
   ]
  },
  {
   "cell_type": "markdown",
   "id": "37048667",
   "metadata": {},
   "source": [
    "### 33. What is the probability of finding a Male and having a Pet in df3?"
   ]
  },
  {
   "cell_type": "code",
   "execution_count": 23,
   "id": "6d720ad2",
   "metadata": {},
   "outputs": [
    {
     "name": "stdout",
     "output_type": "stream",
     "text": [
      "0.3333333333333333\n"
     ]
    }
   ],
   "source": [
    "total_observations = len(df3)\n",
    "male_has_pet = len(df3[(df3['Gender'] == 'Male') & (df3['Has Pet'] == 'Yes')])\n",
    "probability = male_has_pet / total_observations\n",
    "\n",
    "print(probability)"
   ]
  },
  {
   "cell_type": "markdown",
   "id": "4d0c7496",
   "metadata": {},
   "source": [
    "### 34. What is the probability of finding a person having a Pet given they belong to the age group 18 - 25 in df3?"
   ]
  },
  {
   "cell_type": "code",
   "execution_count": 24,
   "id": "7746408a",
   "metadata": {},
   "outputs": [
    {
     "name": "stdout",
     "output_type": "stream",
     "text": [
      "0.75\n"
     ]
    }
   ],
   "source": [
    "x = len(df3[df3['Age Group'] == '18-25'])\n",
    "y = len(df3[(df3['Age Group'] == '18-25') & (df3['Has Pet'] == 'Yes')])\n",
    "probability = y / x\n",
    "\n",
    "print(probability)"
   ]
  },
  {
   "cell_type": "markdown",
   "id": "4c37c434",
   "metadata": {},
   "source": [
    "### 35. Which distribution is appropriate for modeling the number of defects in a large batch of products?"
   ]
  },
  {
   "cell_type": "markdown",
   "id": "7cd6b3b2",
   "metadata": {},
   "source": [
    "## Answer:\n",
    "* Binomial distribution is appropriate for modeling the number of defects in a large batch of products"
   ]
  },
  {
   "cell_type": "markdown",
   "id": "b676e681",
   "metadata": {},
   "source": [
    "### 36. A survey asks participants to rate their satisfaction with a product on a scale of 1 to 5. What type of data is being collected"
   ]
  },
  {
   "cell_type": "markdown",
   "id": "3d9b96de",
   "metadata": {},
   "source": [
    "## Answer:\n",
    "Original data"
   ]
  },
  {
   "cell_type": "markdown",
   "id": "708e8087",
   "metadata": {},
   "source": [
    "![](https://i0.wp.com/statisticsbyjim.com/wp-content/uploads/2021/10/Right_skewed_central_tendency.png?fit=576%2C384&ssl=1)"
   ]
  },
  {
   "cell_type": "markdown",
   "id": "be10c264",
   "metadata": {},
   "source": [
    "### 37. The above distribution is Right-skewed distribution "
   ]
  },
  {
   "cell_type": "markdown",
   "id": "0cf6837b",
   "metadata": {},
   "source": [
    "### 38. In data with outliers, Median Absolute Deviation is the best measure to estimate the dispersion"
   ]
  }
 ],
 "metadata": {
  "kernelspec": {
   "display_name": "Python 3 (ipykernel)",
   "language": "python",
   "name": "python3"
  },
  "language_info": {
   "codemirror_mode": {
    "name": "ipython",
    "version": 3
   },
   "file_extension": ".py",
   "mimetype": "text/x-python",
   "name": "python",
   "nbconvert_exporter": "python",
   "pygments_lexer": "ipython3",
   "version": "3.11.5"
  }
 },
 "nbformat": 4,
 "nbformat_minor": 5
}
