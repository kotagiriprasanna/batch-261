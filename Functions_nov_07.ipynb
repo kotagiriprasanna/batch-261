{
 "cells": [
  {
   "cell_type": "markdown",
   "id": "e70daf32",
   "metadata": {},
   "source": [
    "## Function\n",
    " * it is a block of code,which executes a desired task. A function can be called n-number of times instead of writing the code required to execute the task.\n",
    " * these are the two steps in creating a function, defining a function and calling the function.\n",
    " * syntax:\n",
    "          - def func_name(parameter/s):"
   ]
  },
  {
   "cell_type": "markdown",
   "id": "78fd4149",
   "metadata": {},
   "source": [
    "## Parameter :\n",
    "* This article explains different types of Functions in Python. \n",
    "* The functions explained are Built-in  Functions, User-defined Functions, Recursive Functions, Lambda   Function. A function is a block of code in Python that performs a particular task.\n",
    "* From a function's perspective:\n",
    "* A parameter is the variable listed inside the parentheses in the function definition.\n",
    "* An argument is the value that is sent to the function when it is called."
   ]
  },
  {
   "cell_type": "markdown",
   "id": "941b44fc",
   "metadata": {},
   "source": [
    "![](https://www.boardinfinity.com/blog/content/images/2023/02/Python-Function-1.png)"
   ]
  },
  {
   "cell_type": "markdown",
   "id": "e9ff18ae",
   "metadata": {},
   "source": [
    "## Calling a function:\n",
    "* def is a keyword, which tells the interoretor that we are defining a function\n",
    "* func_name is name we given to the function we are defining, it acts as a variable name to the block of code we are writing\n",
    "* parameter these can be considered as the variables we use to write/define our function\n",
    "* syntax for calling a function:\n",
    "  - fun_name(arg/s)\n",
    "* arg/s are the actual inputs for function"
   ]
  },
  {
   "cell_type": "code",
   "execution_count": 2,
   "id": "1d818bf3",
   "metadata": {},
   "outputs": [],
   "source": [
    "def foosum(a,b):# a&b are the parameters\n",
    "    print(a + b) "
   ]
  },
  {
   "cell_type": "code",
   "execution_count": 3,
   "id": "48d942ab",
   "metadata": {},
   "outputs": [
    {
     "name": "stdout",
     "output_type": "stream",
     "text": [
      "4\n"
     ]
    }
   ],
   "source": [
    "foosum(1,3)# these are arguments"
   ]
  },
  {
   "cell_type": "markdown",
   "id": "f72ff66a",
   "metadata": {},
   "source": [
    "## Arguments:\n",
    "* Information can be passed into functions as arguments.\n",
    "* Arguments are specified after the function name, inside the parentheses.\n",
    "* You can add as many arguments as you want, just separate them with a comma.\n",
    "* Python supports 3 types of arguments:\n",
    "    * Positional Arguments.\n",
    "    * Keyword Arguments.\n",
    "    * Default Arguments."
   ]
  },
  {
   "cell_type": "markdown",
   "id": "7991a537",
   "metadata": {},
   "source": [
    "![](https://builtin.com/sites/www.builtin.com/files/styles/ckeditor_optimize/public/inline-images/2_arguments-in-python.jpeg)"
   ]
  },
  {
   "cell_type": "markdown",
   "id": "e4922b1f",
   "metadata": {},
   "source": [
    "## Positional Arguments:\n",
    "\n",
    "* Positional arguments are arguments that need to be included in the proper position or order. \n",
    "* The first positional argument always needs to be listed first when the function is called. \n",
    "* The second positional argument needs to be listed second and the third positional argument listed third, etc"
   ]
  },
  {
   "cell_type": "code",
   "execution_count": 9,
   "id": "550f78f8",
   "metadata": {},
   "outputs": [],
   "source": [
    "def fooDivision(n,d):#(n is numerator,d is denominator) # position of parameters\n",
    "    print(n/d)"
   ]
  },
  {
   "cell_type": "code",
   "execution_count": 13,
   "id": "69a30125",
   "metadata": {},
   "outputs": [
    {
     "name": "stdout",
     "output_type": "stream",
     "text": [
      "5.0\n"
     ]
    }
   ],
   "source": [
    "fooDivision(10, 2) # positional arguments"
   ]
  },
  {
   "cell_type": "markdown",
   "id": "f7bfdcdf",
   "metadata": {},
   "source": [
    "## Keyword Arguments:\n",
    "* These are values that, when passed into a function, are identifiable by specific parameter names.\n",
    "* A keyword argument is preceded by a parameter and the assignment operator, = . Keyword arguments can be likened to dictionaries in that they map a value to a keyword. "
   ]
  },
  {
   "cell_type": "code",
   "execution_count": 6,
   "id": "1d4056e4",
   "metadata": {},
   "outputs": [],
   "source": [
    "def fooDivision(n,d):\n",
    "    print(n/d)"
   ]
  },
  {
   "cell_type": "code",
   "execution_count": 7,
   "id": "7e40bcf4",
   "metadata": {},
   "outputs": [
    {
     "name": "stdout",
     "output_type": "stream",
     "text": [
      "5.0\n"
     ]
    }
   ],
   "source": [
    "fooDivision(10, 2)"
   ]
  },
  {
   "cell_type": "code",
   "execution_count": 14,
   "id": "fa75f06a",
   "metadata": {},
   "outputs": [
    {
     "name": "stdout",
     "output_type": "stream",
     "text": [
      "5.0\n"
     ]
    }
   ],
   "source": [
    "fooDivision(n = 10, d = 2)"
   ]
  },
  {
   "cell_type": "code",
   "execution_count": 17,
   "id": "3fe7ff8a",
   "metadata": {},
   "outputs": [
    {
     "ename": "SyntaxError",
     "evalue": "positional argument follows keyword argument (3895778250.py, line 1)",
     "output_type": "error",
     "traceback": [
      "\u001b[1;36m  Cell \u001b[1;32mIn[17], line 1\u001b[1;36m\u001b[0m\n\u001b[1;33m    fooDivision(n = 10,2)\u001b[0m\n\u001b[1;37m                        ^\u001b[0m\n\u001b[1;31mSyntaxError\u001b[0m\u001b[1;31m:\u001b[0m positional argument follows keyword argument\n"
     ]
    }
   ],
   "source": [
    "fooDivision(n = 10,2)"
   ]
  },
  {
   "cell_type": "code",
   "execution_count": 9,
   "id": "388a8034",
   "metadata": {},
   "outputs": [],
   "source": [
    "def foo(a,b,c):\n",
    "    x = a + b\n",
    "    y = a / c\n",
    "    print(y)"
   ]
  },
  {
   "cell_type": "code",
   "execution_count": 10,
   "id": "9a99c01e",
   "metadata": {},
   "outputs": [
    {
     "name": "stdout",
     "output_type": "stream",
     "text": [
      "0.2\n"
     ]
    }
   ],
   "source": [
    "foo(1,2,c=5)"
   ]
  },
  {
   "cell_type": "code",
   "execution_count": 24,
   "id": "e1d8d5fa",
   "metadata": {},
   "outputs": [
    {
     "ename": "TypeError",
     "evalue": "foo() got multiple values for argument 'a'",
     "output_type": "error",
     "traceback": [
      "\u001b[1;31m---------------------------------------------------------------------------\u001b[0m",
      "\u001b[1;31mTypeError\u001b[0m                                 Traceback (most recent call last)",
      "Cell \u001b[1;32mIn[24], line 1\u001b[0m\n\u001b[1;32m----> 1\u001b[0m foo(\u001b[38;5;241m1\u001b[39m,\u001b[38;5;241m2\u001b[39m,a \u001b[38;5;241m=\u001b[39m \u001b[38;5;241m5\u001b[39m)\n",
      "\u001b[1;31mTypeError\u001b[0m: foo() got multiple values for argument 'a'"
     ]
    }
   ],
   "source": [
    "foo(1,2,a = 5) # it throws an error a is already asigned to 1 it cannot take 5"
   ]
  },
  {
   "cell_type": "markdown",
   "id": "0861b3d7",
   "metadata": {},
   "source": [
    "## Default Arguments:\n",
    "* Python has a different way of representing syntax and default values for function arguments.\n",
    "* Default values indicate that the function argument will take that value if no argument value is passed during the function call.\n",
    "* The default value is assigned by using the assignment(=) operator of the form keywordname=value.\n",
    "* Default arguments are passed at the time of defining a function.\n"
   ]
  },
  {
   "cell_type": "code",
   "execution_count": 30,
   "id": "98060b4f",
   "metadata": {},
   "outputs": [],
   "source": [
    "def fooPotentialEnergy(m, h, g = 9.8):\n",
    "    print(m*h*g)"
   ]
  },
  {
   "cell_type": "code",
   "execution_count": 33,
   "id": "ce4f397c",
   "metadata": {},
   "outputs": [
    {
     "name": "stdout",
     "output_type": "stream",
     "text": [
      "490.00000000000006\n"
     ]
    }
   ],
   "source": [
    "fooPotentialEnergy(10, 5)"
   ]
  },
  {
   "cell_type": "code",
   "execution_count": 34,
   "id": "0fef52a5",
   "metadata": {},
   "outputs": [
    {
     "name": "stdout",
     "output_type": "stream",
     "text": [
      "500\n"
     ]
    }
   ],
   "source": [
    "fooPotentialEnergy(10, 5, g = 10) # we can change the value given in parameter"
   ]
  },
  {
   "cell_type": "markdown",
   "id": "576e0700",
   "metadata": {},
   "source": [
    "## Documentation Strings\n",
    "* Documentation strings (or docstrings) provide a convenient way of associating documentation with Python modules, functions, classes, and methods.\n",
    "* It’s specified in source code that is used, like a comment, to document a specific segment of code. Unlike conventional source code comments, the docstring should describe what the function does, not how.\n",
    "* Declaring Docstrings:\n",
    "  * The docstrings are declared using ”’triple single quotes”’ or “”” triple double quotes “”” just below the class, method, or function declaration. All functions should have a docstring.\n",
    "* Accessing Docstrings:\n",
    "  * The docstrings can be accessed using the __ doc __ method of the object or using the help function. "
   ]
  },
  {
   "cell_type": "code",
   "execution_count": 39,
   "id": "0dc7c160",
   "metadata": {},
   "outputs": [],
   "source": [
    "def fooDivision(d : float, n :float ): # Doc string\n",
    "    '''\n",
    "    d = denominator\n",
    "    n = nume.......  \n",
    "    ....'''\n",
    "    print(n/d)"
   ]
  },
  {
   "cell_type": "code",
   "execution_count": 41,
   "id": "967ae9ce",
   "metadata": {},
   "outputs": [
    {
     "name": "stdout",
     "output_type": "stream",
     "text": [
      "\n",
      "    d = denominator\n",
      "    n = nume.......\n",
      "    ....\n"
     ]
    }
   ],
   "source": [
    "print(fooDivision.__doc__)"
   ]
  },
  {
   "cell_type": "code",
   "execution_count": 4,
   "id": "c28b2ec4",
   "metadata": {},
   "outputs": [],
   "source": [
    "def fooCocataenationOfString(s1 : str, s2 = '', n = 2):\n",
    "    print((s1+s2)*n)"
   ]
  },
  {
   "cell_type": "code",
   "execution_count": 51,
   "id": "d788d039",
   "metadata": {},
   "outputs": [
    {
     "name": "stdout",
     "output_type": "stream",
     "text": [
      "hehaahaa\n"
     ]
    }
   ],
   "source": [
    "fooCocataenationOfString('he', s2 = 'haahaa')"
   ]
  }
 ],
 "metadata": {
  "kernelspec": {
   "display_name": "Python 3 (ipykernel)",
   "language": "python",
   "name": "python3"
  },
  "language_info": {
   "codemirror_mode": {
    "name": "ipython",
    "version": 3
   },
   "file_extension": ".py",
   "mimetype": "text/x-python",
   "name": "python",
   "nbconvert_exporter": "python",
   "pygments_lexer": "ipython3",
   "version": "3.11.5"
  }
 },
 "nbformat": 4,
 "nbformat_minor": 5
}
