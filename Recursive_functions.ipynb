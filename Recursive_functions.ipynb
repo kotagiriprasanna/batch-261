{
 "cells": [
  {
   "cell_type": "markdown",
   "id": "f74bd1f6",
   "metadata": {},
   "source": [
    "## Recursive function :\n",
    " - Recursion is the process of defining something in terms of itself.\n",
    "\n",
    " - A physical world example would be to place two parallel mirrors facing each other. Any object in between them would be          reflected recursively.\n",
    " ![](https://www.programiz.com/sites/tutorial2program/files/python-recursion-function.png)"
   ]
  },
  {
   "cell_type": "code",
   "execution_count": 2,
   "id": "958387b7",
   "metadata": {},
   "outputs": [],
   "source": [
    "def foofact(n):\n",
    "    r = 1\n",
    "    for i in range(1,n+1):\n",
    "        r*=i\n",
    "    return r"
   ]
  },
  {
   "cell_type": "code",
   "execution_count": 3,
   "id": "7900f059",
   "metadata": {},
   "outputs": [
    {
     "data": {
      "text/plain": [
       "120"
      ]
     },
     "execution_count": 3,
     "metadata": {},
     "output_type": "execute_result"
    }
   ],
   "source": [
    "foofact(5)"
   ]
  },
  {
   "cell_type": "code",
   "execution_count": 4,
   "id": "192f4630",
   "metadata": {},
   "outputs": [],
   "source": [
    "def fooRecFact(n):\n",
    "    \n",
    "    if n == 1:\n",
    "        return 1\n",
    "    else:\n",
    "        return n * fooRecFact(n-1)"
   ]
  },
  {
   "cell_type": "code",
   "execution_count": 5,
   "id": "6295b1e1",
   "metadata": {},
   "outputs": [
    {
     "data": {
      "text/plain": [
       "120"
      ]
     },
     "execution_count": 5,
     "metadata": {},
     "output_type": "execute_result"
    }
   ],
   "source": [
    "fooRecFact(5)"
   ]
  },
  {
   "cell_type": "markdown",
   "id": "752b0003",
   "metadata": {},
   "source": [
    "## Stack memory : \n",
    "-The stack is a region of memory used for storing local variables and function call information. It operates on a Last-In-First-Out (LIFO) basis, where the most recently added item is the first to be removed.\n",
    "- The stack is a region of memory used for storing local variables and function call information. It operates on a Last-In-First-Out (LIFO) basis, where the most recently added item is the first to be removed.\n"
   ]
  },
  {
   "cell_type": "markdown",
   "id": "02a5a114",
   "metadata": {},
   "source": [
    "## Fib series: \n",
    "* A Fibonacci sequence is the integer sequence of 0, 1, 1, 2, 3, 5, 8....\n",
    "\n",
    "* The first two terms are 0 and 1. All other terms are obtained by adding the preceding two terms. This means to say the nth term is the sum of (n-1)th and (n-2)th term.\n",
    "* ![](https://www.scaler.com/topics/media/fibonacci-series-logic-in-python-768x714.png)"
   ]
  },
  {
   "cell_type": "code",
   "execution_count": null,
   "id": "0016257f",
   "metadata": {},
   "outputs": [],
   "source": [
    "* The values start with 0,1\n",
    "* The third value is adding the first two values\n",
    "* 0,1,1,2,3,5,8,13,21,..etc"
   ]
  },
  {
   "cell_type": "code",
   "execution_count": 12,
   "id": "426d5184",
   "metadata": {},
   "outputs": [],
   "source": [
    "def FooRecFib(n):\n",
    "    if n<=1:\n",
    "        return 1\n",
    "    else:\n",
    "        return FooRecfib(n-1)+FooRecfib(n-2)"
   ]
  },
  {
   "cell_type": "code",
   "execution_count": 13,
   "id": "3549d21b",
   "metadata": {},
   "outputs": [
    {
     "data": {
      "text/plain": [
       "1"
      ]
     },
     "execution_count": 13,
     "metadata": {},
     "output_type": "execute_result"
    }
   ],
   "source": [
    "FooRecFib(1)"
   ]
  },
  {
   "cell_type": "code",
   "execution_count": 25,
   "id": "97a644ac",
   "metadata": {},
   "outputs": [],
   "source": [
    "def fooRecFib(n):\n",
    "    if n <= 1:\n",
    "        return n\n",
    "    else:\n",
    "        return fooRecFib(n-1) + fooRecFib(n-2)"
   ]
  },
  {
   "cell_type": "code",
   "execution_count": 33,
   "id": "44d60ffc",
   "metadata": {},
   "outputs": [
    {
     "data": {
      "text/plain": [
       "2"
      ]
     },
     "execution_count": 33,
     "metadata": {},
     "output_type": "execute_result"
    }
   ],
   "source": [
    "fooRecFib(3)"
   ]
  },
  {
   "cell_type": "code",
   "execution_count": 26,
   "id": "29f7b9b8",
   "metadata": {},
   "outputs": [
    {
     "name": "stdout",
     "output_type": "stream",
     "text": [
      "0, 1, 1, 2, 3, "
     ]
    }
   ],
   "source": [
    "for i in range(5):\n",
    "    print(fooRecFib(i), end = ', ')"
   ]
  },
  {
   "cell_type": "code",
   "execution_count": 27,
   "id": "132d0a45",
   "metadata": {},
   "outputs": [
    {
     "name": "stdout",
     "output_type": "stream",
     "text": [
      "0, 1, 1, 2, "
     ]
    }
   ],
   "source": [
    "for i in range(4):\n",
    "    print(fooRecFib(i), end = ', ')"
   ]
  },
  {
   "cell_type": "code",
   "execution_count": 30,
   "id": "b566c1fd",
   "metadata": {},
   "outputs": [],
   "source": [
    "def fooRecFib(n):\n",
    "    if n <= 0:\n",
    "        return 0\n",
    "    elif n == 1:\n",
    "        return 1\n",
    "    else:\n",
    "        return fooRecFib(n-1)+fooRecFib(n-2)"
   ]
  },
  {
   "cell_type": "code",
   "execution_count": 31,
   "id": "d8f13db3",
   "metadata": {},
   "outputs": [
    {
     "data": {
      "text/plain": [
       "8"
      ]
     },
     "execution_count": 31,
     "metadata": {},
     "output_type": "execute_result"
    }
   ],
   "source": [
    "fooRecFib(6)"
   ]
  },
  {
   "cell_type": "markdown",
   "id": "e27901fa",
   "metadata": {},
   "source": [
    "### Args:\n",
    "* *Args allows us to pass a variable number of non-keyword arguments to a Python function.\n",
    "* In the function, we should use an asterisk ( * ) before the parameter name to pass a variable number of arguments.\n",
    "* *args (Non-Keyword Arguments)\n",
    "* The special syntax *args in function definitions in Python is used to pass a variable number of arguments to a function.\n",
    "* It is used to pass a non-keyworded, variable-length argument list. \n",
    "* What *args allows you to do is take in more arguments than the number of formal arguments that you previously defined. \n",
    "* With *args, any number of extra arguments can be tacked on to your current formal parameters (including zero extra arguments).\n",
    "* ![](https://prepinstadotcom.s3.ap-south-1.amazonaws.com/wp-content/uploads/2021/02/args.webp)"
   ]
  },
  {
   "cell_type": "code",
   "execution_count": 35,
   "id": "453a2180",
   "metadata": {},
   "outputs": [],
   "source": [
    "def foo(a, b, c = 0, *args, **kwargs):\n",
    "    r = a+b+c\n",
    "    for args in args:\n",
    "        r+=args\n",
    "    return r\n",
    "            "
   ]
  },
  {
   "cell_type": "code",
   "execution_count": 37,
   "id": "416a3c22",
   "metadata": {},
   "outputs": [
    {
     "data": {
      "text/plain": [
       "21"
      ]
     },
     "execution_count": 37,
     "metadata": {},
     "output_type": "execute_result"
    }
   ],
   "source": [
    "foo(1,2,3, *(4, 5, 6) )"
   ]
  },
  {
   "cell_type": "markdown",
   "id": "86bbaa12",
   "metadata": {},
   "source": [
    "## Kwargs      \n",
    "* The special syntax **kwargs in function definitions in Python is used to pass a keyworded, variable-length argument list. \n",
    "* We use the name kwargs with the double star.\n",
    "* The reason is that the double star allows us to pass through keyword arguments (and any number of them).\n",
    "\n",
    "* A keyword argument is where you provide a name to the variable as you pass it into the function.\n",
    "* One can think of the kwargs as being a dictionary that maps each keyword to the value that we pass alongside it. \n",
    "* That is why when we iterate over the kwargs there doesn’t seem to be any order in which they were printed out."
   ]
  },
  {
   "cell_type": "code",
   "execution_count": 41,
   "id": "53b0b46e",
   "metadata": {},
   "outputs": [],
   "source": [
    "def foo(a, b , c = 0, *args,**kwargs):\n",
    "    r = a+b+c\n",
    "    for arg in args:\n",
    "        r+=arg\n",
    "        \n",
    "    for kwarg in kwargs:\n",
    "        print(kwargs[kwarg])\n",
    "    return r"
   ]
  },
  {
   "cell_type": "code",
   "execution_count": 42,
   "id": "c57fdb0a",
   "metadata": {},
   "outputs": [
    {
     "name": "stdout",
     "output_type": "stream",
     "text": [
      "[1, 2, 3]\n"
     ]
    },
    {
     "data": {
      "text/plain": [
       "21"
      ]
     },
     "execution_count": 42,
     "metadata": {},
     "output_type": "execute_result"
    }
   ],
   "source": [
    "foo(1,2,3, *(4,5,6),**{'marks':[1,2,3]})"
   ]
  },
  {
   "cell_type": "code",
   "execution_count": 48,
   "id": "062d74a8",
   "metadata": {},
   "outputs": [],
   "source": [
    "def fooStuMarks(**kwargs):\n",
    "    for kwarg in kwargs:\n",
    "        print(f'Total Marks scored by {kwarg} is {sum(kwargs[kwarg])}')"
   ]
  },
  {
   "cell_type": "code",
   "execution_count": 49,
   "id": "af653487",
   "metadata": {},
   "outputs": [
    {
     "name": "stdout",
     "output_type": "stream",
     "text": [
      "Total Marks scored by ram is 60\n",
      "Total Marks scored by rahim is 60\n",
      "Total Marks scored by robert is 60\n"
     ]
    }
   ],
   "source": [
    "fooStuMarks(**{'ram':(10,20,30),\n",
    "               'rahim':[30,20,10],\n",
    "               'robert':{10,20,30}\n",
    "              })"
   ]
  },
  {
   "cell_type": "code",
   "execution_count": null,
   "id": "25a11bbc",
   "metadata": {},
   "outputs": [],
   "source": []
  },
  {
   "cell_type": "code",
   "execution_count": null,
   "id": "e5924bb2",
   "metadata": {},
   "outputs": [],
   "source": []
  }
 ],
 "metadata": {
  "kernelspec": {
   "display_name": "Python 3 (ipykernel)",
   "language": "python",
   "name": "python3"
  },
  "language_info": {
   "codemirror_mode": {
    "name": "ipython",
    "version": 3
   },
   "file_extension": ".py",
   "mimetype": "text/x-python",
   "name": "python",
   "nbconvert_exporter": "python",
   "pygments_lexer": "ipython3",
   "version": "3.11.5"
  }
 },
 "nbformat": 4,
 "nbformat_minor": 5
}
