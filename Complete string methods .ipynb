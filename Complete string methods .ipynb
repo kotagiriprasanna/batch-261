{
 "cells": [
  {
   "cell_type": "markdown",
   "id": "14e1b74d",
   "metadata": {},
   "source": [
    "## STRING\n",
    "\n",
    "* Strings in python are surrounded by either single quotation marks, or double quotation marks.\n"
   ]
  },
  {
   "cell_type": "code",
   "execution_count": 1,
   "id": "1218f0a6",
   "metadata": {},
   "outputs": [
    {
     "name": "stdout",
     "output_type": "stream",
     "text": [
      "prasanna\n"
     ]
    }
   ],
   "source": [
    "x = 'prasanna'\n",
    "print(x)"
   ]
  },
  {
   "cell_type": "markdown",
   "id": "9eafcb50",
   "metadata": {},
   "source": [
    "## Class :\n",
    "  \n",
    " A class is like a blueprint or template for creating objects in computer programming.\n",
    " \n",
    "  * Blue print of the objects.\n",
    "  * defines the properties (attributes) and behaviors (methods) that the objects belonging to that class will have.\n"
   ]
  },
  {
   "cell_type": "code",
   "execution_count": 4,
   "id": "13caa9bb",
   "metadata": {},
   "outputs": [
    {
     "name": "stdout",
     "output_type": "stream",
     "text": [
      "hello <class 'str'>\n"
     ]
    }
   ],
   "source": [
    "x = 'hello'\n",
    "print(x, type(x))"
   ]
  },
  {
   "cell_type": "code",
   "execution_count": 2,
   "id": "c28a3813",
   "metadata": {},
   "outputs": [
    {
     "name": "stdout",
     "output_type": "stream",
     "text": [
      "['__add__', '__class__', '__contains__', '__delattr__', '__dir__', '__doc__', '__eq__', '__format__', '__ge__', '__getattribute__', '__getitem__', '__getnewargs__', '__getstate__', '__gt__', '__hash__', '__init__', '__init_subclass__', '__iter__', '__le__', '__len__', '__lt__', '__mod__', '__mul__', '__ne__', '__new__', '__reduce__', '__reduce_ex__', '__repr__', '__rmod__', '__rmul__', '__setattr__', '__sizeof__', '__str__', '__subclasshook__', 'capitalize', 'casefold', 'center', 'count', 'encode', 'endswith', 'expandtabs', 'find', 'format', 'format_map', 'index', 'isalnum', 'isalpha', 'isascii', 'isdecimal', 'isdigit', 'isidentifier', 'islower', 'isnumeric', 'isprintable', 'isspace', 'istitle', 'isupper', 'join', 'ljust', 'lower', 'lstrip', 'maketrans', 'partition', 'removeprefix', 'removesuffix', 'replace', 'rfind', 'rindex', 'rjust', 'rpartition', 'rsplit', 'rstrip', 'split', 'splitlines', 'startswith', 'strip', 'swapcase', 'title', 'translate', 'upper', 'zfill']\n"
     ]
    }
   ],
   "source": [
    "print(dir('x'))"
   ]
  },
  {
   "cell_type": "markdown",
   "id": "2ea3e79b",
   "metadata": {},
   "source": [
    "## Ascii (or) Unicode\n",
    "\n",
    "* ASCII stands for “American Standard Code for Information Interchange”. \n",
    "* It is a character encoding standard that assigns unique numeric values to different characters, including letters, digits, and   symbols.\n",
    "* In Python, we can find the ASCII value of a given character using the ord() function.\n",
    "* The ord() function takes the given character as input and returns the ASCII value of the character.\n",
    "* ord - Any numbers whose ascii values lies between 65 to 90 is capital letters.\n"
   ]
  },
  {
   "cell_type": "markdown",
   "id": "f70dd86f",
   "metadata": {},
   "source": [
    "## String Methods :\n",
    " * String operations are like tools that you can use to work with text (strings) in computer programming.\n",
    "strings are immutable, the resulting strings from string methods have a new memory location.\n",
    "in order to use these strings, we need re-assign it to a variable.\n",
    "\n",
    " String_Upper_Case():\n",
    " \n",
    " * This method changes all the characters in a string to capital alphabets. \n",
    "   x.upper()"
   ]
  },
  {
   "cell_type": "code",
   "execution_count": 10,
   "id": "53d6d756",
   "metadata": {},
   "outputs": [
    {
     "name": "stdout",
     "output_type": "stream",
     "text": [
      "PYTHON\n"
     ]
    },
    {
     "data": {
      "text/plain": [
       "'python'"
      ]
     },
     "execution_count": 10,
     "metadata": {},
     "output_type": "execute_result"
    }
   ],
   "source": [
    "x = 'PYTHON'\n",
    "print(x)\n",
    "x.lower()"
   ]
  },
  {
   "cell_type": "markdown",
   "id": "ea61fcb9",
   "metadata": {},
   "source": [
    "## String_lower_case() :\n",
    "    \n",
    "* This method changes all the characters in a string to small letters.\n",
    "\n",
    "* lower case\n",
    " str = 'She sells seashellsby the seashore'\n",
    " str.lower()"
   ]
  },
  {
   "cell_type": "code",
   "execution_count": null,
   "id": "92d3d996",
   "metadata": {},
   "outputs": [],
   "source": [
    "* strings are <u>**'immutable'<\\u>, the resulting strings from string methods have a new memory location \n",
    "* in order to use strings, we need to reassign it to a variable"
   ]
  },
  {
   "cell_type": "markdown",
   "id": "79beb56d",
   "metadata": {},
   "source": [
    "## String_Upper_Case():\n",
    " \n",
    " * This method changes all the characters in a string to capital alphabets. \n",
    "   x.upper()\n",
    "\n",
    " * upper case\n",
    " str = 'peter piper picked a peak of pickled persons \n",
    " str.upper()"
   ]
  },
  {
   "cell_type": "code",
   "execution_count": 20,
   "id": "ee97c4cd",
   "metadata": {},
   "outputs": [
    {
     "data": {
      "text/plain": [
       "1956794804208"
      ]
     },
     "execution_count": 20,
     "metadata": {},
     "output_type": "execute_result"
    }
   ],
   "source": [
    "id(x)"
   ]
  },
  {
   "cell_type": "code",
   "execution_count": 22,
   "id": "bccd5330",
   "metadata": {},
   "outputs": [
    {
     "data": {
      "text/plain": [
       "1956809537920"
      ]
     },
     "execution_count": 22,
     "metadata": {},
     "output_type": "execute_result"
    }
   ],
   "source": [
    "x = [1,2,3]\n",
    "id(x)"
   ]
  },
  {
   "cell_type": "markdown",
   "id": "f6c73846",
   "metadata": {},
   "source": [
    "## String_capitalize() :\n",
    "    \n",
    "* This method changes first word, first alphabet will be convert into capital letter\n",
    "\n",
    "* Capitalize()"
   ]
  },
  {
   "cell_type": "code",
   "execution_count": 7,
   "id": "7df0bbb3",
   "metadata": {},
   "outputs": [
    {
     "name": "stdout",
     "output_type": "stream",
     "text": [
      "Where are you\n"
     ]
    }
   ],
   "source": [
    "x = \"where are you\"\n",
    "capitalized_x = x.capitalize()\n",
    "print(capitalized_x)"
   ]
  },
  {
   "cell_type": "markdown",
   "id": "1e58141b",
   "metadata": {},
   "source": [
    "### title()\n",
    "* converts every first alphabet of every word in capital case\n",
    "* str.title()"
   ]
  },
  {
   "cell_type": "code",
   "execution_count": 31,
   "id": "04c3c1b2",
   "metadata": {},
   "outputs": [
    {
     "data": {
      "text/plain": [
       "'123Abc !Def Zx 1234!!@@C'"
      ]
     },
     "execution_count": 31,
     "metadata": {},
     "output_type": "execute_result"
    }
   ],
   "source": [
    "'123abc !def zx 1234!!@@c'.title()"
   ]
  },
  {
   "cell_type": "markdown",
   "id": "8c8bf69b",
   "metadata": {},
   "source": [
    "### String Swapcase()\n",
    "\n",
    "* This method changes capital letters to small letters and small letters to capital letters.\n",
    "  str.swapcase()"
   ]
  },
  {
   "cell_type": "code",
   "execution_count": 12,
   "id": "0135595d",
   "metadata": {},
   "outputs": [
    {
     "name": "stdout",
     "output_type": "stream",
     "text": [
      "WELCOME\n"
     ]
    }
   ],
   "source": [
    "char = \"welcome\"\n",
    "swapcase_char = char.swapcase()\n",
    "print(swapcase_char)"
   ]
  },
  {
   "cell_type": "markdown",
   "id": "fb10dcab",
   "metadata": {},
   "source": [
    "## casefold()"
   ]
  },
  {
   "cell_type": "code",
   "execution_count": null,
   "id": "8a71c8e1",
   "metadata": {},
   "outputs": [],
   "source": [
    "* This method changes string lower case to more lower case , special characters like Germen character (ß) is already in lower     case so, the lower method doesn’t make the conversion.\n",
    "* but the casefold() method will convert ß to its equivalent character ss\n",
    "\n",
    "x = 'SjuhdßcnjdGIUN'\n",
    "x.casefold()\n"
   ]
  },
  {
   "cell_type": "markdown",
   "id": "f535a770",
   "metadata": {},
   "source": [
    "2.\n",
    " \n",
    " * Explain why strings are Immutable by taking a string method as an example.\n",
    " \n",
    "  strings are immutable, the resulting strings from string methods have a new memory location.\n",
    "\n",
    "  p=\"Prasanna\"\n",
    "  print(id(p))"
   ]
  },
  {
   "cell_type": "markdown",
   "id": "5428f11b",
   "metadata": {},
   "source": [
    "1)\n",
    "\n",
    "* Take a two strings of your choice,\n",
    "\n",
    " i) Reverse one string\n",
    "    reversing an string we use indexing operation[start🔚step_size]\n",
    " \n",
    "* In step size by giving negative value to it, changes the direction from right to left, and it will reversed."
   ]
  },
  {
   "cell_type": "code",
   "execution_count": 4,
   "id": "87f12cf6",
   "metadata": {},
   "outputs": [
    {
     "data": {
      "text/plain": [
       "'dlrow'"
      ]
     },
     "execution_count": 4,
     "metadata": {},
     "output_type": "execute_result"
    }
   ],
   "source": [
    "x = 'hello'\n",
    "y = 'world'\n",
    "y = y[::-1]\n",
    "y"
   ]
  },
  {
   "cell_type": "markdown",
   "id": "660d8eb8",
   "metadata": {},
   "source": [
    "ii) Concatenate these two strings\n",
    "\n",
    "    * concatinating two strings, we use + to add these two strings together."
   ]
  },
  {
   "cell_type": "code",
   "execution_count": 6,
   "id": "82c9c390",
   "metadata": {},
   "outputs": [
    {
     "data": {
      "text/plain": [
       "'helloworld'"
      ]
     },
     "execution_count": 6,
     "metadata": {},
     "output_type": "execute_result"
    }
   ],
   "source": [
    "x = 'hello'\n",
    "y = 'world'\n",
    "z = x + y\n",
    "z"
   ]
  },
  {
   "cell_type": "markdown",
   "id": "d160e970",
   "metadata": {},
   "source": [
    "iii) Get the alternate chars of the concatenate string in reverse order.\n",
    "\n",
    "* first, we take the two strings\n",
    "* Then, we add the strings by using concatination operation and assign these value to new variable\n",
    "* These variable will reverse the string by using reverse operation, and to get alternative values to that string we use           step_size value as -3 then we get the required alternate chars of the concatenate string in reverse order"
   ]
  },
  {
   "cell_type": "code",
   "execution_count": 3,
   "id": "86ba358f",
   "metadata": {},
   "outputs": [
    {
     "data": {
      "text/plain": [
       "'dolh'"
      ]
     },
     "execution_count": 3,
     "metadata": {},
     "output_type": "execute_result"
    }
   ],
   "source": [
    "x = 'hello'\n",
    "y = 'world'\n",
    "z = x + y\n",
    "z = z[::-3]\n",
    "z"
   ]
  },
  {
   "cell_type": "code",
   "execution_count": 27,
   "id": "57f82625",
   "metadata": {},
   "outputs": [],
   "source": [
    "txt = \"Hello World\"\n",
    "x = txt[2:5]"
   ]
  },
  {
   "cell_type": "markdown",
   "id": "f36fa576",
   "metadata": {},
   "source": [
    "## find()\n",
    "\n",
    "- In Python, the find() method is used to locate the index position at which the first instance of a string occurs in another     string *1234.\n",
    "- The method returns the starting index position of the value for which you are searching* 1.\n",
    "- If the value cannot be found, the method returns -1*1234."
   ]
  },
  {
   "cell_type": "code",
   "execution_count": 1,
   "id": "d7125744",
   "metadata": {},
   "outputs": [
    {
     "name": "stdout",
     "output_type": "stream",
     "text": [
      "Help on method_descriptor:\n",
      "\n",
      "find(...)\n",
      "    S.find(sub[, start[, end]]) -> int\n",
      "    \n",
      "    Return the lowest index in S where substring sub is found,\n",
      "    such that sub is contained within S[start:end].  Optional\n",
      "    arguments start and end are interpreted as in slice notation.\n",
      "    \n",
      "    Return -1 on failure.\n",
      "\n"
     ]
    }
   ],
   "source": [
    "help(str.find)"
   ]
  },
  {
   "cell_type": "markdown",
   "id": "a999a6df",
   "metadata": {},
   "source": [
    "* Here, S is the string in which we want to search for the substring sub.\n",
    "* The 'start' and 'end' parameters are optional and specify the range of the string to be searched.\n",
    "* If the 'substring' is found, the method returns the index of its first occurrence. \n",
    "* If not, it returns -1."
   ]
  },
  {
   "cell_type": "code",
   "execution_count": 2,
   "id": "41a282e8",
   "metadata": {},
   "outputs": [
    {
     "data": {
      "text/plain": [
       "\"Peter Piper picked a peck of pickled peppers\\nA peck of pickled peppers Peter Piper picked.\\nIf Peter Piper picked a peck of pickled peppers,\\nWhere's the peck of pickled peppers that Peter Piper picked?\""
      ]
     },
     "execution_count": 2,
     "metadata": {},
     "output_type": "execute_result"
    }
   ],
   "source": [
    "xl = '''Peter Piper picked a peck of pickled peppers\n",
    "A peck of pickled peppers Peter Piper picked.\n",
    "If Peter Piper picked a peck of pickled peppers,\n",
    "Where's the peck of pickled peppers that Peter Piper picked?'''\n",
    "xl"
   ]
  },
  {
   "cell_type": "code",
   "execution_count": 3,
   "id": "250372bf",
   "metadata": {},
   "outputs": [
    {
     "data": {
      "text/plain": [
       "19"
      ]
     },
     "execution_count": 3,
     "metadata": {},
     "output_type": "execute_result"
    }
   ],
   "source": [
    "xl.find('a') "
   ]
  },
  {
   "cell_type": "code",
   "execution_count": 4,
   "id": "6edfcd10",
   "metadata": {},
   "outputs": [
    {
     "data": {
      "text/plain": [
       "113"
      ]
     },
     "execution_count": 4,
     "metadata": {},
     "output_type": "execute_result"
    }
   ],
   "source": [
    "xl. find('a', 20)"
   ]
  },
  {
   "cell_type": "code",
   "execution_count": 5,
   "id": "98f94031",
   "metadata": {},
   "outputs": [
    {
     "data": {
      "text/plain": [
       "-1"
      ]
     },
     "execution_count": 5,
     "metadata": {},
     "output_type": "execute_result"
    }
   ],
   "source": [
    "xl. find('a', 0, 10) #start  and end index"
   ]
  },
  {
   "cell_type": "markdown",
   "id": "2099cd7a",
   "metadata": {},
   "source": [
    "## count()\n",
    "\n",
    "* function is an inbuilt function in Python programming language that returns the number of occurrences of a substring in the given string. "
   ]
  },
  {
   "cell_type": "code",
   "execution_count": 7,
   "id": "fc529ad6",
   "metadata": {},
   "outputs": [
    {
     "data": {
      "text/plain": [
       "4"
      ]
     },
     "execution_count": 7,
     "metadata": {},
     "output_type": "execute_result"
    }
   ],
   "source": [
    "xl.count('Peter')"
   ]
  },
  {
   "cell_type": "code",
   "execution_count": 8,
   "id": "91a91cdf",
   "metadata": {},
   "outputs": [
    {
     "data": {
      "text/plain": [
       "28"
      ]
     },
     "execution_count": 8,
     "metadata": {},
     "output_type": "execute_result"
    }
   ],
   "source": [
    "xl.count('p')"
   ]
  },
  {
   "cell_type": "code",
   "execution_count": 9,
   "id": "08affdb3",
   "metadata": {},
   "outputs": [
    {
     "name": "stdout",
     "output_type": "stream",
     "text": [
      "Help on built-in function count:\n",
      "\n",
      "count(...) method of builtins.str instance\n",
      "    S.count(sub[, start[, end]]) -> int\n",
      "    \n",
      "    Return the number of non-overlapping occurrences of substring sub in\n",
      "    string S[start:end].  Optional arguments start and end are\n",
      "    interpreted as in slice notation.\n",
      "\n"
     ]
    }
   ],
   "source": [
    "help(xl.count)"
   ]
  },
  {
   "cell_type": "markdown",
   "id": "6374b914",
   "metadata": {},
   "source": [
    "* sub: The substring to search for in the given string.\n",
    "* start: The starting index of the search.\n",
    "  If not specified, the search starts from the beginning of the string.\n",
    "* end: The ending index of the search. \n",
    "  If not specified, the search continues to the end of the string."
   ]
  },
  {
   "cell_type": "markdown",
   "id": "3bf9c91a",
   "metadata": {},
   "source": [
    "### rfind()\n",
    "* The find() method is a string method in Python that returns the index of the first occurrence of a substring in a given         string.\n",
    "* If the substring is not found, it returns -112.\n"
   ]
  },
  {
   "cell_type": "code",
   "execution_count": 10,
   "id": "5d08efa3",
   "metadata": {},
   "outputs": [
    {
     "name": "stdout",
     "output_type": "stream",
     "text": [
      "Peter Piper picked a peck of pickled peppers\n",
      "A peck of pickled peppers Peter Piper picked.\n",
      "If Peter Piper picked a peck of pickled peppers,\n",
      "Where's the peck of pickled peppers that Peter Piper picked?\n"
     ]
    }
   ],
   "source": [
    "xl = '''Peter Piper picked a peck of pickled peppers\n",
    "A peck of pickled peppers Peter Piper picked.\n",
    "If Peter Piper picked a peck of pickled peppers,\n",
    "Where's the peck of pickled peppers that Peter Piper picked?'''\n",
    "print(xl)"
   ]
  },
  {
   "cell_type": "code",
   "execution_count": 11,
   "id": "cb0e6a9f",
   "metadata": {},
   "outputs": [
    {
     "data": {
      "text/plain": [
       "178"
      ]
     },
     "execution_count": 11,
     "metadata": {},
     "output_type": "execute_result"
    }
   ],
   "source": [
    "xl.rfind('a')"
   ]
  },
  {
   "cell_type": "code",
   "execution_count": 12,
   "id": "ee1b6abc",
   "metadata": {},
   "outputs": [
    {
     "data": {
      "text/plain": [
       "113"
      ]
     },
     "execution_count": 12,
     "metadata": {},
     "output_type": "execute_result"
    }
   ],
   "source": [
    "xl.rfind('a', 12, 140)"
   ]
  },
  {
   "cell_type": "code",
   "execution_count": 13,
   "id": "26262ba4",
   "metadata": {},
   "outputs": [
    {
     "data": {
      "text/plain": [
       "7"
      ]
     },
     "execution_count": 13,
     "metadata": {},
     "output_type": "execute_result"
    }
   ],
   "source": [
    "'malayalam'.rfind('a',2)"
   ]
  },
  {
   "cell_type": "code",
   "execution_count": 13,
   "id": "aeb5fcfb",
   "metadata": {},
   "outputs": [
    {
     "data": {
      "text/plain": [
       "5"
      ]
     },
     "execution_count": 13,
     "metadata": {},
     "output_type": "execute_result"
    }
   ],
   "source": [
    "'malayalam'.rfind('a',2,7)"
   ]
  },
  {
   "cell_type": "markdown",
   "id": "0dd1df5f",
   "metadata": {},
   "source": [
    "## index()\n",
    "\n",
    "* The index() method in Python is used to find the index of the first occurrence of a substring within a string.\n",
    "* It returns the index of the substring if found, and raises a ValueError if the substring is not present 12345."
   ]
  },
  {
   "cell_type": "code",
   "execution_count": 17,
   "id": "ceb5b522",
   "metadata": {},
   "outputs": [
    {
     "data": {
      "text/plain": [
       "(1, 1)"
      ]
     },
     "execution_count": 17,
     "metadata": {},
     "output_type": "execute_result"
    }
   ],
   "source": [
    "m = 'malayam'\n",
    "m.find('a'), m.index('a')"
   ]
  },
  {
   "cell_type": "code",
   "execution_count": 19,
   "id": "ed4de477",
   "metadata": {},
   "outputs": [
    {
     "data": {
      "text/plain": [
       "-1"
      ]
     },
     "execution_count": 19,
     "metadata": {},
     "output_type": "execute_result"
    }
   ],
   "source": [
    "m.find('z')## gives -1 as value because there is no alphabet \"z\" in the string"
   ]
  },
  {
   "cell_type": "code",
   "execution_count": 21,
   "id": "0653c48c",
   "metadata": {},
   "outputs": [
    {
     "ename": "ValueError",
     "evalue": "substring not found",
     "output_type": "error",
     "traceback": [
      "\u001b[1;31m---------------------------------------------------------------------------\u001b[0m",
      "\u001b[1;31mValueError\u001b[0m                                Traceback (most recent call last)",
      "Cell \u001b[1;32mIn[21], line 1\u001b[0m\n\u001b[1;32m----> 1\u001b[0m m\u001b[38;5;241m.\u001b[39mindex(\u001b[38;5;124m'\u001b[39m\u001b[38;5;124mz\u001b[39m\u001b[38;5;124m'\u001b[39m)\n",
      "\u001b[1;31mValueError\u001b[0m: substring not found"
     ]
    }
   ],
   "source": [
    "m.index('z')## throws an error value error if ther is no alphabet \"z\" in string(# uncomment to see the error)"
   ]
  },
  {
   "cell_type": "markdown",
   "id": "be61ebe4",
   "metadata": {},
   "source": [
    "## rindex()\n",
    "\n",
    "* it is a built-in method in Python that returns the highest index of the specified substring in a string. \n",
    "* It is similar to the index() method, but instead of returning the first occurrence of the substring, it returns the last occurrence\n"
   ]
  },
  {
   "attachments": {
    "python-string-indexing.webp": {
     "image/webp": "[encoded data removed]"
    }
   },
   "cell_type": "markdown",
   "id": "8deea1cb",
   "metadata": {},
   "source": [
    "![python-string-indexing.webp](attachment:python-string-indexing.webp)"
   ]
  },
  {
   "cell_type": "code",
   "execution_count": 24,
   "id": "3716c5d6",
   "metadata": {},
   "outputs": [
    {
     "data": {
      "text/plain": [
       "5"
      ]
     },
     "execution_count": 24,
     "metadata": {},
     "output_type": "execute_result"
    }
   ],
   "source": [
    "m.rindex('a')"
   ]
  },
  {
   "cell_type": "markdown",
   "id": "58f46a80",
   "metadata": {},
   "source": [
    "## replace()\n",
    "\n",
    "* replace() is a built-in method in Python that allows you to replace a substring with another substring in a string. \n",
    "* The syntax of the replace()"
   ]
  },
  {
   "cell_type": "code",
   "execution_count": 27,
   "id": "58166d18",
   "metadata": {},
   "outputs": [
    {
     "name": "stdout",
     "output_type": "stream",
     "text": [
      "Help on built-in function replace:\n",
      "\n",
      "replace(old, new, count=-1, /) method of builtins.str instance\n",
      "    Return a copy with all occurrences of substring old replaced by new.\n",
      "    \n",
      "      count\n",
      "        Maximum number of occurrences to replace.\n",
      "        -1 (the default value) means replace all occurrences.\n",
      "    \n",
      "    If the optional argument count is given, only the first count occurrences are\n",
      "    replaced.\n",
      "\n"
     ]
    }
   ],
   "source": [
    "help(m.replace)"
   ]
  },
  {
   "cell_type": "markdown",
   "id": "2d985543",
   "metadata": {},
   "source": [
    "* old: The substring to be replaced.\n",
    "* new: The substring to replace the old substring.\n",
    "* count: The number of occurrences to replace. If not specified, all occurrences will be replaced."
   ]
  },
  {
   "cell_type": "code",
   "execution_count": 29,
   "id": "a694c0cc",
   "metadata": {},
   "outputs": [
    {
     "data": {
      "text/plain": [
       "'MalayaM'"
      ]
     },
     "execution_count": 29,
     "metadata": {},
     "output_type": "execute_result"
    }
   ],
   "source": [
    "m.replace('m', 'M') "
   ]
  },
  {
   "cell_type": "code",
   "execution_count": 31,
   "id": "58180c44",
   "metadata": {},
   "outputs": [
    {
     "data": {
      "text/plain": [
       "'mAlAyam'"
      ]
     },
     "execution_count": 31,
     "metadata": {},
     "output_type": "execute_result"
    }
   ],
   "source": [
    "m.replace('a', 'A', 2)"
   ]
  },
  {
   "cell_type": "code",
   "execution_count": 15,
   "id": "b1cae98f",
   "metadata": {},
   "outputs": [
    {
     "data": {
      "text/plain": [
       "'mAlAyAm'"
      ]
     },
     "execution_count": 15,
     "metadata": {},
     "output_type": "execute_result"
    }
   ],
   "source": [
    "m = 'malayam'\n",
    "m.replace('a', 'A', 5)"
   ]
  },
  {
   "cell_type": "markdown",
   "id": "344aca49",
   "metadata": {},
   "source": [
    "#### split()\n",
    "\n",
    "* split() is a built-in method in Python that allows you to split a string into a list of substrings. \n",
    "* The syntax of the split()\n",
    "* Here, separator is an optional parameter that specifies the delimiter based on which the given string or line is separated. \n",
    "* If you don’t specify separator, the default separator is any whitespace.\n",
    "* maxsplit is also an optional parameter that specifies the number of times a given string or line can be split up.\n",
    "* The default value of maxsplit is -1, which means “all occurrences”."
   ]
  },
  {
   "cell_type": "code",
   "execution_count": 16,
   "id": "89e0cb7a",
   "metadata": {},
   "outputs": [
    {
     "data": {
      "text/plain": [
       "['Peter',\n",
       " 'Piper',\n",
       " 'picked',\n",
       " 'a',\n",
       " 'peck',\n",
       " 'of',\n",
       " 'pickled',\n",
       " 'peppers',\n",
       " 'A',\n",
       " 'peck',\n",
       " 'of',\n",
       " 'pickled',\n",
       " 'peppers',\n",
       " 'Peter',\n",
       " 'Piper',\n",
       " 'picked.',\n",
       " 'If',\n",
       " 'Peter',\n",
       " 'Piper',\n",
       " 'picked',\n",
       " 'a',\n",
       " 'peck',\n",
       " 'of',\n",
       " 'pickled',\n",
       " 'peppers,',\n",
       " \"Where's\",\n",
       " 'the',\n",
       " 'peck',\n",
       " 'of',\n",
       " 'pickled',\n",
       " 'peppers',\n",
       " 'that',\n",
       " 'Peter',\n",
       " 'Piper',\n",
       " 'picked?']"
      ]
     },
     "execution_count": 16,
     "metadata": {},
     "output_type": "execute_result"
    }
   ],
   "source": [
    "xl.split()"
   ]
  },
  {
   "cell_type": "code",
   "execution_count": 36,
   "id": "b2297faa",
   "metadata": {},
   "outputs": [
    {
     "name": "stdout",
     "output_type": "stream",
     "text": [
      "Help on built-in function split:\n",
      "\n",
      "split(sep=None, maxsplit=-1) method of builtins.str instance\n",
      "    Return a list of the substrings in the string, using sep as the separator string.\n",
      "    \n",
      "      sep\n",
      "        The separator used to split the string.\n",
      "    \n",
      "        When set to None (the default value), will split on any whitespace\n",
      "        character (including \\\\n \\\\r \\\\t \\\\f and spaces) and will discard\n",
      "        empty strings from the result.\n",
      "      maxsplit\n",
      "        Maximum number of splits (starting from the left).\n",
      "        -1 (the default value) means no limit.\n",
      "    \n",
      "    Note, str.split() is mainly useful for data that has been intentionally\n",
      "    delimited.  With natural text that includes punctuation, consider using\n",
      "    the regular expression module.\n",
      "\n"
     ]
    }
   ],
   "source": [
    "help(xl.split)"
   ]
  },
  {
   "cell_type": "markdown",
   "id": "33104973",
   "metadata": {},
   "source": [
    "* The split() function takes two optional parameters:sep and maxsplit. \n",
    "* The 'sep' parameter specifies the delimiter to be used for splitting the string,\n",
    "  and the 'maxsplit' parameter specifies the maximum number of splits to be performed."
   ]
  },
  {
   "cell_type": "code",
   "execution_count": 17,
   "id": "6e143ce7",
   "metadata": {},
   "outputs": [
    {
     "data": {
      "text/plain": [
       "['Peter',\n",
       " 'Piper',\n",
       " 'picked',\n",
       " \"a peck of pickled peppers\\nA peck of pickled peppers Peter Piper picked.\\nIf Peter Piper picked a peck of pickled peppers,\\nWhere's the peck of pickled peppers that Peter Piper picked?\"]"
      ]
     },
     "execution_count": 17,
     "metadata": {},
     "output_type": "execute_result"
    }
   ],
   "source": [
    "xl.split(' ', maxsplit = 3)"
   ]
  },
  {
   "cell_type": "code",
   "execution_count": 18,
   "id": "12d7f513",
   "metadata": {},
   "outputs": [
    {
     "data": {
      "text/plain": [
       "['Peter',\n",
       " 'Piper',\n",
       " 'picked',\n",
       " 'a',\n",
       " \"peck of pickled peppers\\nA peck of pickled peppers Peter Piper picked.\\nIf Peter Piper picked a peck of pickled peppers,\\nWhere's the peck of pickled peppers that Peter Piper picked?\"]"
      ]
     },
     "execution_count": 18,
     "metadata": {},
     "output_type": "execute_result"
    }
   ],
   "source": [
    "xl.split(maxsplit=4) ## split() split spaces from left to right"
   ]
  },
  {
   "cell_type": "markdown",
   "id": "fec05430",
   "metadata": {},
   "source": [
    "### rsplit()\n",
    "\n",
    "* rsplit() is a built-in method in Python that allows you to split a string into a list of substrings.\n",
    "* The syntax of the rsplit()\n",
    "* The difference between split() and rsplit() is that split() splits the string from the left, while rsplit() splits the string   from the right."
   ]
  },
  {
   "cell_type": "code",
   "execution_count": 19,
   "id": "4ff74afb",
   "metadata": {},
   "outputs": [
    {
     "data": {
      "text/plain": [
       "[\"Peter Piper picked a peck of pickled peppers\\nA peck of pickled peppers Peter Piper picked.\\nIf Peter Piper picked a peck of pickled peppers,\\nWhere's the peck of pickled peppers that Peter Piper picked?\"]"
      ]
     },
     "execution_count": 19,
     "metadata": {},
     "output_type": "execute_result"
    }
   ],
   "source": [
    "xl.rsplit('4') ## rsplit it splits from the spaces from (right to left )"
   ]
  },
  {
   "cell_type": "code",
   "execution_count": 20,
   "id": "f7bc8dc5",
   "metadata": {},
   "outputs": [
    {
     "data": {
      "text/plain": [
       "True"
      ]
     },
     "execution_count": 20,
     "metadata": {},
     "output_type": "execute_result"
    }
   ],
   "source": [
    "'rsplit' in dir(str)"
   ]
  },
  {
   "cell_type": "code",
   "execution_count": 21,
   "id": "f0d76548",
   "metadata": {},
   "outputs": [
    {
     "data": {
      "text/plain": [
       "[\"Peter Piper picked a peck of pickled peppers\\nA peck of pickled peppers Peter Piper picked.\\nIf Peter Piper picked a peck of pickled peppers,\\nWhere's the peck of pickled peppers\",\n",
       " 'that',\n",
       " 'Peter',\n",
       " 'Piper',\n",
       " 'picked?']"
      ]
     },
     "execution_count": 21,
     "metadata": {},
     "output_type": "execute_result"
    }
   ],
   "source": [
    "xl.rsplit(maxsplit=4) ## rsplit split the spaces from end(right to left)"
   ]
  },
  {
   "cell_type": "code",
   "execution_count": 22,
   "id": "6d493a36",
   "metadata": {},
   "outputs": [
    {
     "data": {
      "text/plain": [
       "['how', 'are', 'you ?']"
      ]
     },
     "execution_count": 22,
     "metadata": {},
     "output_type": "execute_result"
    }
   ],
   "source": [
    "'how are you ?' .split(maxsplit = 2)"
   ]
  },
  {
   "cell_type": "code",
   "execution_count": 23,
   "id": "744d9762",
   "metadata": {},
   "outputs": [
    {
     "data": {
      "text/plain": [
       "['how are', 'you', '?']"
      ]
     },
     "execution_count": 23,
     "metadata": {},
     "output_type": "execute_result"
    }
   ],
   "source": [
    "'how are you ?' .rsplit(maxsplit = 2)"
   ]
  },
  {
   "cell_type": "markdown",
   "id": "71a54be7",
   "metadata": {},
   "source": [
    "## partition(), rpartition() always gives exactly 3 tokens or substrings"
   ]
  },
  {
   "cell_type": "code",
   "execution_count": 24,
   "id": "545bb489",
   "metadata": {},
   "outputs": [
    {
     "data": {
      "text/plain": [
       "('Peter',\n",
       " ' ',\n",
       " \"Piper picked a peck of pickled peppers\\nA peck of pickled peppers Peter Piper picked.\\nIf Peter Piper picked a peck of pickled peppers,\\nWhere's the peck of pickled peppers that Peter Piper picked?\")"
      ]
     },
     "execution_count": 24,
     "metadata": {},
     "output_type": "execute_result"
    }
   ],
   "source": [
    "xl.partition(' ')"
   ]
  },
  {
   "cell_type": "code",
   "execution_count": 55,
   "id": "b09bccb9",
   "metadata": {},
   "outputs": [
    {
     "data": {
      "text/plain": [
       "['m', 'l', 'y', 'l', 'm']"
      ]
     },
     "execution_count": 55,
     "metadata": {},
     "output_type": "execute_result"
    }
   ],
   "source": [
    "m = 'malayalam'\n",
    "m.split('a')\n"
   ]
  },
  {
   "cell_type": "markdown",
   "id": "0977ab8a",
   "metadata": {},
   "source": [
    "m.partition('a'), m.partition('y')"
   ]
  },
  {
   "cell_type": "code",
   "execution_count": 60,
   "id": "c8f97133",
   "metadata": {},
   "outputs": [
    {
     "data": {
      "text/plain": [
       "['malayalam']"
      ]
     },
     "execution_count": 60,
     "metadata": {},
     "output_type": "execute_result"
    }
   ],
   "source": [
    "m.split('z')"
   ]
  },
  {
   "cell_type": "code",
   "execution_count": 62,
   "id": "5408e423",
   "metadata": {},
   "outputs": [
    {
     "data": {
      "text/plain": [
       "('malayalam', '', '')"
      ]
     },
     "execution_count": 62,
     "metadata": {},
     "output_type": "execute_result"
    }
   ],
   "source": [
    "m.partition('z') # if the alphabet is not in string then the empty spaces are occurs in 2 & 3rd stringsdue to it has 3 substrings"
   ]
  },
  {
   "cell_type": "code",
   "execution_count": 64,
   "id": "7a9e567a",
   "metadata": {},
   "outputs": [
    {
     "data": {
      "text/plain": [
       "'malayalam'"
      ]
     },
     "execution_count": 64,
     "metadata": {},
     "output_type": "execute_result"
    }
   ],
   "source": [
    "m.partition('z')[0]+m.partition('z')[1]+m.partition('z')[2]"
   ]
  },
  {
   "cell_type": "code",
   "execution_count": 66,
   "id": "425c0dd3",
   "metadata": {},
   "outputs": [
    {
     "data": {
      "text/plain": [
       "('malayal', 'a', 'm')"
      ]
     },
     "execution_count": 66,
     "metadata": {},
     "output_type": "execute_result"
    }
   ],
   "source": [
    "m.rpartition('a')"
   ]
  },
  {
   "cell_type": "code",
   "execution_count": 68,
   "id": "0de9aec6",
   "metadata": {},
   "outputs": [
    {
     "data": {
      "text/plain": [
       "('', '', 'malayalam')"
      ]
     },
     "execution_count": 68,
     "metadata": {},
     "output_type": "execute_result"
    }
   ],
   "source": [
    "m.rpartition('z')# it comes from right to left side"
   ]
  },
  {
   "cell_type": "markdown",
   "id": "7bcfdf3c",
   "metadata": {},
   "source": [
    "## splitlines()\n",
    "\n",
    "* splitlines() is a built-in string method in Python that splits a string into a list of strings at line breaks. \n",
    "* The line breaks are not included in the resulting strings unless the keepends parameter is set to True"
   ]
  },
  {
   "cell_type": "code",
   "execution_count": 25,
   "id": "c6e4035a",
   "metadata": {},
   "outputs": [
    {
     "data": {
      "text/plain": [
       "['Peter Piper picked a peck of pickled peppers',\n",
       " 'A peck of pickled peppers Peter Piper picked.',\n",
       " 'If Peter Piper picked a peck of pickled peppers,',\n",
       " \"Where's the peck of pickled peppers that Peter Piper picked?\"]"
      ]
     },
     "execution_count": 25,
     "metadata": {},
     "output_type": "execute_result"
    }
   ],
   "source": [
    "xl.split('\\n') #split method splits a string into a list"
   ]
  },
  {
   "cell_type": "code",
   "execution_count": 1,
   "id": "f8c772bf",
   "metadata": {},
   "outputs": [
    {
     "ename": "SyntaxError",
     "evalue": "invalid syntax (3786411951.py, line 1)",
     "output_type": "error",
     "traceback": [
      "\u001b[1;36m  Cell \u001b[1;32mIn[1], line 1\u001b[1;36m\u001b[0m\n\u001b[1;33m    xl.splitlines`\u001b[0m\n\u001b[1;37m                 ^\u001b[0m\n\u001b[1;31mSyntaxError\u001b[0m\u001b[1;31m:\u001b[0m invalid syntax\n"
     ]
    }
   ],
   "source": [
    "xl.splitlines`"
   ]
  },
  {
   "cell_type": "markdown",
   "id": "6478a04f",
   "metadata": {},
   "source": [
    "## center()\n",
    "\n",
    "* The center() method will center align the string, using a specified character (space is default) as the fill character."
   ]
  },
  {
   "cell_type": "code",
   "execution_count": 3,
   "id": "29cdf00b",
   "metadata": {},
   "outputs": [
    {
     "data": {
      "text/plain": [
       "'     malayalam      '"
      ]
     },
     "execution_count": 3,
     "metadata": {},
     "output_type": "execute_result"
    }
   ],
   "source": [
    "m = 'malayalam'\n",
    "m.center(20)# prints the string in center"
   ]
  },
  {
   "cell_type": "code",
   "execution_count": 5,
   "id": "e283cd4d",
   "metadata": {},
   "outputs": [
    {
     "data": {
      "text/plain": [
       "'*****malayalam******'"
      ]
     },
     "execution_count": 5,
     "metadata": {},
     "output_type": "execute_result"
    }
   ],
   "source": [
    "m.center(20, '*')# the empty space is filled by giving character"
   ]
  },
  {
   "cell_type": "code",
   "execution_count": 7,
   "id": "7ef69e5f",
   "metadata": {},
   "outputs": [
    {
     "data": {
      "text/plain": [
       "'malayalam'"
      ]
     },
     "execution_count": 7,
     "metadata": {},
     "output_type": "execute_result"
    }
   ],
   "source": [
    "m.center(5, '*')# if len of string is less than the number then it gives same same thing"
   ]
  },
  {
   "cell_type": "markdown",
   "id": "5b8432ed",
   "metadata": {},
   "source": [
    "## ljust()\n",
    "\n",
    "* ljust() is a built-in Python string method that returns a left-justified version of the original string.\n",
    "* The method takes two arguments: length and character.\n",
    "* The length argument specifies the length of the returned string, while the character argument specifies the character to fill   the missing space to the right of the string. \n",
    "* If no character is specified, a space is used as the default fill character 123."
   ]
  },
  {
   "cell_type": "code",
   "execution_count": 9,
   "id": "16d51dcf",
   "metadata": {},
   "outputs": [
    {
     "data": {
      "text/plain": [
       "'malayalam***********'"
      ]
     },
     "execution_count": 9,
     "metadata": {},
     "output_type": "execute_result"
    }
   ],
   "source": [
    "m.ljust(20, '*')"
   ]
  },
  {
   "cell_type": "code",
   "execution_count": 11,
   "id": "6d9365ad",
   "metadata": {},
   "outputs": [
    {
     "data": {
      "text/plain": [
       "'malayalam           '"
      ]
     },
     "execution_count": 11,
     "metadata": {},
     "output_type": "execute_result"
    }
   ],
   "source": [
    "m.ljust(20)"
   ]
  },
  {
   "cell_type": "markdown",
   "id": "9df1aa7a",
   "metadata": {},
   "source": [
    "## rjust()\n",
    "\n",
    "* rjust() is a built-in string method in Python that returns a right-justified version of the string it is called on.\n",
    "* The method takes two arguments: length and character. \n",
    "* length specifies the width of the returned string, and character specifies the fill character. \n",
    "* If character is not specified, it defaults to a space character."
   ]
  },
  {
   "cell_type": "code",
   "execution_count": 17,
   "id": "2253c3da",
   "metadata": {},
   "outputs": [
    {
     "data": {
      "text/plain": [
       "('           malayalam', '***********malayalam')"
      ]
     },
     "execution_count": 17,
     "metadata": {},
     "output_type": "execute_result"
    }
   ],
   "source": [
    "m.rjust(20), m.rjust(20, '*')"
   ]
  },
  {
   "cell_type": "code",
   "execution_count": 19,
   "id": "324cbc41",
   "metadata": {},
   "outputs": [
    {
     "data": {
      "text/plain": [
       "('                malayalam', '****************malayalam')"
      ]
     },
     "execution_count": 19,
     "metadata": {},
     "output_type": "execute_result"
    }
   ],
   "source": [
    "m.rjust(25), m.rjust(25, '*')"
   ]
  },
  {
   "cell_type": "markdown",
   "id": "cd8e75a3",
   "metadata": {},
   "source": [
    "#### zfill()\n",
    "\n",
    "* The zfill() method adds zeros (0) at the beginning of the string, until it reaches the specified length.\n",
    "\n",
    "* If the value of the len parameter is less than the length of the string, no filling is done."
   ]
  },
  {
   "cell_type": "code",
   "execution_count": 21,
   "id": "1934330b",
   "metadata": {},
   "outputs": [
    {
     "data": {
      "text/plain": [
       "'00000000000malayalam'"
      ]
     },
     "execution_count": 21,
     "metadata": {},
     "output_type": "execute_result"
    }
   ],
   "source": [
    "m.zfill(20)"
   ]
  },
  {
   "cell_type": "code",
   "execution_count": 23,
   "id": "e0b92d9d",
   "metadata": {},
   "outputs": [
    {
     "data": {
      "text/plain": [
       "'malayalam00000000000'"
      ]
     },
     "execution_count": 23,
     "metadata": {},
     "output_type": "execute_result"
    }
   ],
   "source": [
    "m.ljust(20, '0')"
   ]
  },
  {
   "cell_type": "markdown",
   "id": "7f395ce4",
   "metadata": {},
   "source": [
    "## strip()\n",
    "\n",
    "* The strip() method removes any leading, and trailing whitespaces.\n",
    "\n",
    "* Leading means at the beginning of the string, trailing means at the end.\n",
    "\n",
    "* You can specify which character(s) to remove, if not, any whitespaces will be removed."
   ]
  },
  {
   "cell_type": "code",
   "execution_count": 25,
   "id": "1876f76d",
   "metadata": {},
   "outputs": [
    {
     "data": {
      "text/plain": [
       "'!@#malayalam#@!'"
      ]
     },
     "execution_count": 25,
     "metadata": {},
     "output_type": "execute_result"
    }
   ],
   "source": [
    "a = '!@#'+m+'#@!'\n",
    "a"
   ]
  },
  {
   "cell_type": "code",
   "execution_count": 27,
   "id": "87b4d6c0",
   "metadata": {},
   "outputs": [],
   "source": [
    "mc, ms = m.center(20), m.center(20,'*')"
   ]
  },
  {
   "cell_type": "code",
   "execution_count": 29,
   "id": "c21c8ac9",
   "metadata": {},
   "outputs": [
    {
     "data": {
      "text/plain": [
       "('     malayalam      ', '*****malayalam******')"
      ]
     },
     "execution_count": 29,
     "metadata": {},
     "output_type": "execute_result"
    }
   ],
   "source": [
    "mc, ms"
   ]
  },
  {
   "cell_type": "code",
   "execution_count": 32,
   "id": "2fe432a6",
   "metadata": {},
   "outputs": [
    {
     "data": {
      "text/plain": [
       "'malayalam'"
      ]
     },
     "execution_count": 32,
     "metadata": {},
     "output_type": "execute_result"
    }
   ],
   "source": [
    "mc.strip()# strip the whitespaces(remove the last soaces)"
   ]
  },
  {
   "cell_type": "code",
   "execution_count": 35,
   "id": "e3a507bd",
   "metadata": {},
   "outputs": [
    {
     "data": {
      "text/plain": [
       "'!@#malayalam#@!'"
      ]
     },
     "execution_count": 35,
     "metadata": {},
     "output_type": "execute_result"
    }
   ],
   "source": [
    "a.strip()"
   ]
  },
  {
   "cell_type": "code",
   "execution_count": 58,
   "id": "586b477b",
   "metadata": {},
   "outputs": [
    {
     "data": {
      "text/plain": [
       "'@#malayalam#@'"
      ]
     },
     "execution_count": 58,
     "metadata": {},
     "output_type": "execute_result"
    }
   ],
   "source": [
    "a.strip('!')"
   ]
  },
  {
   "cell_type": "code",
   "execution_count": 57,
   "id": "f876a5a9",
   "metadata": {},
   "outputs": [
    {
     "data": {
      "text/plain": [
       "'#malayalam#'"
      ]
     },
     "execution_count": 57,
     "metadata": {},
     "output_type": "execute_result"
    }
   ],
   "source": [
    "a.strip('!@')"
   ]
  },
  {
   "cell_type": "code",
   "execution_count": 56,
   "id": "8a32e215",
   "metadata": {},
   "outputs": [
    {
     "data": {
      "text/plain": [
       "'!@#malayalam#^@!'"
      ]
     },
     "execution_count": 56,
     "metadata": {},
     "output_type": "execute_result"
    }
   ],
   "source": [
    "aa = '' +a[:-2]+'^'+a[-2:]+''\n",
    "aa"
   ]
  },
  {
   "cell_type": "code",
   "execution_count": 63,
   "id": "846d761c",
   "metadata": {},
   "outputs": [
    {
     "data": {
      "text/plain": [
       "'layalam#^'"
      ]
     },
     "execution_count": 63,
     "metadata": {},
     "output_type": "execute_result"
    }
   ],
   "source": [
    "aa.strip('a!#$@m')"
   ]
  },
  {
   "cell_type": "code",
   "execution_count": 62,
   "id": "70cf1dc5",
   "metadata": {},
   "outputs": [
    {
     "data": {
      "text/plain": [
       "'!@#malayalam#^@'"
      ]
     },
     "execution_count": 62,
     "metadata": {},
     "output_type": "execute_result"
    }
   ],
   "source": [
    "aa = ''+a[:-2]+'^'+a[-2]+''\n",
    "aa"
   ]
  },
  {
   "cell_type": "code",
   "execution_count": 65,
   "id": "018f9f2a",
   "metadata": {},
   "outputs": [
    {
     "data": {
      "text/plain": [
       "'malayalam'"
      ]
     },
     "execution_count": 65,
     "metadata": {},
     "output_type": "execute_result"
    }
   ],
   "source": [
    "mc.strip()"
   ]
  },
  {
   "cell_type": "code",
   "execution_count": 67,
   "id": "498a38e7",
   "metadata": {},
   "outputs": [
    {
     "data": {
      "text/plain": [
       "'#$malayalam$#@!'"
      ]
     },
     "execution_count": 67,
     "metadata": {},
     "output_type": "execute_result"
    }
   ],
   "source": [
    "a = '!@@#$malayalam$#@!'\n",
    "a.lstrip('!@')"
   ]
  },
  {
   "cell_type": "code",
   "execution_count": 69,
   "id": "8050bdec",
   "metadata": {},
   "outputs": [
    {
     "data": {
      "text/plain": [
       "'@!anything!@*'"
      ]
     },
     "execution_count": 69,
     "metadata": {},
     "output_type": "execute_result"
    }
   ],
   "source": [
    "v =  '*@!anything!@*'\n",
    "v.lstrip('*')"
   ]
  },
  {
   "cell_type": "markdown",
   "id": "e4a5bdf5",
   "metadata": {},
   "source": [
    "## join()\n",
    "\n",
    "* The join() method takes all items in an iterable and joins them into one string.\n",
    "* A string must be specified as the separator.\n",
    "* Parameter values : iterable Required.\n",
    "                     Any iterable object where all the returned values are strings."
   ]
  },
  {
   "cell_type": "code",
   "execution_count": 79,
   "id": "99392bd7",
   "metadata": {},
   "outputs": [],
   "source": [
    " y =  ['*', 'a', 'Q']"
   ]
  },
  {
   "cell_type": "code",
   "execution_count": 73,
   "id": "99621503",
   "metadata": {},
   "outputs": [
    {
     "data": {
      "text/plain": [
       "'*!a!Q'"
      ]
     },
     "execution_count": 73,
     "metadata": {},
     "output_type": "execute_result"
    }
   ],
   "source": [
    "'!' .join(['*', 'a', 'Q'])"
   ]
  },
  {
   "cell_type": "code",
   "execution_count": 81,
   "id": "3ea811cd",
   "metadata": {},
   "outputs": [
    {
     "data": {
      "text/plain": [
       "'*!a!Q'"
      ]
     },
     "execution_count": 81,
     "metadata": {},
     "output_type": "execute_result"
    }
   ],
   "source": [
    "y[0]+'!'+y[1]+'!'+y[2]"
   ]
  },
  {
   "cell_type": "code",
   "execution_count": 85,
   "id": "bca84dec",
   "metadata": {},
   "outputs": [
    {
     "data": {
      "text/plain": [
       "'gravity high'"
      ]
     },
     "execution_count": 85,
     "metadata": {},
     "output_type": "execute_result"
    }
   ],
   "source": [
    "  ' '.join(['gravity', 'high'])"
   ]
  },
  {
   "cell_type": "code",
   "execution_count": 86,
   "id": "4626b296",
   "metadata": {},
   "outputs": [
    {
     "data": {
      "text/plain": [
       "'s8t8r8i8n8g'"
      ]
     },
     "execution_count": 86,
     "metadata": {},
     "output_type": "execute_result"
    }
   ],
   "source": [
    "'8'.join('string')"
   ]
  },
  {
   "cell_type": "code",
   "execution_count": 95,
   "id": "ec0cf478",
   "metadata": {},
   "outputs": [
    {
     "data": {
      "text/plain": [
       "['who', 'are', 'you']"
      ]
     },
     "execution_count": 95,
     "metadata": {},
     "output_type": "execute_result"
    }
   ],
   "source": [
    "x = 'who are you'\n",
    "x = x.split()\n",
    "x"
   ]
  },
  {
   "cell_type": "code",
   "execution_count": 98,
   "id": "1cdcb75d",
   "metadata": {},
   "outputs": [
    {
     "data": {
      "text/plain": [
       "'who****are****you'"
      ]
     },
     "execution_count": 98,
     "metadata": {},
     "output_type": "execute_result"
    }
   ],
   "source": [
    "'****'.join(x)"
   ]
  },
  {
   "cell_type": "markdown",
   "id": "99a02b2f",
   "metadata": {},
   "source": [
    "## is upper()\n",
    "\n",
    "* In Python, isupper() is a built-in method used for string handling. \n",
    "* This method returns “True” if all characters in the string are uppercase, otherwise, returns “False”.\n",
    "* It returns “True” for whitespaces but if there is only whitespace in the string then returns “False”."
   ]
  },
  {
   "cell_type": "code",
   "execution_count": 101,
   "id": "16da5446",
   "metadata": {},
   "outputs": [
    {
     "data": {
      "text/plain": [
       "True"
      ]
     },
     "execution_count": 101,
     "metadata": {},
     "output_type": "execute_result"
    }
   ],
   "source": [
    "a = 'XYZ' .isupper()\n",
    "a"
   ]
  },
  {
   "cell_type": "code",
   "execution_count": 103,
   "id": "69bf399e",
   "metadata": {},
   "outputs": [
    {
     "data": {
      "text/plain": [
       "True"
      ]
     },
     "execution_count": 103,
     "metadata": {},
     "output_type": "execute_result"
    }
   ],
   "source": [
    "'A BC !' .isupper()# checks whether alphabet in upper case doesn't consider spaces"
   ]
  },
  {
   "cell_type": "markdown",
   "id": "de70a80d",
   "metadata": {},
   "source": [
    "##  startswith()\n",
    "\n",
    "* The startswith() method returns True if the string starts with the specified value, otherwise False.\n",
    "\n",
    "* Syntax - string.startswith(value, start, end)\n",
    "\n",
    "* parameters:\n",
    "* value -\tRequired the value to check if the string starts with\n",
    "* start -\tOptional, an integer specifying at which position to start the search\n",
    "* end -\tOptional, an Integer specifying at which position to end the search"
   ]
  },
  {
   "cell_type": "code",
   "execution_count": 107,
   "id": "4d09b42f",
   "metadata": {},
   "outputs": [
    {
     "data": {
      "text/plain": [
       "True"
      ]
     },
     "execution_count": 107,
     "metadata": {},
     "output_type": "execute_result"
    }
   ],
   "source": [
    "  'X YZ z!' .startswith('X ')"
   ]
  },
  {
   "cell_type": "code",
   "execution_count": 110,
   "id": "ebb42fe7",
   "metadata": {},
   "outputs": [
    {
     "data": {
      "text/plain": [
       "False"
      ]
     },
     "execution_count": 110,
     "metadata": {},
     "output_type": "execute_result"
    }
   ],
   "source": [
    "'X YZ z!' .startswith('XY')"
   ]
  },
  {
   "cell_type": "markdown",
   "id": "fde8d51b",
   "metadata": {},
   "source": [
    "## isnumeric()\n",
    "\n",
    "* The isnumeric() method returns True if all the characters are numeric (0-9), otherwise False.\n",
    "\n",
    "* Exponents, like ² and ¾ are also considered to be numeric values.\n",
    "\n",
    "* \"-1\" and \"1.5\" are NOT considered numeric values, because all the characters in the string must be numeric, and the - and the   . are not.\n",
    "* syntax - string.isnumeric()\n",
    "* No parameters are there in isnumeric.\n",
    "\n"
   ]
  },
  {
   "cell_type": "code",
   "execution_count": 112,
   "id": "57a82b9d",
   "metadata": {},
   "outputs": [
    {
     "data": {
      "text/plain": [
       "True"
      ]
     },
     "execution_count": 112,
     "metadata": {},
     "output_type": "execute_result"
    }
   ],
   "source": [
    "'5'.isnumeric()"
   ]
  },
  {
   "cell_type": "code",
   "execution_count": 114,
   "id": "f5d982e6",
   "metadata": {},
   "outputs": [
    {
     "data": {
      "text/plain": [
       "False"
      ]
     },
     "execution_count": 114,
     "metadata": {},
     "output_type": "execute_result"
    }
   ],
   "source": [
    "'5.5'.isnumeric()# because 5.5 is float value"
   ]
  },
  {
   "cell_type": "markdown",
   "id": "3248698a",
   "metadata": {},
   "source": [
    "## isdecimal()\n",
    "\n",
    "* The isdecimal() method returns True if all the characters are decimals (0-9).\n",
    "* This method can also be used on unicode objects.\n",
    "* syntax-string.isdecimal()\n",
    "* No parameters are there in isdecimal."
   ]
  },
  {
   "cell_type": "code",
   "execution_count": 116,
   "id": "6369056c",
   "metadata": {},
   "outputs": [
    {
     "data": {
      "text/plain": [
       "False"
      ]
     },
     "execution_count": 116,
     "metadata": {},
     "output_type": "execute_result"
    }
   ],
   "source": [
    "'5.5'.isdecimal()"
   ]
  },
  {
   "cell_type": "code",
   "execution_count": 118,
   "id": "ce5cf991",
   "metadata": {},
   "outputs": [
    {
     "data": {
      "text/plain": [
       "True"
      ]
     },
     "execution_count": 118,
     "metadata": {},
     "output_type": "execute_result"
    }
   ],
   "source": [
    "'55'.isdecimal()"
   ]
  },
  {
   "cell_type": "code",
   "execution_count": 13,
   "id": "284b4e9c",
   "metadata": {},
   "outputs": [
    {
     "data": {
      "text/plain": [
       "False"
      ]
     },
     "execution_count": 13,
     "metadata": {},
     "output_type": "execute_result"
    }
   ],
   "source": [
    "'-5.5'.isdecimal()"
   ]
  },
  {
   "cell_type": "markdown",
   "id": "ca028cff",
   "metadata": {},
   "source": [
    "## Escape characters\n",
    "\n",
    "* To insert characters that are illegal in a string, use an escape character.\n",
    "* An escape character is a backslash \\ followed by the character you want to insert.\n",
    "* The escape character allows you to use double quotes when you normally would not be allowed"
   ]
  },
  {
   "cell_type": "code",
   "execution_count": 19,
   "id": "e57f0593",
   "metadata": {},
   "outputs": [
    {
     "name": "stdout",
     "output_type": "stream",
     "text": [
      "There is a \"apple\"on the table\n"
     ]
    }
   ],
   "source": [
    "x = \"There is a \\\"apple\\\"on the table\"\n",
    "print(x)"
   ]
  }
 ],
 "metadata": {
  "kernelspec": {
   "display_name": "Python 3 (ipykernel)",
   "language": "python",
   "name": "python3"
  },
  "language_info": {
   "codemirror_mode": {
    "name": "ipython",
    "version": 3
   },
   "file_extension": ".py",
   "mimetype": "text/x-python",
   "name": "python",
   "nbconvert_exporter": "python",
   "pygments_lexer": "ipython3",
   "version": "3.11.5"
  }
 },
 "nbformat": 4,
 "nbformat_minor": 5
}
