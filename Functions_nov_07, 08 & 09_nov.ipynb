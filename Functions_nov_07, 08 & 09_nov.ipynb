{
 "cells": [
  {
   "cell_type": "markdown",
   "id": "e70daf32",
   "metadata": {},
   "source": [
    "## Function\n",
    " * it is a block of code,which executes a desired task. A function can be called n-number of times instead of writing the code required to execute the task.\n",
    " * these are the two steps in creating a function, defining a function and calling the function.\n",
    " * syntax:\n",
    "          - def func_name(parameter/s):"
   ]
  },
  {
   "cell_type": "markdown",
   "id": "78fd4149",
   "metadata": {},
   "source": [
    "## Parameter :\n",
    "* This article explains different types of Functions in Python. \n",
    "* The functions explained are Built-in  Functions, User-defined Functions, Recursive Functions, Lambda   Function. A function is a block of code in Python that performs a particular task.\n",
    "* From a function's perspective:\n",
    "* A parameter is the variable listed inside the parentheses in the function definition.\n",
    "* An argument is the value that is sent to the function when it is called."
   ]
  },
  {
   "cell_type": "markdown",
   "id": "941b44fc",
   "metadata": {},
   "source": [
    "![](https://www.boardinfinity.com/blog/content/images/2023/02/Python-Function-1.png)"
   ]
  },
  {
   "cell_type": "markdown",
   "id": "e9ff18ae",
   "metadata": {},
   "source": [
    "## Calling a function:\n",
    "* def is a keyword, which tells the interoretor that we are defining a function\n",
    "* func_name is name we given to the function we are defining, it acts as a variable name to the block of code we are writing\n",
    "* parameter these can be considered as the variables we use to write/define our function\n",
    "* syntax for calling a function:\n",
    "  - fun_name(arg/s)\n",
    "* arg/s are the actual inputs for function"
   ]
  },
  {
   "cell_type": "code",
   "execution_count": 2,
   "id": "1d818bf3",
   "metadata": {},
   "outputs": [],
   "source": [
    "def foosum(a,b):# a&b are the parameters\n",
    "    print(a + b) "
   ]
  },
  {
   "cell_type": "code",
   "execution_count": 3,
   "id": "48d942ab",
   "metadata": {},
   "outputs": [
    {
     "name": "stdout",
     "output_type": "stream",
     "text": [
      "4\n"
     ]
    }
   ],
   "source": [
    "foosum(1,3)# these are arguments"
   ]
  },
  {
   "cell_type": "markdown",
   "id": "f72ff66a",
   "metadata": {},
   "source": [
    "## Arguments:\n",
    "* Information can be passed into functions as arguments.\n",
    "* Arguments are specified after the function name, inside the parentheses.\n",
    "* You can add as many arguments as you want, just separate them with a comma.\n",
    "* Python supports 3 types of arguments:\n",
    "    * Positional Arguments.\n",
    "    * Keyword Arguments.\n",
    "    * Default Arguments."
   ]
  },
  {
   "cell_type": "markdown",
   "id": "7991a537",
   "metadata": {},
   "source": [
    "![](https://builtin.com/sites/www.builtin.com/files/styles/ckeditor_optimize/public/inline-images/2_arguments-in-python.jpeg)"
   ]
  },
  {
   "cell_type": "markdown",
   "id": "e4922b1f",
   "metadata": {},
   "source": [
    "## Positional Arguments:\n",
    "\n",
    "* Positional arguments are arguments that need to be included in the proper position or order. \n",
    "* The first positional argument always needs to be listed first when the function is called. \n",
    "* The second positional argument needs to be listed second and the third positional argument listed third, etc"
   ]
  },
  {
   "cell_type": "code",
   "execution_count": 9,
   "id": "550f78f8",
   "metadata": {},
   "outputs": [],
   "source": [
    "def fooDivision(n,d):#(n is numerator,d is denominator) # position of parameters\n",
    "    print(n/d)"
   ]
  },
  {
   "cell_type": "code",
   "execution_count": 13,
   "id": "69a30125",
   "metadata": {},
   "outputs": [
    {
     "name": "stdout",
     "output_type": "stream",
     "text": [
      "5.0\n"
     ]
    }
   ],
   "source": [
    "fooDivision(10, 2) # positional arguments"
   ]
  },
  {
   "cell_type": "markdown",
   "id": "f7bfdcdf",
   "metadata": {},
   "source": [
    "## Keyword Arguments:\n",
    "* These are values that, when passed into a function, are identifiable by specific parameter names.\n",
    "* A keyword argument is preceded by a parameter and the assignment operator, = . Keyword arguments can be likened to dictionaries in that they map a value to a keyword. "
   ]
  },
  {
   "cell_type": "code",
   "execution_count": 6,
   "id": "1d4056e4",
   "metadata": {},
   "outputs": [],
   "source": [
    "def fooDivision(n,d):\n",
    "    print(n/d)"
   ]
  },
  {
   "cell_type": "code",
   "execution_count": 7,
   "id": "7e40bcf4",
   "metadata": {},
   "outputs": [
    {
     "name": "stdout",
     "output_type": "stream",
     "text": [
      "5.0\n"
     ]
    }
   ],
   "source": [
    "fooDivision(10, 2)"
   ]
  },
  {
   "cell_type": "code",
   "execution_count": 14,
   "id": "fa75f06a",
   "metadata": {},
   "outputs": [
    {
     "name": "stdout",
     "output_type": "stream",
     "text": [
      "5.0\n"
     ]
    }
   ],
   "source": [
    "fooDivision(n = 10, d = 2)"
   ]
  },
  {
   "cell_type": "code",
   "execution_count": 17,
   "id": "3fe7ff8a",
   "metadata": {},
   "outputs": [
    {
     "ename": "SyntaxError",
     "evalue": "positional argument follows keyword argument (3895778250.py, line 1)",
     "output_type": "error",
     "traceback": [
      "\u001b[1;36m  Cell \u001b[1;32mIn[17], line 1\u001b[1;36m\u001b[0m\n\u001b[1;33m    fooDivision(n = 10,2)\u001b[0m\n\u001b[1;37m                        ^\u001b[0m\n\u001b[1;31mSyntaxError\u001b[0m\u001b[1;31m:\u001b[0m positional argument follows keyword argument\n"
     ]
    }
   ],
   "source": [
    "fooDivision(n = 10,2)"
   ]
  },
  {
   "cell_type": "code",
   "execution_count": 9,
   "id": "388a8034",
   "metadata": {},
   "outputs": [],
   "source": [
    "def foo(a,b,c):\n",
    "    x = a + b\n",
    "    y = a / c\n",
    "    print(y)"
   ]
  },
  {
   "cell_type": "code",
   "execution_count": 10,
   "id": "9a99c01e",
   "metadata": {},
   "outputs": [
    {
     "name": "stdout",
     "output_type": "stream",
     "text": [
      "0.2\n"
     ]
    }
   ],
   "source": [
    "foo(1,2,c=5)"
   ]
  },
  {
   "cell_type": "code",
   "execution_count": 24,
   "id": "e1d8d5fa",
   "metadata": {},
   "outputs": [
    {
     "ename": "TypeError",
     "evalue": "foo() got multiple values for argument 'a'",
     "output_type": "error",
     "traceback": [
      "\u001b[1;31m---------------------------------------------------------------------------\u001b[0m",
      "\u001b[1;31mTypeError\u001b[0m                                 Traceback (most recent call last)",
      "Cell \u001b[1;32mIn[24], line 1\u001b[0m\n\u001b[1;32m----> 1\u001b[0m foo(\u001b[38;5;241m1\u001b[39m,\u001b[38;5;241m2\u001b[39m,a \u001b[38;5;241m=\u001b[39m \u001b[38;5;241m5\u001b[39m)\n",
      "\u001b[1;31mTypeError\u001b[0m: foo() got multiple values for argument 'a'"
     ]
    }
   ],
   "source": [
    "foo(1,2,a = 5) # it throws an error a is already asigned to 1 it cannot take 5"
   ]
  },
  {
   "cell_type": "markdown",
   "id": "0861b3d7",
   "metadata": {},
   "source": [
    "## Default Arguments:\n",
    "* Python has a different way of representing syntax and default values for function arguments.\n",
    "* Default values indicate that the function argument will take that value if no argument value is passed during the function call.\n",
    "* The default value is assigned by using the assignment(=) operator of the form keywordname=value.\n",
    "* Default arguments are passed at the time of defining a function.\n"
   ]
  },
  {
   "cell_type": "code",
   "execution_count": 30,
   "id": "98060b4f",
   "metadata": {},
   "outputs": [],
   "source": [
    "def fooPotentialEnergy(m, h, g = 9.8):\n",
    "    print(m*h*g)"
   ]
  },
  {
   "cell_type": "code",
   "execution_count": 33,
   "id": "ce4f397c",
   "metadata": {},
   "outputs": [
    {
     "name": "stdout",
     "output_type": "stream",
     "text": [
      "490.00000000000006\n"
     ]
    }
   ],
   "source": [
    "fooPotentialEnergy(10, 5)"
   ]
  },
  {
   "cell_type": "code",
   "execution_count": 34,
   "id": "0fef52a5",
   "metadata": {},
   "outputs": [
    {
     "name": "stdout",
     "output_type": "stream",
     "text": [
      "500\n"
     ]
    }
   ],
   "source": [
    "fooPotentialEnergy(10, 5, g = 10) # we can change the value given in parameter"
   ]
  },
  {
   "cell_type": "markdown",
   "id": "576e0700",
   "metadata": {},
   "source": [
    "## Documentation Strings\n",
    "* Documentation strings (or docstrings) provide a convenient way of associating documentation with Python modules, functions, classes, and methods.\n",
    "* It’s specified in source code that is used, like a comment, to document a specific segment of code. Unlike conventional source code comments, the docstring should describe what the function does, not how.\n",
    "* Declaring Docstrings:\n",
    "  * The docstrings are declared using ”’triple single quotes”’ or “”” triple double quotes “”” just below the class, method, or function declaration. All functions should have a docstring.\n",
    "* Accessing Docstrings:\n",
    "  * The docstrings can be accessed using the __ doc __ method of the object or using the help function. "
   ]
  },
  {
   "cell_type": "code",
   "execution_count": 39,
   "id": "0dc7c160",
   "metadata": {},
   "outputs": [],
   "source": [
    "def fooDivision(d : float, n :float ): # Doc string\n",
    "    '''\n",
    "    d = denominator\n",
    "    n = nume.......  \n",
    "    ....'''\n",
    "    print(n/d)"
   ]
  },
  {
   "cell_type": "code",
   "execution_count": 41,
   "id": "967ae9ce",
   "metadata": {},
   "outputs": [
    {
     "name": "stdout",
     "output_type": "stream",
     "text": [
      "\n",
      "    d = denominator\n",
      "    n = nume.......\n",
      "    ....\n"
     ]
    }
   ],
   "source": [
    "print(fooDivision.__doc__)"
   ]
  },
  {
   "cell_type": "code",
   "execution_count": 2,
   "id": "c28b2ec4",
   "metadata": {},
   "outputs": [],
   "source": [
    "def fooCocataenationOfString(s1 : str, s2 = '', n = 2):\n",
    "    print((s1+s2)*n)"
   ]
  },
  {
   "cell_type": "code",
   "execution_count": 3,
   "id": "d788d039",
   "metadata": {},
   "outputs": [
    {
     "name": "stdout",
     "output_type": "stream",
     "text": [
      "hehaahaahehaahaa\n"
     ]
    }
   ],
   "source": [
    "fooCocataenationOfString('he', s2 = 'haahaa')"
   ]
  },
  {
   "cell_type": "code",
   "execution_count": null,
   "id": "e7e47bc5",
   "metadata": {},
   "outputs": [],
   "source": []
  },
  {
   "cell_type": "markdown",
   "id": "aa83cab8",
   "metadata": {},
   "source": [
    "## 8_Nov_2023"
   ]
  },
  {
   "cell_type": "markdown",
   "id": "290a1c3b",
   "metadata": {},
   "source": [
    "## Return\n",
    "* The Python return statement is a special statement that you can use inside a function or method to send the function's result back to the caller. \n",
    "* A return statement consists of the return keyword followed by an optional return value. \n",
    "* The return value of a Python function can be any Python object."
   ]
  },
  {
   "cell_type": "markdown",
   "id": "ad786ad0",
   "metadata": {},
   "source": [
    "![](https://blog.finxter.com/wp-content/uploads/2021/01/return-1-1024x576.jpg)"
   ]
  },
  {
   "cell_type": "markdown",
   "id": "ea2edaea",
   "metadata": {},
   "source": [
    "### return (it takes value given to it and comes out of the function body and gives the value)"
   ]
  },
  {
   "cell_type": "markdown",
   "id": "5c7356a3",
   "metadata": {},
   "source": [
    "## Print\n",
    "* The print() function prints the specified message to the screen, or other standard output device.\n",
    "* The message can be a string, or any other object, the object will be converted into a string before written to the screen."
   ]
  },
  {
   "cell_type": "code",
   "execution_count": 4,
   "id": "ac0e4926",
   "metadata": {},
   "outputs": [
    {
     "data": {
      "text/plain": [
       "'STRING'"
      ]
     },
     "execution_count": 4,
     "metadata": {},
     "output_type": "execute_result"
    }
   ],
   "source": [
    "x = 'string'\n",
    "y = x.upper()\n",
    "y"
   ]
  },
  {
   "cell_type": "code",
   "execution_count": 11,
   "id": "f3a498c3",
   "metadata": {},
   "outputs": [
    {
     "name": "stdout",
     "output_type": "stream",
     "text": [
      "None\n",
      "[1, 2, 3, 3]\n"
     ]
    }
   ],
   "source": [
    "x = [1,2,3] # here none is return(if there is nothing to return then it gives none)\n",
    "y = x.append(3)# This appends 3 to the list x and returns None\n",
    "print(y) # This will print None\n",
    "print(x)  # This will print the modified list: [1, 2, 3, 3]"
   ]
  },
  {
   "cell_type": "code",
   "execution_count": 10,
   "id": "f952469f",
   "metadata": {},
   "outputs": [
    {
     "name": "stdout",
     "output_type": "stream",
     "text": [
      "[4, 5, 6, [1, 2, 3]]\n"
     ]
    }
   ],
   "source": [
    "x = [4,5,6]\n",
    "y = [1,2,3]\n",
    "x.append(y) # This modifies the list x by adding y as a single element at the end of the list. \n",
    "print(x)"
   ]
  },
  {
   "cell_type": "code",
   "execution_count": 13,
   "id": "4256c536",
   "metadata": {},
   "outputs": [],
   "source": [
    "def fooCocataenationOfString(s1 : str, s2 = '', n = 1):\n",
    "    return((s1+s2)*n) # the return statement not execute more than 1 return \n",
    "    print(hello)"
   ]
  },
  {
   "cell_type": "code",
   "execution_count": 10,
   "id": "4789a093",
   "metadata": {},
   "outputs": [
    {
     "data": {
      "text/plain": [
       "'Holla!class'"
      ]
     },
     "execution_count": 10,
     "metadata": {},
     "output_type": "execute_result"
    }
   ],
   "source": [
    "z = fooCocataenationOfString('Holla!', 'class') # it adds the both strings\n",
    "z"
   ]
  },
  {
   "cell_type": "code",
   "execution_count": 14,
   "id": "18fcb495",
   "metadata": {},
   "outputs": [
    {
     "data": {
      "text/plain": [
       "'hooohooohooohooohooo'"
      ]
     },
     "execution_count": 14,
     "metadata": {},
     "output_type": "execute_result"
    }
   ],
   "source": [
    " fooCocataenationOfString('hooo', n = 5) # The given string multiplies with the given value of n no.of times"
   ]
  },
  {
   "cell_type": "code",
   "execution_count": 14,
   "id": "5ef26ea8",
   "metadata": {},
   "outputs": [
    {
     "data": {
      "text/plain": [
       "'HiHiHi'"
      ]
     },
     "execution_count": 14,
     "metadata": {},
     "output_type": "execute_result"
    }
   ],
   "source": [
    "fooCocataenationOfString('Hi', n = 3)"
   ]
  },
  {
   "cell_type": "code",
   "execution_count": 22,
   "id": "e8c5f714",
   "metadata": {},
   "outputs": [
    {
     "data": {
      "text/plain": [
       "\"s = 'abc#123' --> 'the first non alpha char is a spe char, #'\\n\\n   s = 'aBc1#23' --> 'the first non alpha char is a numeric, 1'\\n\\n\""
      ]
     },
     "execution_count": 22,
     "metadata": {},
     "output_type": "execute_result"
    }
   ],
   "source": [
    "'''s = 'abc#123' --> 'the first non alpha char is a spe char, #'\n",
    "\n",
    "   s = 'aBc1#23' --> 'the first non alpha char is a numeric, 1'\n",
    "\n",
    "'''"
   ]
  },
  {
   "cell_type": "code",
   "execution_count": 18,
   "id": "e623bd45",
   "metadata": {},
   "outputs": [
    {
     "data": {
      "text/plain": [
       "False"
      ]
     },
     "execution_count": 18,
     "metadata": {},
     "output_type": "execute_result"
    }
   ],
   "source": [
    "x = '1'.isalpha()\n",
    "x"
   ]
  },
  {
   "cell_type": "code",
   "execution_count": 19,
   "id": "c46619df",
   "metadata": {},
   "outputs": [
    {
     "data": {
      "text/plain": [
       "True"
      ]
     },
     "execution_count": 19,
     "metadata": {},
     "output_type": "execute_result"
    }
   ],
   "source": [
    "x is False"
   ]
  },
  {
   "cell_type": "code",
   "execution_count": 25,
   "id": "899d251e",
   "metadata": {},
   "outputs": [],
   "source": [
    "def foo1stOc(p):\n",
    "    x = p.casefold()\n",
    "    for char in x:\n",
    "        if char.isnumeric():\n",
    "            print(f'the first non alpha char is a numeric, {char}')\n",
    "            return char\n",
    "        elif char.isalpha() is False:\n",
    "            print(f'the first non alpha char is a speChar, {char}') \n",
    "            return char"
   ]
  },
  {
   "cell_type": "code",
   "execution_count": 27,
   "id": "b64bd849",
   "metadata": {},
   "outputs": [
    {
     "name": "stdout",
     "output_type": "stream",
     "text": [
      "the first non alpha char is a speChar, -\n"
     ]
    },
    {
     "data": {
      "text/plain": [
       "'-'"
      ]
     },
     "execution_count": 27,
     "metadata": {},
     "output_type": "execute_result"
    }
   ],
   "source": [
    "foo1stOc('abc-#123')"
   ]
  },
  {
   "cell_type": "code",
   "execution_count": 28,
   "id": "1d37eb76",
   "metadata": {},
   "outputs": [
    {
     "name": "stdout",
     "output_type": "stream",
     "text": [
      "the first non alpha char is a numeric, 1\n"
     ]
    },
    {
     "data": {
      "text/plain": [
       "'1'"
      ]
     },
     "execution_count": 28,
     "metadata": {},
     "output_type": "execute_result"
    }
   ],
   "source": [
    "foo1stOc('abc1#23')"
   ]
  },
  {
   "cell_type": "code",
   "execution_count": 47,
   "id": "e758ac7f",
   "metadata": {},
   "outputs": [],
   "source": [
    "def fooEvenOdd(a, b):\n",
    "    even, odd = [], []\n",
    "    s, e = min(a,b), max(a,b)+1\n",
    "    for num in range(s, e):\n",
    "        if num%2==0:\n",
    "            even.append(num)\n",
    "            #return even\n",
    "        else:\n",
    "            odd.append(num)\n",
    "            #return odd\n",
    "    return even, odd"
   ]
  },
  {
   "cell_type": "code",
   "execution_count": 42,
   "id": "7184b1d8",
   "metadata": {},
   "outputs": [
    {
     "data": {
      "text/plain": [
       "([4, 6, 8, 10, 12, 14, 16, 18, 20], [3, 5, 7, 9, 11, 13, 15, 17, 19])"
      ]
     },
     "execution_count": 42,
     "metadata": {},
     "output_type": "execute_result"
    }
   ],
   "source": [
    "fooEvenOdd(3, 20)"
   ]
  },
  {
   "cell_type": "code",
   "execution_count": 49,
   "id": "6580e85c",
   "metadata": {},
   "outputs": [
    {
     "data": {
      "text/plain": [
       "([2, 4], [1, 3, 5])"
      ]
     },
     "execution_count": 49,
     "metadata": {},
     "output_type": "execute_result"
    }
   ],
   "source": [
    "fooEvenOdd(1, 5)"
   ]
  },
  {
   "cell_type": "code",
   "execution_count": null,
   "id": "bf85e9a9",
   "metadata": {},
   "outputs": [],
   "source": [
    "'''\n",
    "'s3$Ab$ --> '$$3Asb\n",
    "'''"
   ]
  },
  {
   "cell_type": "code",
   "execution_count": 66,
   "id": "534c27a9",
   "metadata": {},
   "outputs": [],
   "source": [
    "def fooReArrangeString(s):\n",
    "    x = list(s)\n",
    "    #sc, n, u, l = '', '', '', ''\n",
    "    a, b, c, d = [], [], [], []\n",
    "    for char in x:\n",
    "        if char.isnumeric():\n",
    "            b.append(char)\n",
    "        elif char.isupper():\n",
    "            c.append(char)\n",
    "        elif char.islower():\n",
    "            d.append(char)\n",
    "        else:\n",
    "            a.append(char)\n",
    "    a.sort(), b.sort(), c.sort(), d.sort()\n",
    "    return  ''.join(a)+''.join(b)+''.join(c)+''.join(d)\n",
    "                "
   ]
  },
  {
   "cell_type": "code",
   "execution_count": 72,
   "id": "223c8e20",
   "metadata": {},
   "outputs": [
    {
     "data": {
      "text/plain": [
       "'$$3Aab'"
      ]
     },
     "execution_count": 72,
     "metadata": {},
     "output_type": "execute_result"
    }
   ],
   "source": [
    "fooReArrangeString('a3$Ab$')"
   ]
  },
  {
   "cell_type": "code",
   "execution_count": 81,
   "id": "ec9a4a22",
   "metadata": {},
   "outputs": [],
   "source": [
    "def fooStrFind(s, char):\n",
    "    x = s\n",
    "    y = char\n",
    "    \n",
    "    for i, j in enumerate(x):\n",
    "        if y == j:\n",
    "            return i\n",
    "    else:\n",
    "        return - 1"
   ]
  },
  {
   "cell_type": "code",
   "execution_count": 83,
   "id": "71fa398c",
   "metadata": {},
   "outputs": [
    {
     "data": {
      "text/plain": [
       "2"
      ]
     },
     "execution_count": 83,
     "metadata": {},
     "output_type": "execute_result"
    }
   ],
   "source": [
    "fooStrFind('chinni','i') # it gives the index value"
   ]
  },
  {
   "cell_type": "code",
   "execution_count": 78,
   "id": "9e3d3c9a",
   "metadata": {},
   "outputs": [
    {
     "data": {
      "text/plain": [
       "-1"
      ]
     },
     "execution_count": 78,
     "metadata": {},
     "output_type": "execute_result"
    }
   ],
   "source": [
    "fooStrFind('chinni','x')"
   ]
  },
  {
   "cell_type": "code",
   "execution_count": 86,
   "id": "1be40033",
   "metadata": {},
   "outputs": [
    {
     "data": {
      "text/plain": [
       "3"
      ]
     },
     "execution_count": 86,
     "metadata": {},
     "output_type": "execute_result"
    }
   ],
   "source": [
    "'holla'.rfind('l') # it gives the index value from the right side"
   ]
  },
  {
   "cell_type": "code",
   "execution_count": 87,
   "id": "16b56e5e",
   "metadata": {},
   "outputs": [
    {
     "data": {
      "text/plain": [
       "'alloh'"
      ]
     },
     "execution_count": 87,
     "metadata": {},
     "output_type": "execute_result"
    }
   ],
   "source": [
    "'holla'[::-1] # it print reverse"
   ]
  },
  {
   "cell_type": "code",
   "execution_count": 1,
   "id": "4c7394b6",
   "metadata": {},
   "outputs": [
    {
     "name": "stdout",
     "output_type": "stream",
     "text": [
      "0 H\n",
      "1 o\n",
      "2 l\n",
      "3 l\n",
      "4 a\n"
     ]
    }
   ],
   "source": [
    "for i, j in enumerate('Holla'):\n",
    "    print(i, j)"
   ]
  },
  {
   "cell_type": "code",
   "execution_count": 3,
   "id": "3441ef0a",
   "metadata": {},
   "outputs": [
    {
     "data": {
      "text/plain": [
       "2"
      ]
     },
     "execution_count": 3,
     "metadata": {},
     "output_type": "execute_result"
    }
   ],
   "source": [
    "'holla'.find('ll')"
   ]
  },
  {
   "cell_type": "markdown",
   "id": "3d09b1a0",
   "metadata": {},
   "source": [
    "# 09_Nov"
   ]
  },
  {
   "cell_type": "markdown",
   "id": "c5098847",
   "metadata": {},
   "source": [
    "## Lambda"
   ]
  },
  {
   "cell_type": "markdown",
   "id": "b013217b",
   "metadata": {},
   "source": [
    "- These functions are called as annonymous function\n",
    "- These are defined in a single line \n",
    "- Normally lambda function used as a input for higher order functions\n",
    "- Syntax for lambda functions:\n",
    "  * lambda var/s:<statement/s using these var/s\n",
    "- These func by default will return a value, no need to write a return statement\n",
    "- There is no cap on no of vars one can use to define a lambda func"
   ]
  },
  {
   "cell_type": "code",
   "execution_count": 2,
   "id": "98b6d6cc",
   "metadata": {},
   "outputs": [
    {
     "data": {
      "text/plain": [
       "8"
      ]
     },
     "execution_count": 2,
     "metadata": {},
     "output_type": "execute_result"
    }
   ],
   "source": [
    "def fooPower(x, y):\n",
    "    return x**y\n",
    "fooPower(2, 3)"
   ]
  },
  {
   "cell_type": "code",
   "execution_count": 1,
   "id": "01fd5344",
   "metadata": {},
   "outputs": [
    {
     "data": {
      "text/plain": [
       "8"
      ]
     },
     "execution_count": 1,
     "metadata": {},
     "output_type": "execute_result"
    }
   ],
   "source": [
    "# using lambda exponent\n",
    "(lambda x, y : x**y)(2, 3)"
   ]
  },
  {
   "cell_type": "code",
   "execution_count": 3,
   "id": "71f90dfc",
   "metadata": {},
   "outputs": [
    {
     "data": {
      "text/plain": [
       "'Odd'"
      ]
     },
     "execution_count": 3,
     "metadata": {},
     "output_type": "execute_result"
    }
   ],
   "source": [
    "x = 5\n",
    "'Even'if x%2==0 else 'Odd'"
   ]
  },
  {
   "cell_type": "code",
   "execution_count": 4,
   "id": "e1b69fd1",
   "metadata": {},
   "outputs": [
    {
     "data": {
      "text/plain": [
       "'Even'"
      ]
     },
     "execution_count": 4,
     "metadata": {},
     "output_type": "execute_result"
    }
   ],
   "source": [
    "(lambda x: 'Even'if x%2==0 else 'Odd')(6)"
   ]
  },
  {
   "cell_type": "code",
   "execution_count": 14,
   "id": "fb6d6082",
   "metadata": {},
   "outputs": [
    {
     "data": {
      "text/plain": [
       "([2, 4, 6, 8, 10, 12, 14, 16, 18, 20], [1, 3, 5, 7, 9, 11, 13, 15, 17, 19])"
      ]
     },
     "execution_count": 14,
     "metadata": {},
     "output_type": "execute_result"
    }
   ],
   "source": [
    "(lambda x,y: ([ele for ele in range(x,y+1) if ele%2==0], [ele for ele in range(x, y+1) if ele%2!=0]))(1,20)"
   ]
  },
  {
   "cell_type": "code",
   "execution_count": 16,
   "id": "fcb1efbe",
   "metadata": {},
   "outputs": [],
   "source": [
    "c = lambda x, y : x**y"
   ]
  },
  {
   "cell_type": "code",
   "execution_count": 17,
   "id": "d25c55f4",
   "metadata": {},
   "outputs": [
    {
     "data": {
      "text/plain": [
       "8"
      ]
     },
     "execution_count": 17,
     "metadata": {},
     "output_type": "execute_result"
    }
   ],
   "source": [
    "c(2,3)"
   ]
  },
  {
   "cell_type": "markdown",
   "id": "470099b5",
   "metadata": {},
   "source": [
    "## Higher order function\n",
    "* A function is called Higher Order Function if it contains other functions as a parameter or returns a function as an output i.e, the functions that operate with another function are known as Higher order Functions.\n",
    "* Python too supports the concepts of higher order functions."
   ]
  },
  {
   "cell_type": "markdown",
   "id": "a3ae46f1",
   "metadata": {},
   "source": [
    "* Map\n",
    "* Filter\n",
    "* Reduce"
   ]
  },
  {
   "cell_type": "markdown",
   "id": "9c06a952",
   "metadata": {},
   "source": [
    "# Map:\n",
    "- we use map function to apply our function on each element of an iterator\n",
    "- syntax of map function\n",
    "  * map(func, iterator)\n",
    "- op of map function is a map object, we need to type cast it to list or other data type "
   ]
  },
  {
   "cell_type": "markdown",
   "id": "1cb4f495",
   "metadata": {},
   "source": [
    "![](https://miro.medium.com/v2/resize:fit:1020/1*XMcZITBs5CqfolxCh8oV0w.png)"
   ]
  },
  {
   "cell_type": "code",
   "execution_count": 19,
   "id": "58770b90",
   "metadata": {},
   "outputs": [
    {
     "data": {
      "text/plain": [
       "<map at 0x20917a17700>"
      ]
     },
     "execution_count": 19,
     "metadata": {},
     "output_type": "execute_result"
    }
   ],
   "source": [
    "z = map(lambda x: x**2, [1,2,3])\n",
    "z"
   ]
  },
  {
   "cell_type": "code",
   "execution_count": 20,
   "id": "a16af971",
   "metadata": {},
   "outputs": [
    {
     "data": {
      "text/plain": [
       "[1, 4, 9]"
      ]
     },
     "execution_count": 20,
     "metadata": {},
     "output_type": "execute_result"
    }
   ],
   "source": [
    "list(z)"
   ]
  },
  {
   "cell_type": "code",
   "execution_count": 22,
   "id": "1fe7898f",
   "metadata": {},
   "outputs": [
    {
     "data": {
      "text/plain": [
       "[97, 98, 99]"
      ]
     },
     "execution_count": 22,
     "metadata": {},
     "output_type": "execute_result"
    }
   ],
   "source": [
    "z = map(ord, 'abc') # first written a function and takes a string\n",
    "list(z)"
   ]
  },
  {
   "cell_type": "code",
   "execution_count": 26,
   "id": "728935ac",
   "metadata": {},
   "outputs": [
    {
     "data": {
      "text/plain": [
       "[65, 66, 67]"
      ]
     },
     "execution_count": 26,
     "metadata": {},
     "output_type": "execute_result"
    }
   ],
   "source": [
    "z = map(ord, 'ABC')\n",
    "list(z)"
   ]
  },
  {
   "cell_type": "code",
   "execution_count": 3,
   "id": "44a1efda",
   "metadata": {},
   "outputs": [
    {
     "data": {
      "text/plain": [
       "<map at 0x2d618a0ee60>"
      ]
     },
     "execution_count": 3,
     "metadata": {},
     "output_type": "execute_result"
    }
   ],
   "source": [
    "z = map( lambda x: x/0, [1,2,3])# stores function in map\n",
    "z"
   ]
  },
  {
   "cell_type": "code",
   "execution_count": 30,
   "id": "2c3fd164",
   "metadata": {},
   "outputs": [
    {
     "data": {
      "text/plain": [
       "[11, 13, 15]"
      ]
     },
     "execution_count": 30,
     "metadata": {},
     "output_type": "execute_result"
    }
   ],
   "source": [
    "list(map(lambda x, y: x+y, [1,2,3],[10,11,12]))"
   ]
  },
  {
   "cell_type": "code",
   "execution_count": 34,
   "id": "d377a70f",
   "metadata": {},
   "outputs": [
    {
     "data": {
      "text/plain": [
       "[1, 4, 27]"
      ]
     },
     "execution_count": 34,
     "metadata": {},
     "output_type": "execute_result"
    }
   ],
   "source": [
    "list(map(lambda x:x**x, [1,2,3]))"
   ]
  },
  {
   "cell_type": "markdown",
   "id": "05350feb",
   "metadata": {},
   "source": [
    "# Filter():\n",
    "* map() function returns a map object(which is an iterator) of the results after applying the given function to each item of a given iterable (list, tuple etc.)\n",
    "* Syntax:\n",
    "    * map(fun, iter)\n",
    "* Parameters:\n",
    "    * fun: It is a function to which map passes each element of given iterable.\n",
    "    * iter: It is iterable which is to be mapped."
   ]
  },
  {
   "cell_type": "code",
   "execution_count": 38,
   "id": "9f1d7616",
   "metadata": {},
   "outputs": [
    {
     "data": {
      "text/plain": [
       "[2, 4]"
      ]
     },
     "execution_count": 38,
     "metadata": {},
     "output_type": "execute_result"
    }
   ],
   "source": [
    "list(filter(lambda x: True if x%2==0 else False, [1,2,3,4,5]))"
   ]
  },
  {
   "cell_type": "code",
   "execution_count": 8,
   "id": "0896c635",
   "metadata": {},
   "outputs": [
    {
     "data": {
      "text/plain": [
       "[2]"
      ]
     },
     "execution_count": 8,
     "metadata": {},
     "output_type": "execute_result"
    }
   ],
   "source": [
    "list(filter(lambda x: x**x in [2, 4], [1, 2, 3]))"
   ]
  },
  {
   "cell_type": "code",
   "execution_count": 51,
   "id": "176bf912",
   "metadata": {},
   "outputs": [
    {
     "data": {
      "text/plain": [
       "['A', 'a', 'a']"
      ]
     },
     "execution_count": 51,
     "metadata": {},
     "output_type": "execute_result"
    }
   ],
   "source": [
    "list(filter(lambda x: True if x in 'aeiouAEIOU' else False, 'PrAsanna'))"
   ]
  },
  {
   "cell_type": "code",
   "execution_count": 59,
   "id": "6a4124f0",
   "metadata": {},
   "outputs": [
    {
     "data": {
      "text/plain": [
       "['1', '2', '3', 'a', 'b']"
      ]
     },
     "execution_count": 59,
     "metadata": {},
     "output_type": "execute_result"
    }
   ],
   "source": [
    "list(filter(lambda x: True if x.isalnum() else False, '12##3ab'))"
   ]
  },
  {
   "cell_type": "code",
   "execution_count": 62,
   "id": "8999d044",
   "metadata": {},
   "outputs": [
    {
     "data": {
      "text/plain": [
       "['@', '#', '$']"
      ]
     },
     "execution_count": 62,
     "metadata": {},
     "output_type": "execute_result"
    }
   ],
   "source": [
    "list(filter(lambda x: True if x.isalnum() is  False else False, '1@b#$13'))"
   ]
  },
  {
   "cell_type": "markdown",
   "id": "95d99a06",
   "metadata": {},
   "source": [
    "## Reduce"
   ]
  },
  {
   "cell_type": "markdown",
   "id": "f5a7cd8c",
   "metadata": {},
   "source": [
    "* The reduce() function in Python takes in a function and a list as an argument. \n",
    "* The function is called with a lambda function and an iterable and a new reduced result is returned. \n",
    "* This performs a repetitive operation over the pairs of the iterable. \n",
    "* The reduce() function belongs to the functools module. \n"
   ]
  },
  {
   "cell_type": "markdown",
   "id": "c0d2d715",
   "metadata": {},
   "source": [
    "![](https://www.codingem.com/wp-content/uploads/2021/10/reduce-in-python.png)"
   ]
  },
  {
   "cell_type": "code",
   "execution_count": null,
   "id": "5a976a2a",
   "metadata": {},
   "outputs": [],
   "source": []
  },
  {
   "cell_type": "code",
   "execution_count": null,
   "id": "0da3966e",
   "metadata": {},
   "outputs": [],
   "source": []
  },
  {
   "cell_type": "code",
   "execution_count": null,
   "id": "1bbb34dd",
   "metadata": {},
   "outputs": [],
   "source": []
  },
  {
   "cell_type": "code",
   "execution_count": null,
   "id": "b36301da",
   "metadata": {},
   "outputs": [],
   "source": []
  },
  {
   "cell_type": "code",
   "execution_count": null,
   "id": "8c6ec1e1",
   "metadata": {},
   "outputs": [],
   "source": []
  }
 ],
 "metadata": {
  "kernelspec": {
   "display_name": "Python 3 (ipykernel)",
   "language": "python",
   "name": "python3"
  },
  "language_info": {
   "codemirror_mode": {
    "name": "ipython",
    "version": 3
   },
   "file_extension": ".py",
   "mimetype": "text/x-python",
   "name": "python",
   "nbconvert_exporter": "python",
   "pygments_lexer": "ipython3",
   "version": "3.11.5"
  }
 },
 "nbformat": 4,
 "nbformat_minor": 5
}
