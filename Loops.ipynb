{
 "cells": [
  {
   "cell_type": "markdown",
   "id": "d9b613f0",
   "metadata": {},
   "source": [
    "## Control flow statements:\n",
    "\n",
    "* The statements inside your source files are generally executed from top to bottom, in the order that they appear. Control flow statements, however, break up the flow of execution by employing decision making, looping, and branching, enabling your program to conditionally execute particular blocks of code.\n",
    "![](https://pynative.com/wp-content/uploads/2021/03/python-flow-control-statements.png)"
   ]
  },
  {
   "cell_type": "markdown",
   "id": "ac668768",
   "metadata": {},
   "source": [
    "### 1.Conditional statements:"
   ]
  },
  {
   "cell_type": "code",
   "execution_count": 23,
   "id": "2f3cc575",
   "metadata": {},
   "outputs": [
    {
     "name": "stdout",
     "output_type": "stream",
     "text": [
      "3\n",
      "div by 6\n"
     ]
    }
   ],
   "source": [
    "# if statement:\n",
    "    \n",
    "num = int(input())\n",
    "if num%3 == 0 or num%2 == 0:\n",
    "   print('div by 6')"
   ]
  },
  {
   "cell_type": "markdown",
   "id": "da15eca5",
   "metadata": {},
   "source": [
    "![](https://www.programiz.com/sites/tutorial2program/files/python-if-else.png)"
   ]
  },
  {
   "cell_type": "code",
   "execution_count": 24,
   "id": "b9016fcc",
   "metadata": {},
   "outputs": [
    {
     "name": "stdout",
     "output_type": "stream",
     "text": [
      "enter the string: sweety\n",
      "not upper\n"
     ]
    }
   ],
   "source": [
    "# if - else statement:\n",
    "\n",
    "x = input('enter the string: ')\n",
    "if x[2].isupper():\n",
    "   print('upper')\n",
    "else:\n",
    "   print('not upper')\n"
   ]
  },
  {
   "cell_type": "markdown",
   "id": "cf8c91c8",
   "metadata": {},
   "source": [
    "![](https://d1whtlypfis84e.cloudfront.net/guides/wp-content/uploads/2021/06/29090322/if-else-flowchart.jpg)"
   ]
  },
  {
   "cell_type": "code",
   "execution_count": 25,
   "id": "e8151ea4",
   "metadata": {},
   "outputs": [
    {
     "name": "stdout",
     "output_type": "stream",
     "text": [
      "enter your marks:70\n",
      "first round\n"
     ]
    }
   ],
   "source": [
    "# if-elif else statement:\n",
    "\n",
    "# above 80 --> second round\n",
    "# 70 - 80 --> first round\n",
    "# 60 - 70 --> screening round\n",
    "# below 60 --> study hard\n",
    "\n",
    "marks = float(input('enter your marks:'))\n",
    "\n",
    "if marks >=80 :\n",
    "    print('second round')\n",
    "elif marks >= 70:\n",
    "    print('first round')\n",
    "elif marks >=60:\n",
    "    print('screening round')\n",
    "else:\n",
    "    print('study hard')"
   ]
  },
  {
   "cell_type": "markdown",
   "id": "a7c77173",
   "metadata": {},
   "source": [
    "![](https://www.programiz.com/sites/tutorial2program/files/python-elif.png)"
   ]
  },
  {
   "cell_type": "code",
   "execution_count": 26,
   "id": "9b91a159",
   "metadata": {},
   "outputs": [
    {
     "name": "stdout",
     "output_type": "stream",
     "text": [
      "enter a num: 2\n",
      "h\n"
     ]
    }
   ],
   "source": [
    "# nested if else statement:\n",
    "\n",
    "x = int(input('enter a num: '))\n",
    "if 5 < x:\n",
    "    print('f')\n",
    "    print('g')\n",
    "    \n",
    "    if 8 < x:\n",
    "        print('z')\n",
    "else:\n",
    "    print('h')"
   ]
  },
  {
   "cell_type": "markdown",
   "id": "f0fbacc7",
   "metadata": {},
   "source": [
    "![](https://d1whtlypfis84e.cloudfront.net/guides/wp-content/uploads/2021/06/29090812/Nested-if-flowchart.jpg)"
   ]
  },
  {
   "cell_type": "markdown",
   "id": "73975538",
   "metadata": {},
   "source": [
    "## 2. Iterative statements"
   ]
  },
  {
   "cell_type": "markdown",
   "id": "520c9167",
   "metadata": {},
   "source": [
    "# There are three tyes of loops in python:\n",
    "  * While loop\n",
    "  * For loop\n",
    "  * Nested loop\n",
    " "
   ]
  },
  {
   "cell_type": "markdown",
   "id": "c208c2c2",
   "metadata": {},
   "source": [
    "### While loop: With the while loop we can execute a set of statements as long as a condition is true.\n",
    "\n",
    "![](https://www.programiz.com/sites/tutorial2program/files/python-while-loop.png)"
   ]
  },
  {
   "cell_type": "markdown",
   "id": "e993de2b",
   "metadata": {},
   "source": [
    "### For loop: A for loop is used for iterating over a sequence (that is either a list, a tuple, a dictionary, a set, or a string)\n",
    "![](https://d1whtlypfis84e.cloudfront.net/guides/wp-content/uploads/2021/06/28104817/for-loop-flowchart-768x886.jpg)"
   ]
  },
  {
   "cell_type": "markdown",
   "id": "b42ed650",
   "metadata": {},
   "source": [
    "###  Nested loop: A nested loop is a loop inside a loop.The \"inner loop\" will be executed one time for each iteration of the \"outer loop\"\n",
    "![](https://pynative.com/wp-content/uploads/2021/06/python-nested-loop.png)"
   ]
  },
  {
   "cell_type": "markdown",
   "id": "bafe91c6",
   "metadata": {},
   "source": [
    "## 3. Transfer statements:\n",
    "* break: We can use break statement inside loops to break loop execution based on some condition. \n",
    "* continue: We can use continue statement to skip current iteration and continue next iteration. \n",
    "* pass statement: pass is a keyword in Python."
   ]
  },
  {
   "cell_type": "code",
   "execution_count": 4,
   "id": "10e3aec9",
   "metadata": {},
   "outputs": [
    {
     "name": "stdout",
     "output_type": "stream",
     "text": [
      "2\n",
      "3\n"
     ]
    }
   ],
   "source": [
    "## Break: We can use break statement inside loops to break loop execution based on some condition.\n",
    "# Syntax:\n",
    "\n",
    "for / while loop:\n",
    "    # statement(s)\n",
    "    if condition:\n",
    "        break\n",
    "    # statement(s)\n",
    "    \n",
    "# loop end\n",
    "i = 2\n",
    "while i < 7:\n",
    "  print(i)\n",
    "  if i == 3:\n",
    "    break\n",
    "  i += 1 "
   ]
  },
  {
   "cell_type": "code",
   "execution_count": 18,
   "id": "530b08b8",
   "metadata": {},
   "outputs": [
    {
     "name": "stdout",
     "output_type": "stream",
     "text": [
      "1 2 3 4 5 7 8 9 10 "
     ]
    }
   ],
   "source": [
    "## Continue: We can use continue statement to skip current iteration and continue next iteration.\n",
    "# Syntax:\n",
    "    #for / while loop:\n",
    "    # statement(s)\n",
    "    # if condition:\n",
    "        continue\n",
    "    # statement()\n",
    "    \n",
    "    # Python program to \n",
    "# demonstrate continue \n",
    "# statement \n",
    "  \n",
    "# loop from 1 to 10 \n",
    "for i in range(1, 11): \n",
    "  \n",
    "    # If i is equals to 6, \n",
    "    # continue to next iteration \n",
    "    # without printing \n",
    "    if i == 6: \n",
    "        continue\n",
    "    else: \n",
    "        # otherwise print the value \n",
    "        # of i \n",
    "        print(i, end = \" \")\n",
    "    "
   ]
  },
  {
   "cell_type": "code",
   "execution_count": 22,
   "id": "5645fb23",
   "metadata": {},
   "outputs": [
    {
     "name": "stdout",
     "output_type": "stream",
     "text": [
      "c\n",
      "h\n",
      "i\n",
      "Pass executed\n",
      "n\n",
      "a\n"
     ]
    }
   ],
   "source": [
    "## Pass: Pass is a keyword in Python.\n",
    "# The pass statement in Python has the following syntax:\n",
    "# function/ condition / loop:\n",
    "#   pass\n",
    "\n",
    "s = \"china\"\n",
    "for i in s: \n",
    "    if i == 'n': \n",
    "        print('Pass executed') \n",
    "        pass\n",
    "    print(i) \n"
   ]
  }
 ],
 "metadata": {
  "kernelspec": {
   "display_name": "Python 3 (ipykernel)",
   "language": "python",
   "name": "python3"
  },
  "language_info": {
   "codemirror_mode": {
    "name": "ipython",
    "version": 3
   },
   "file_extension": ".py",
   "mimetype": "text/x-python",
   "name": "python",
   "nbconvert_exporter": "python",
   "pygments_lexer": "ipython3",
   "version": "3.11.5"
  }
 },
 "nbformat": 4,
 "nbformat_minor": 5
}
