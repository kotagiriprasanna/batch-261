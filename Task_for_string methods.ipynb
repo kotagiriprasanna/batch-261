{
 "cells": [
  {
   "cell_type": "markdown",
   "id": "186cba2c",
   "metadata": {},
   "source": [
    "## 1. Capitalize()"
   ]
  },
  {
   "cell_type": "code",
   "execution_count": 5,
   "id": "d2965d70",
   "metadata": {},
   "outputs": [],
   "source": [
    "def str_capitalize(input_string):\n",
    "    '''\n",
    "    capitalize() in Python is used to convert the first character of a string\n",
    "    to uppercase and the remaining characters to lowercase.\n",
    "    The capitalize() function takes no parameters.\n",
    "    capitalize() does not modify the actual input string but returns a new updated string.\n",
    "    '''\n",
    "\n",
    "    if len(input_string) > 0:  # Check if the string is not empty\n",
    "        print(input_string[0].upper() + input_string[1:]) #Capitalize the first character and concatenate the rest of the string\n",
    "    else:\n",
    "        print ('input_string') # it prints the given input\n"
   ]
  },
  {
   "cell_type": "code",
   "execution_count": 6,
   "id": "878119c1",
   "metadata": {},
   "outputs": [
    {
     "name": "stdout",
     "output_type": "stream",
     "text": [
      "Hello_world\n"
     ]
    }
   ],
   "source": [
    "str_capitalize('hello_world')"
   ]
  },
  {
   "cell_type": "code",
   "execution_count": 9,
   "id": "46c40887",
   "metadata": {},
   "outputs": [
    {
     "data": {
      "text/plain": [
       "'\\n    capitalize() in Python is used to convert the first character of a string\\n    to uppercase and the remaining characters to lowercase.\\n    The capitalize() function takes no parameters.\\n    capitalize() does not modify the actual input string but returns a new updated string.\\n    '"
      ]
     },
     "execution_count": 9,
     "metadata": {},
     "output_type": "execute_result"
    }
   ],
   "source": [
    "str_capitalize.__doc__"
   ]
  },
  {
   "cell_type": "code",
   "execution_count": 8,
   "id": "1b4109a1",
   "metadata": {},
   "outputs": [
    {
     "name": "stdout",
     "output_type": "stream",
     "text": [
      "Who are you\n"
     ]
    }
   ],
   "source": [
    "str_capitalize('who are you')"
   ]
  },
  {
   "cell_type": "markdown",
   "id": "f9d4d1d5",
   "metadata": {},
   "source": [
    "## 2. Casefold()"
   ]
  },
  {
   "cell_type": "code",
   "execution_count": 10,
   "id": "bdc4cbaa",
   "metadata": {},
   "outputs": [],
   "source": [
    "def str_casefold(input_string): # defining a string\n",
    "    '''\n",
    "    The casefold() method returns a string where all the characters are lower case.\n",
    "    This method is similar to the lower() method, but the casefold() method is stronger,\n",
    "    more aggressive, meaning that it will convert more characters into lower case, \n",
    "    and will find more matches when comparing two strings and both are converted using the casefold() method.\n",
    "    '''\n",
    "    str_casefolded_string = \"\" # Take an empty string\n",
    "    for char in input_string: # Check if the character is an uppercase letter or not\n",
    "        if 'A' <= char <= 'Z': # Convert to lowercase by using ASCII values\n",
    "            char = chr(ord(char) + ord('a') - ord('A')) # Append the character to the result string\n",
    "        str_casefolded_string += char\n",
    "    \n",
    "    print(str_casefolded_string)   # Print the casefolded string (without using return)"
   ]
  },
  {
   "cell_type": "code",
   "execution_count": 202,
   "id": "a84f2e84",
   "metadata": {},
   "outputs": [
    {
     "name": "stdout",
     "output_type": "stream",
     "text": [
      "prasanna!\n"
     ]
    },
    {
     "data": {
      "text/plain": [
       "'\\n    The casefold() method returns a string where all the characters are lower case.\\n    This method is similar to the lower() method, but the casefold() method is stronger,\\n    more aggressive, meaning that it will convert more characters into lower case, \\n    and will find more matches when comparing two strings and both are converted using the casefold() method.\\n    '"
      ]
     },
     "execution_count": 202,
     "metadata": {},
     "output_type": "execute_result"
    }
   ],
   "source": [
    "input_str = \"PRASANNA!\"\n",
    "str_casefold(input_str)\n",
    "str_casefold.__doc__"
   ]
  },
  {
   "cell_type": "code",
   "execution_count": 11,
   "id": "51c70507",
   "metadata": {},
   "outputs": [
    {
     "name": "stdout",
     "output_type": "stream",
     "text": [
      "i love doraemon!\n"
     ]
    }
   ],
   "source": [
    "input_str = \"I love doraemon!\"\n",
    "str_casefold(input_str)"
   ]
  },
  {
   "cell_type": "markdown",
   "id": "ee2b56fd",
   "metadata": {},
   "source": [
    "##  Center()"
   ]
  },
  {
   "cell_type": "code",
   "execution_count": 12,
   "id": "af32f6b3",
   "metadata": {},
   "outputs": [],
   "source": [
    "def center_word(word, width):\n",
    "    '''\n",
    "    The center() method will center align the string, using a specified character (space is default) as the fill character.\n",
    "    Syntax : string.center(length, character)\n",
    "    Parameters : length --> The length of the returned string\n",
    "                 character --> The character to fill the missing space on each side. \n",
    "                 Default is \" \" (space)\n",
    "    '''\n",
    "    total_spaces = width - len(word)\n",
    "    left_spaces = total_spaces // 2\n",
    "\n",
    "    centered_word = \" \" * left_spaces + word # Create a string with left spaces followed by the word\n",
    "    \n",
    "\n",
    "    print(centered_word)"
   ]
  },
  {
   "cell_type": "code",
   "execution_count": 14,
   "id": "fa84ca57",
   "metadata": {},
   "outputs": [
    {
     "data": {
      "text/plain": [
       "'\\n    The center() method will center align the string, using a specified character (space is default) as the fill character.\\n    Syntax : string.center(length, character)\\n    Parameters : length --> The length of the returned string\\n                 character --> The character to fill the missing space on each side. \\n                 Default is \" \" (space)\\n    '"
      ]
     },
     "execution_count": 14,
     "metadata": {},
     "output_type": "execute_result"
    }
   ],
   "source": [
    "center_word.__doc__"
   ]
  },
  {
   "cell_type": "code",
   "execution_count": 13,
   "id": "c0ce3db7",
   "metadata": {},
   "outputs": [
    {
     "name": "stdout",
     "output_type": "stream",
     "text": [
      "                                    Welcome\n"
     ]
    }
   ],
   "source": [
    "word_to_center = \"Welcome\"\n",
    "terminal_width = 80 \n",
    "centered_result = center_word(word_to_center, terminal_width)"
   ]
  },
  {
   "cell_type": "code",
   "execution_count": 16,
   "id": "950b1a01",
   "metadata": {},
   "outputs": [],
   "source": [
    "def center_word(word, width):\n",
    "    total_spaces = width - len(word)\n",
    "    left_spaces = total_spaces // 2\n",
    "    right_spaces = total_spaces - left_spaces\n",
    "\n",
    "    centered_word = \"*\" * left_spaces + word + \"*\" * right_spaces\n",
    "    print(centered_word)"
   ]
  },
  {
   "cell_type": "code",
   "execution_count": 17,
   "id": "7f27084f",
   "metadata": {},
   "outputs": [
    {
     "name": "stdout",
     "output_type": "stream",
     "text": [
      "******welcome*******\n"
     ]
    }
   ],
   "source": [
    "center_word(\"welcome\", 20)"
   ]
  },
  {
   "cell_type": "markdown",
   "id": "0ff31157",
   "metadata": {},
   "source": [
    "## Istitle()"
   ]
  },
  {
   "cell_type": "code",
   "execution_count": 15,
   "id": "ba7984a5",
   "metadata": {},
   "outputs": [],
   "source": [
    "def stristitle(string): # defining a function\n",
    "    '''\n",
    "    The istitle() method returns True if all words in a text start with a upper case letter,\n",
    "    and the rest of the word are lower case letters, otherwise False.\n",
    "    No parameters\n",
    "    '''\n",
    "    for char in string: # iterate through each character in the string\n",
    "        asciicode = ord(char) # gets the ascii code of the current character\n",
    "        x = ord(string[0]) # it gives the ascii code of the first character of the string\n",
    "    if x in range(65,91): # it checks if the asci code of the first character is in the range of uppercase letters (65-90)  \n",
    "        print('True') # if True, prints 'True'\n",
    "    else:\n",
    "        print('False') # if False, prints 'False'"
   ]
  },
  {
   "cell_type": "code",
   "execution_count": 16,
   "id": "48d1caed",
   "metadata": {},
   "outputs": [
    {
     "data": {
      "text/plain": [
       "'\\n    The istitle() method returns True if all words in a text start with a upper case letter,\\n    and the rest of the word are lower case letters, otherwise False.\\n    No parameters\\n    '"
      ]
     },
     "execution_count": 16,
     "metadata": {},
     "output_type": "execute_result"
    }
   ],
   "source": [
    "stristitle.__doc__"
   ]
  },
  {
   "cell_type": "code",
   "execution_count": 66,
   "id": "bd94428f",
   "metadata": {},
   "outputs": [
    {
     "name": "stdout",
     "output_type": "stream",
     "text": [
      "True\n"
     ]
    }
   ],
   "source": [
    "stristitle('There Is B Bus')"
   ]
  },
  {
   "cell_type": "code",
   "execution_count": 67,
   "id": "e6c5478e",
   "metadata": {},
   "outputs": [
    {
     "name": "stdout",
     "output_type": "stream",
     "text": [
      "False\n"
     ]
    }
   ],
   "source": [
    "stristitle('there is a bus')"
   ]
  },
  {
   "cell_type": "markdown",
   "id": "83413958",
   "metadata": {},
   "source": [
    "## Startswith()"
   ]
  },
  {
   "cell_type": "code",
   "execution_count": 9,
   "id": "3ce19159",
   "metadata": {},
   "outputs": [],
   "source": [
    "def str_startswith(s, prefix):\n",
    "    '''\n",
    "    The startswith() method returns True if the string starts with the specified value, otherwise False.\n",
    "    Parameters : value--> The value to check if the string starts with.\n",
    "                 start--> An Integer specifying at which position to start the search.\n",
    "                 end--> An Integer specifying at which position to end the search. \n",
    "    '''\n",
    "    \n",
    "    if len(prefix) > len(s): # it checks if the length of the prefix is greater than the length of the string\n",
    "        return False\n",
    "\n",
    "    for i in range(len(prefix)): # Iterate over the characters in the prefix\n",
    "        if prefix[i] != s[i]: # Compare each character in the prefix with the corresponding character in the string\n",
    "            return False\n",
    "\n",
    "    return True"
   ]
  },
  {
   "cell_type": "code",
   "execution_count": 10,
   "id": "066f5063",
   "metadata": {},
   "outputs": [
    {
     "name": "stdout",
     "output_type": "stream",
     "text": [
      "True\n"
     ]
    }
   ],
   "source": [
    "string = \"The bus!\"\n",
    "prefix = \"The\"\n",
    "result = str_startswith(string, prefix)\n",
    "\n",
    "print(result)"
   ]
  },
  {
   "cell_type": "code",
   "execution_count": 11,
   "id": "2daf59c7",
   "metadata": {},
   "outputs": [
    {
     "name": "stdout",
     "output_type": "stream",
     "text": [
      "False\n"
     ]
    }
   ],
   "source": [
    "string = \"The bus!\"\n",
    "prefix = \"bus\"\n",
    "result = str_startswith(string, prefix)\n",
    "\n",
    "print(result)"
   ]
  },
  {
   "cell_type": "markdown",
   "id": "8df32873",
   "metadata": {},
   "source": [
    "## Endswith()"
   ]
  },
  {
   "cell_type": "code",
   "execution_count": 18,
   "id": "5061fbbf",
   "metadata": {},
   "outputs": [],
   "source": [
    "def str_endswith(s, suffix):\n",
    "    '''\n",
    "    The endswith() method returns True if the string ends with the specified value, otherwise False.\n",
    "    Syntax : string.endswith(value, start, end)\n",
    "    Parameters : value--> The value to check if the string ends with\n",
    "                 start--> An Integer specifying at which position to start the search\n",
    "                 end--> An Integer specifying at which position to end the search\n",
    "\n",
    "    '''\n",
    "    if len(suffix) > len(s): # Check if the length of the suffix is greater than the length of the string\n",
    "        return False\n",
    "\n",
    "    start_index = len(s) - len(suffix)  # Calculate the starting index in the string for comparison\n",
    "\n",
    "    for i in range(len(suffix)): # Iterate over the characters in the suffix\n",
    "        if suffix[i] != s[start_index + i]:# Compare each character in the suffix with the corresponding character in the string\n",
    "            return False\n",
    "\n",
    "    return True\n"
   ]
  },
  {
   "cell_type": "code",
   "execution_count": 19,
   "id": "250363bc",
   "metadata": {},
   "outputs": [
    {
     "name": "stdout",
     "output_type": "stream",
     "text": [
      "True\n"
     ]
    }
   ],
   "source": [
    "string = \"The bus!\"\n",
    "suffix = \"bus!\"\n",
    "result = str_endswith(string, suffix)\n",
    "\n",
    "print(result)"
   ]
  },
  {
   "cell_type": "code",
   "execution_count": 198,
   "id": "dec02160",
   "metadata": {},
   "outputs": [
    {
     "data": {
      "text/plain": [
       "'\\n    The endswith() method returns True if the string ends with the specified value, otherwise False.\\n    Syntax : string.endswith(value, start, end)\\n    Parameters : value--> The value to check if the string ends with\\n                 start--> An Integer specifying at which position to start the search\\n                 end--> An Integer specifying at which position to end the search\\n\\n    '"
      ]
     },
     "execution_count": 198,
     "metadata": {},
     "output_type": "execute_result"
    }
   ],
   "source": [
    "str_endswith.__doc__"
   ]
  },
  {
   "cell_type": "code",
   "execution_count": 190,
   "id": "18b7c548",
   "metadata": {},
   "outputs": [
    {
     "name": "stdout",
     "output_type": "stream",
     "text": [
      "False\n"
     ]
    }
   ],
   "source": [
    "string = \"The bus!\"\n",
    "suffix = \"The\"\n",
    "result = str_endswith(string, suffix)\n",
    "\n",
    "print(result)"
   ]
  },
  {
   "cell_type": "markdown",
   "id": "e2ef7f76",
   "metadata": {},
   "source": [
    "## rfind()"
   ]
  },
  {
   "cell_type": "code",
   "execution_count": null,
   "id": "5cbbb881",
   "metadata": {},
   "outputs": [],
   "source": []
  },
  {
   "cell_type": "code",
   "execution_count": 36,
   "id": "6ecc0669",
   "metadata": {},
   "outputs": [
    {
     "data": {
      "text/plain": [
       "'\\n    The rfind() method finds the last occurrence of the specified value.\\n    The rfind() method returns -1 if the value is not found.\\n    The rfind() method is almost the same as the rindex() method.\\n    Syntax - string.rfind(value, start, end)\\n    Parameters: \\n               value--> The value to search for\\n               start--> Where to start the search. Default is 0\\n               end--> Where to end the search. Default is to the end of the string\\n    '"
      ]
     },
     "execution_count": 36,
     "metadata": {},
     "output_type": "execute_result"
    }
   ],
   "source": [
    "def str_rFind(s, a):\n",
    "    '''\n",
    "    The rfind() method finds the last occurrence of the specified value.\n",
    "    The rfind() method returns -1 if the value is not found.\n",
    "    The rfind() method is almost the same as the rindex() method.\n",
    "    Syntax - string.rfind(value, start, end)\n",
    "    Parameters: \n",
    "               value--> The value to search for\n",
    "               start--> Where to start the search. Default is 0\n",
    "               end--> Where to end the search. Default is to the end of the string\n",
    "    '''\n",
    "    x = s\n",
    "    y = a\n",
    "    \n",
    "    i = -1\n",
    "    \n",
    "    \n",
    "    for _, j in enumerate(x):\n",
    "        if y == j:\n",
    "            i=_\n",
    "            \n",
    "    if i != -1:\n",
    "            return i\n",
    "    else:\n",
    "        print(-1)  \n",
    "\n",
    "str_rFind.__doc__"
   ]
  },
  {
   "cell_type": "code",
   "execution_count": 37,
   "id": "c0743a8b",
   "metadata": {},
   "outputs": [
    {
     "data": {
      "text/plain": [
       "4"
      ]
     },
     "execution_count": 37,
     "metadata": {},
     "output_type": "execute_result"
    }
   ],
   "source": [
    "str_rFind('chinni','n') # it gives the index value"
   ]
  },
  {
   "cell_type": "code",
   "execution_count": 38,
   "id": "77d0e7c5",
   "metadata": {},
   "outputs": [
    {
     "name": "stdout",
     "output_type": "stream",
     "text": [
      "-1\n"
     ]
    }
   ],
   "source": [
    "str_rFind('chinni','x')"
   ]
  },
  {
   "cell_type": "code",
   "execution_count": 49,
   "id": "641d29de",
   "metadata": {},
   "outputs": [
    {
     "data": {
      "text/plain": [
       "7"
      ]
     },
     "execution_count": 49,
     "metadata": {},
     "output_type": "execute_result"
    }
   ],
   "source": [
    "str_rFind('prasanna','a')"
   ]
  },
  {
   "cell_type": "markdown",
   "id": "8d0f7a39",
   "metadata": {},
   "source": [
    "## Find()"
   ]
  },
  {
   "cell_type": "code",
   "execution_count": 2,
   "id": "7a105fde",
   "metadata": {},
   "outputs": [
    {
     "data": {
      "text/plain": [
       "'\\n    Python find() function is used to return the lowest index value of the \\n    first occurrence of the substring from the input string; else it returns -1.\\n    The Python find() is an in-built string method that returns the index\\n    position of the character if found; else it returns value -1.\\n    '"
      ]
     },
     "execution_count": 2,
     "metadata": {},
     "output_type": "execute_result"
    }
   ],
   "source": [
    "def str_find(x, y):\n",
    "    '''\n",
    "    Python find() function is used to return the lowest index value of the \n",
    "    first occurrence of the substring from the input string; else it returns -1.\n",
    "    The Python find() is an in-built string method that returns the index\n",
    "    position of the character if found; else it returns value -1.\n",
    "    '''\n",
    "    \n",
    "    for i in range(len(x)):  # it iterate through each index in the range of the length of string 'x'\n",
    "        if x[i] == y:  # Check if the character at index 'i' in string 'x' is equal to 'y'\n",
    "            return i   # If found, return the index 'i'\n",
    "    else:\n",
    "        print(-1) # if the loop completes without finding 'y', print-1\n",
    "    \n",
    "str_find.__doc__"
   ]
  },
  {
   "cell_type": "code",
   "execution_count": 4,
   "id": "d4215955",
   "metadata": {},
   "outputs": [
    {
     "data": {
      "text/plain": [
       "2"
      ]
     },
     "execution_count": 4,
     "metadata": {},
     "output_type": "execute_result"
    }
   ],
   "source": [
    "str_find('sweety','e')"
   ]
  },
  {
   "cell_type": "code",
   "execution_count": 46,
   "id": "b081c2d3",
   "metadata": {},
   "outputs": [
    {
     "data": {
      "text/plain": [
       "3"
      ]
     },
     "execution_count": 46,
     "metadata": {},
     "output_type": "execute_result"
    }
   ],
   "source": [
    "str_find('prasanna','s')"
   ]
  },
  {
   "cell_type": "code",
   "execution_count": 47,
   "id": "e97cc467",
   "metadata": {},
   "outputs": [
    {
     "data": {
      "text/plain": [
       "-1"
      ]
     },
     "execution_count": 47,
     "metadata": {},
     "output_type": "execute_result"
    }
   ],
   "source": [
    "str_find('prasanna','x')"
   ]
  },
  {
   "cell_type": "code",
   "execution_count": null,
   "id": "096ca11b",
   "metadata": {},
   "outputs": [],
   "source": []
  },
  {
   "cell_type": "code",
   "execution_count": null,
   "id": "39f31dee",
   "metadata": {},
   "outputs": [],
   "source": []
  },
  {
   "cell_type": "code",
   "execution_count": null,
   "id": "5a46554f",
   "metadata": {},
   "outputs": [],
   "source": []
  }
 ],
 "metadata": {
  "kernelspec": {
   "display_name": "Python 3 (ipykernel)",
   "language": "python",
   "name": "python3"
  },
  "language_info": {
   "codemirror_mode": {
    "name": "ipython",
    "version": 3
   },
   "file_extension": ".py",
   "mimetype": "text/x-python",
   "name": "python",
   "nbconvert_exporter": "python",
   "pygments_lexer": "ipython3",
   "version": "3.11.5"
  }
 },
 "nbformat": 4,
 "nbformat_minor": 5
}
