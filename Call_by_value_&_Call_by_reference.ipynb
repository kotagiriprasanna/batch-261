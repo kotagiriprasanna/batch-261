{
 "cells": [
  {
   "cell_type": "markdown",
   "id": "1d2c398d",
   "metadata": {},
   "source": [
    "## Call by value:"
   ]
  },
  {
   "cell_type": "markdown",
   "id": "9623cccc",
   "metadata": {},
   "source": [
    "* Call by value\" is a parameter-passing mechanism where the value of the actual argument is copied into the formal parameter of the function.\n",
    "* Any changes made to the parameter inside the function do not affect the original value outside the function. \n",
    "* In languages like Python, the term \"call by value\" is often used colloquially to describe the behavior with immutable objects, even though the underlying mechanism is more accurately described as \"call by object reference\" or \"call by sharing.\"\n",
    "* Here the value of parameters will be copied to formal parameters store values in differnt locations."
   ]
  },
  {
   "cell_type": "markdown",
   "id": "44a6b1fa",
   "metadata": {},
   "source": [
    "* Actual parameters - The parameters passed to a function\n",
    "* Formal parameters - The parameters received by a function"
   ]
  },
  {
   "cell_type": "code",
   "execution_count": 4,
   "id": "769b5851",
   "metadata": {},
   "outputs": [
    {
     "name": "stdout",
     "output_type": "stream",
     "text": [
      "Inside Function: banana\n",
      "Outside Function: mango\n"
     ]
    }
   ],
   "source": [
    "string = \"mango\"\n",
    " \n",
    " \n",
    "def test(string):\n",
    "     \n",
    "    string = \"banana\"\n",
    "    print(\"Inside Function:\", string)\n",
    "     \n",
    "test(string)\n",
    "print(\"Outside Function:\", string)"
   ]
  },
  {
   "cell_type": "markdown",
   "id": "daa6aa90",
   "metadata": {},
   "source": [
    "![](data:image/png;base64,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)"
   ]
  },
  {
   "cell_type": "markdown",
   "id": "17e4f6f1",
   "metadata": {},
   "source": [
    "## Call by reference:"
   ]
  },
  {
   "cell_type": "markdown",
   "id": "c39120db",
   "metadata": {},
   "source": [
    "* Arguments are passed by assignment in Python. The assignment creates references to objects.\n",
    "* Hence, Immutable objects passed as arguments are referred as in Call by Value and Mutable objects, when passed as arguments are referred to as Call by Reference.\n",
    "* While calling the function we pass values and called as call by values.\n",
    "* At the time of calling instead of passing the values we pass the address of the variables that means the location of variables so called call by reference."
   ]
  },
  {
   "cell_type": "code",
   "execution_count": 14,
   "id": "2cc2adb4",
   "metadata": {},
   "outputs": [],
   "source": [
    "x = [1,2,3]\n",
    "def foo():\n",
    "    x.append(4)\n",
    "    print(x)"
   ]
  },
  {
   "cell_type": "code",
   "execution_count": 15,
   "id": "c833af21",
   "metadata": {},
   "outputs": [
    {
     "name": "stdout",
     "output_type": "stream",
     "text": [
      "[1, 2, 3, 4]\n"
     ]
    }
   ],
   "source": [
    "foo()"
   ]
  },
  {
   "cell_type": "code",
   "execution_count": 16,
   "id": "c9fa1568",
   "metadata": {},
   "outputs": [
    {
     "data": {
      "text/plain": [
       "[1, 2, 3, 4]"
      ]
     },
     "execution_count": 16,
     "metadata": {},
     "output_type": "execute_result"
    }
   ],
   "source": [
    "x"
   ]
  },
  {
   "cell_type": "markdown",
   "id": "a4051611",
   "metadata": {},
   "source": [
    "### Difference between call by value & call by reference:"
   ]
  },
  {
   "cell_type": "markdown",
   "id": "11de4a5f",
   "metadata": {},
   "source": [
    "* In call by value, a parameter acts within the function as a new local variable initialized to the value of the argument (a local (isolated) copy of the argument). \n",
    "* In call by reference, the argument variable supplied by the caller can be affected by actions within the called function."
   ]
  },
  {
   "cell_type": "markdown",
   "id": "79e72c1e",
   "metadata": {},
   "source": [
    "![](data:image/jpeg;base64,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)"
   ]
  }
 ],
 "metadata": {
  "kernelspec": {
   "display_name": "Python 3 (ipykernel)",
   "language": "python",
   "name": "python3"
  },
  "language_info": {
   "codemirror_mode": {
    "name": "ipython",
    "version": 3
   },
   "file_extension": ".py",
   "mimetype": "text/x-python",
   "name": "python",
   "nbconvert_exporter": "python",
   "pygments_lexer": "ipython3",
   "version": "3.11.5"
  }
 },
 "nbformat": 4,
 "nbformat_minor": 5
}
