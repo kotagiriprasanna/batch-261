{
 "cells": [
  {
   "cell_type": "markdown",
   "id": "cfb83ecc",
   "metadata": {},
   "source": [
    "1)\n",
    "\n",
    " * Document today’s class with proper explanation using markdown, comments, examples and code.\n",
    " \n",
    " Class :\n",
    "  \n",
    " A class is like a blueprint or template for creating objects in computer programming.\n",
    " \n",
    "  * Blue print of the objects.\n",
    "  * defines the properties (attributes) and behaviors (methods) that the objects belonging to that class will have.\n"
   ]
  },
  {
   "cell_type": "code",
   "execution_count": 4,
   "id": "13caa9bb",
   "metadata": {},
   "outputs": [
    {
     "name": "stdout",
     "output_type": "stream",
     "text": [
      "hello <class 'str'>\n"
     ]
    }
   ],
   "source": [
    "x = 'hello'\n",
    "print(x, type(x))"
   ]
  },
  {
   "cell_type": "code",
   "execution_count": 2,
   "id": "c28a3813",
   "metadata": {},
   "outputs": [
    {
     "name": "stdout",
     "output_type": "stream",
     "text": [
      "['__add__', '__class__', '__contains__', '__delattr__', '__dir__', '__doc__', '__eq__', '__format__', '__ge__', '__getattribute__', '__getitem__', '__getnewargs__', '__getstate__', '__gt__', '__hash__', '__init__', '__init_subclass__', '__iter__', '__le__', '__len__', '__lt__', '__mod__', '__mul__', '__ne__', '__new__', '__reduce__', '__reduce_ex__', '__repr__', '__rmod__', '__rmul__', '__setattr__', '__sizeof__', '__str__', '__subclasshook__', 'capitalize', 'casefold', 'center', 'count', 'encode', 'endswith', 'expandtabs', 'find', 'format', 'format_map', 'index', 'isalnum', 'isalpha', 'isascii', 'isdecimal', 'isdigit', 'isidentifier', 'islower', 'isnumeric', 'isprintable', 'isspace', 'istitle', 'isupper', 'join', 'ljust', 'lower', 'lstrip', 'maketrans', 'partition', 'removeprefix', 'removesuffix', 'replace', 'rfind', 'rindex', 'rjust', 'rpartition', 'rsplit', 'rstrip', 'split', 'splitlines', 'startswith', 'strip', 'swapcase', 'title', 'translate', 'upper', 'zfill']\n"
     ]
    }
   ],
   "source": [
    "print(dir('x'))"
   ]
  },
  {
   "cell_type": "markdown",
   "id": "020b5265",
   "metadata": {},
   "source": [
    "## String Methods :\n",
    " * String operations are like tools that you can use to work with text (strings) in computer programming.\n",
    "strings are immutable, the resulting strings from string methods have a new memory location.\n",
    "in order to use these strings, we need re-assign it to a variable.\n",
    "\n",
    " String_Upper_Case():\n",
    " \n",
    " * This method changes all the characters in a string to capital alphabets. \n",
    "   x.upper()"
   ]
  },
  {
   "cell_type": "code",
   "execution_count": 10,
   "id": "53d6d756",
   "metadata": {},
   "outputs": [
    {
     "name": "stdout",
     "output_type": "stream",
     "text": [
      "PYTHON\n"
     ]
    },
    {
     "data": {
      "text/plain": [
       "'python'"
      ]
     },
     "execution_count": 10,
     "metadata": {},
     "output_type": "execute_result"
    }
   ],
   "source": [
    "x = 'PYTHON'\n",
    "print(x)\n",
    "x.lower()"
   ]
  },
  {
   "cell_type": "markdown",
   "id": "34ae3d54",
   "metadata": {},
   "source": [
    "## String_lower_case() :\n",
    "    \n",
    "* This method changes all the characters in a string to small letters.\n",
    "\n",
    "* lower case\n",
    " str = 'She sells seashellsby the seashore'\n",
    " str.lower()"
   ]
  },
  {
   "cell_type": "code",
   "execution_count": null,
   "id": "92d3d996",
   "metadata": {},
   "outputs": [],
   "source": [
    "* strings are <u>**'immutable'<\\u>, the resulting strings from string methods have a new memory location \n",
    "* in order to use strings, we need to reassign it to a variable"
   ]
  },
  {
   "cell_type": "markdown",
   "id": "e3ccce85",
   "metadata": {},
   "source": [
    "## String_Upper_Case():\n",
    " \n",
    " * This method changes all the characters in a string to capital alphabets. \n",
    "   x.upper()\n",
    "\n",
    " * upper case\n",
    " str = 'She sells seashellsby the seashore'\n",
    " str.upper()"
   ]
  },
  {
   "cell_type": "code",
   "execution_count": 20,
   "id": "ee97c4cd",
   "metadata": {},
   "outputs": [
    {
     "data": {
      "text/plain": [
       "1956794804208"
      ]
     },
     "execution_count": 20,
     "metadata": {},
     "output_type": "execute_result"
    }
   ],
   "source": [
    "id(x)"
   ]
  },
  {
   "cell_type": "code",
   "execution_count": 22,
   "id": "bccd5330",
   "metadata": {},
   "outputs": [
    {
     "data": {
      "text/plain": [
       "1956809537920"
      ]
     },
     "execution_count": 22,
     "metadata": {},
     "output_type": "execute_result"
    }
   ],
   "source": [
    "x = [1,2,3]\n",
    "id(x)"
   ]
  },
  {
   "cell_type": "markdown",
   "id": "1c1e5c88",
   "metadata": {},
   "source": [
    "## String_capitalize() :\n",
    "    \n",
    "* This method changes first word, first alphabet will be convert into capital letter\n",
    "\n",
    "* Cpitalize()"
   ]
  },
  {
   "cell_type": "markdown",
   "id": "d5ade926",
   "metadata": {},
   "source": [
    "### title()\n",
    "* converts every first alphabet of every word in capital case\n",
    "* str.title()"
   ]
  },
  {
   "cell_type": "code",
   "execution_count": 31,
   "id": "04c3c1b2",
   "metadata": {},
   "outputs": [
    {
     "data": {
      "text/plain": [
       "'123Abc !Def Zx 1234!!@@C'"
      ]
     },
     "execution_count": 31,
     "metadata": {},
     "output_type": "execute_result"
    }
   ],
   "source": [
    "'123abc !def zx 1234!!@@c'.title()"
   ]
  },
  {
   "cell_type": "markdown",
   "id": "220f7908",
   "metadata": {},
   "source": [
    "### String Swapcase()\n",
    "\n",
    "* This method changes capital letters to small letters and small letters to capital letters.\n",
    "  str.swapcase()"
   ]
  },
  {
   "cell_type": "markdown",
   "id": "7ea70bca",
   "metadata": {},
   "source": [
    "## String_casefold() :\n",
    "\n",
    "* This method changes string lower case to more lower case , special characters like Germen character (ß) is already in lower     case so, the lower method doesn’t make the conversion.\n",
    "* but the casefold() method will convert ß to its equivalent character ss\n",
    "\n",
    "x = 'SjuhdßcnjdGIUN'\n",
    "x.casefold()\n"
   ]
  },
  {
   "cell_type": "code",
   "execution_count": 2,
   "id": "c41fc5f0",
   "metadata": {},
   "outputs": [
    {
     "name": "stdout",
     "output_type": "stream",
     "text": [
      "2010032141040\n"
     ]
    }
   ],
   "source": [
    "p=\"Prasanna\"\n",
    "print(id(p))"
   ]
  },
  {
   "cell_type": "code",
   "execution_count": null,
   "id": "9ba85cb6",
   "metadata": {},
   "outputs": [],
   "source": []
  },
  {
   "cell_type": "code",
   "execution_count": null,
   "id": "87f12cf6",
   "metadata": {},
   "outputs": [],
   "source": []
  },
  {
   "cell_type": "code",
   "execution_count": null,
   "id": "74570f20",
   "metadata": {},
   "outputs": [],
   "source": []
  },
  {
   "cell_type": "code",
   "execution_count": null,
   "id": "82c9c390",
   "metadata": {},
   "outputs": [],
   "source": []
  }
 ],
 "metadata": {
  "kernelspec": {
   "display_name": "Python 3 (ipykernel)",
   "language": "python",
   "name": "python3"
  },
  "language_info": {
   "codemirror_mode": {
    "name": "ipython",
    "version": 3
   },
   "file_extension": ".py",
   "mimetype": "text/x-python",
   "name": "python",
   "nbconvert_exporter": "python",
   "pygments_lexer": "ipython3",
   "version": "3.11.5"
  }
 },
 "nbformat": 4,
 "nbformat_minor": 5
}
