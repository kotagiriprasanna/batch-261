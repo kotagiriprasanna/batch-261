{
 "cells": [
  {
   "cell_type": "markdown",
   "id": "e7992607",
   "metadata": {},
   "source": [
    "### Strings \n",
    "* Strings are sequence of characters, enclosed in single quotes (''), double quotes (\"\"),triple-single or triple-quotes (''' ''')\n",
    "* Triple-quotes are used as multilines strings, multiline comments and as doc strings.\n",
    "* It is an immutable data type, which means once a string is created, it cannot be modified.\n",
    "* However, it is possible to create a new string by concentrating two or more strings.\n",
    "\n",
    "\n"
   ]
  },
  {
   "cell_type": "code",
   "execution_count": null,
   "id": "2ab86f23",
   "metadata": {},
   "outputs": [],
   "source": [
    "### creating a string\n",
    "s1 = 'this is a string, enclosed in single quotres'\n",
    "s2 = \"this is a string, enclosed in double quotes\"\n",
    "s3 = '''this is a multi-string,enclosed in triple single quotes'''\n",
    "print(s1, s2, s3, sep='/n')\n",
    "\n",
    "\"\"\"this is an informative\n",
    "multi line comment,\n",
    "created by using triple double quotes\"\"\""
   ]
  },
  {
   "cell_type": "code",
   "execution_count": null,
   "id": "13d9cf54",
   "metadata": {},
   "outputs": [],
   "source": [
    "# Complier error \n",
    "-a = \"this cup now belongs's to INDIA\" # other way to print\n",
    "-print(a)\n",
    "-a = 'this cup now belong\\'s to INDIA' # \\ is a escape character\n",
    "a"
   ]
  },
  {
   "cell_type": "code",
   "execution_count": null,
   "id": "b1b00fb2",
   "metadata": {},
   "outputs": [],
   "source": [
    "print('a/nb') # new line\n",
    "print('a/tb') # tab/ four spaces\n",
    "print('ab/rc') # moves the cursur to start of the line"
   ]
  },
  {
   "cell_type": "code",
   "execution_count": null,
   "id": "a3fe7de6",
   "metadata": {},
   "outputs": [],
   "source": [
    "### Raw string and format-strings\n",
    "# r - strings\n",
    "print('c:\\abc\\newfolder\\j.jpg')# compliers error\n",
    "print('c:\\\\abc\\\\newfolder\\\\j.jpg')# alternative method of printing\n",
    "print(r'c : \\abc\\newfolder\\j.jpg')# using r string"
   ]
  },
  {
   "cell_type": "code",
   "execution_count": null,
   "id": "563a2e7b",
   "metadata": {},
   "outputs": [],
   "source": [
    "r, h = 5, 7\n",
    "vol = (22/7)*(r**2)*h\n",
    "print('the volume of a cyl, whose radius is', r,'whose h is', h, 'is', vol)\n",
    "print(f'the vol of cyl whose r and h are {r} and {h} respectively is {vol}')"
   ]
  },
  {
   "cell_type": "code",
   "execution_count": null,
   "id": "d3ac7a18",
   "metadata": {},
   "outputs": [],
   "source": [
    "### Format-string volume of a sphere\n",
    "print(f'the vol of sphere with diameter {10} cms, volume will be {(22/7)*((10/2)**3)*(4/3)} cubic cms')"
   ]
  },
  {
   "cell_type": "code",
   "execution_count": null,
   "id": "3c7945a0",
   "metadata": {},
   "outputs": [],
   "source": [
    "## String Indexing\n",
    "positive indexing\n",
    "negative indexingx = 'python'\n",
    "print(x[3]) # accessing h using positive indexing(left to right starts with 0 and ends with n-1)"
   ]
  },
  {
   "cell_type": "code",
   "execution_count": null,
   "id": "8fef0155",
   "metadata": {},
   "outputs": [],
   "source": [
    "print(x[-3]) # accessing 'h'using negative indexing(right to left starts with -1 and ends index -n )"
   ]
  },
  {
   "cell_type": "code",
   "execution_count": null,
   "id": "0ee45b6b",
   "metadata": {},
   "outputs": [],
   "source": [
    "x = 'abAcBde'\n",
    "print(x[4])"
   ]
  },
  {
   "cell_type": "code",
   "execution_count": null,
   "id": "1ed682da",
   "metadata": {},
   "outputs": [],
   "source": [
    "### SLICING (positive indexing)\n",
    "*syntax for slicing : var[start_index,end_index,step size]\n",
    "x = 'i am not sure what to take as an example'\n",
    "print(len(x))\n",
    "print(x[0:13])\n"
   ]
  },
  {
   "cell_type": "code",
   "execution_count": null,
   "id": "77ba4a62",
   "metadata": {},
   "outputs": [],
   "source": [
    "## SLICING (positive indexing)\n",
    "x = 'i am not sure what to take as an example'\n",
    "print(x[0:41])"
   ]
  },
  {
   "cell_type": "code",
   "execution_count": null,
   "id": "cfa07349",
   "metadata": {},
   "outputs": [],
   "source": [
    "x = 'i am not sure what to take as an example'\n",
    "print(x[0:41:1])\n",
    "print(x[0:41:2])\n",
    "print(x[::])\n",
    "print(x[14:18])"
   ]
  },
  {
   "cell_type": "code",
   "execution_count": null,
   "id": "4b201cef",
   "metadata": {},
   "outputs": [],
   "source": [
    "### Reversing the string\n",
    "x = 'python'\n",
    "print(x)\n",
    "print(x[::-1])"
   ]
  },
  {
   "cell_type": "markdown",
   "id": "a2d941c1",
   "metadata": {},
   "source": [
    "x[-1:-7:-1]\n",
    "x[::-1]"
   ]
  },
  {
   "cell_type": "code",
   "execution_count": null,
   "id": "ad091ef0",
   "metadata": {},
   "outputs": [],
   "source": [
    "x = 'python'\n",
    "x[6:0:-1]"
   ]
  },
  {
   "cell_type": "code",
   "execution_count": null,
   "id": "2994b002",
   "metadata": {},
   "outputs": [],
   "source": [
    "# To add a space between them, add \" \"\n",
    "a, b = 'Inno', 'Minds'\n",
    "c = a+b\n",
    "c"
   ]
  },
  {
   "cell_type": "markdown",
   "id": "fc5bc587",
   "metadata": {},
   "source": [
    "c *= 3\n",
    "print(c)"
   ]
  },
  {
   "cell_type": "code",
   "execution_count": null,
   "id": "0d05bf09",
   "metadata": {
    "scrolled": false
   },
   "outputs": [],
   "source": []
  },
  {
   "cell_type": "code",
   "execution_count": 1,
   "id": "dbef646d",
   "metadata": {},
   "outputs": [
    {
     "name": "stdout",
     "output_type": "stream",
     "text": [
      "hihi\n",
      "hihihihihi\n"
     ]
    }
   ],
   "source": [
    "## string Concatentation ----------------adding 2 values or more\n",
    "x = 'hi'\n",
    "print(x+x) # x+x\n",
    "print(x*5) # x+x+x+x+x+x"
   ]
  },
  {
   "cell_type": "code",
   "execution_count": null,
   "id": "5afa38a8",
   "metadata": {},
   "outputs": [],
   "source": []
  }
 ],
 "metadata": {
  "kernelspec": {
   "display_name": "Python 3 (ipykernel)",
   "language": "python",
   "name": "python3"
  },
  "language_info": {
   "codemirror_mode": {
    "name": "ipython",
    "version": 3
   },
   "file_extension": ".py",
   "mimetype": "text/x-python",
   "name": "python",
   "nbconvert_exporter": "python",
   "pygments_lexer": "ipython3",
   "version": "3.11.5"
  }
 },
 "nbformat": 4,
 "nbformat_minor": 5
}
