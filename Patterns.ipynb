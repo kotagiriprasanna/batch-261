{
 "cells": [
  {
   "cell_type": "markdown",
   "id": "1935480e",
   "metadata": {},
   "source": [
    "## Pattern Programes"
   ]
  },
  {
   "cell_type": "code",
   "execution_count": 36,
   "id": "cb7c20e8",
   "metadata": {},
   "outputs": [],
   "source": [
    "# Triangle -1\n",
    "def fooTriangle(r,c):\n",
    "    for i in range(1, r+1):\n",
    "        for j in range(i):\n",
    "            print('*', end = ' ')\n",
    "        print()\n",
    "    "
   ]
  },
  {
   "cell_type": "code",
   "execution_count": 39,
   "id": "d957a503",
   "metadata": {},
   "outputs": [
    {
     "name": "stdout",
     "output_type": "stream",
     "text": [
      "* \n",
      "* * \n",
      "* * * \n",
      "* * * * \n",
      "* * * * * \n"
     ]
    }
   ],
   "source": [
    "fooTriangle(5,'*')"
   ]
  },
  {
   "cell_type": "code",
   "execution_count": 16,
   "id": "a5dc6262",
   "metadata": {},
   "outputs": [],
   "source": [
    "def fooTriangle(r):\n",
    "    for i in range(1, r+1):\n",
    "        for j in range(i):\n",
    "            print(j, end = ' ')\n",
    "        print()"
   ]
  },
  {
   "cell_type": "code",
   "execution_count": 17,
   "id": "a85db10c",
   "metadata": {},
   "outputs": [
    {
     "name": "stdout",
     "output_type": "stream",
     "text": [
      "0 \n",
      "0 1 \n",
      "0 1 2 \n",
      "0 1 2 3 \n",
      "0 1 2 3 4 \n"
     ]
    }
   ],
   "source": [
    "fooTriangle(5)"
   ]
  },
  {
   "cell_type": "code",
   "execution_count": 1,
   "id": "8f02e3ae",
   "metadata": {},
   "outputs": [],
   "source": [
    "## Triangle-pattern-2\n",
    "def triangle_1(r):\n",
    "    for i in range(0,r+1):\n",
    "        for j in range(i,r):\n",
    "            print(j,end=' ')\n",
    "        print()"
   ]
  },
  {
   "cell_type": "code",
   "execution_count": 3,
   "id": "9964681b",
   "metadata": {},
   "outputs": [
    {
     "name": "stdout",
     "output_type": "stream",
     "text": [
      "0 1 2 3 4 \n",
      "1 2 3 4 \n",
      "2 3 4 \n",
      "3 4 \n",
      "4 \n",
      "\n"
     ]
    }
   ],
   "source": [
    "triangle_1(5)"
   ]
  },
  {
   "cell_type": "code",
   "execution_count": 11,
   "id": "2c9cc1f8",
   "metadata": {},
   "outputs": [
    {
     "name": "stdout",
     "output_type": "stream",
     "text": [
      "* * * * * \n",
      "* * * * \n",
      "* * * \n",
      "* * \n",
      "* \n"
     ]
    }
   ],
   "source": [
    "for i in range(5, 0, -1): # row\n",
    "    for j in range(i): # column\n",
    "      print('*', end=' ')\n",
    "    print()"
   ]
  },
  {
   "cell_type": "code",
   "execution_count": 40,
   "id": "9c9f3802",
   "metadata": {},
   "outputs": [],
   "source": [
    "## Triangle-pattern-3\n",
    "def fooTriangle(n):\n",
    "    for i in range(n): \n",
    "        for j in range(i,n):\n",
    "            print(' ',end= ' ')\n",
    "        for j in range(i):\n",
    "            print('*',end=' ')\n",
    "        for j in range(i+1):\n",
    "            print('*',end=' ')\n",
    "        print()"
   ]
  },
  {
   "cell_type": "code",
   "execution_count": 41,
   "id": "0b652beb",
   "metadata": {},
   "outputs": [
    {
     "name": "stdout",
     "output_type": "stream",
     "text": [
      "          * \n",
      "        * * * \n",
      "      * * * * * \n",
      "    * * * * * * * \n",
      "  * * * * * * * * * \n"
     ]
    }
   ],
   "source": [
    "fooTriangle(5)"
   ]
  },
  {
   "cell_type": "code",
   "execution_count": 42,
   "id": "8545f2af",
   "metadata": {},
   "outputs": [],
   "source": [
    "def fooTriangle(n):\n",
    "    for i in range(n): \n",
    "        for j in range(i,n):\n",
    "            print(' ',end= ' ')\n",
    "        for j in range(i):\n",
    "            print('0',end=' ')\n",
    "        for j in range(i+1):\n",
    "            print(j,end=' ')\n",
    "        print()"
   ]
  },
  {
   "cell_type": "code",
   "execution_count": 45,
   "id": "dc16c58c",
   "metadata": {},
   "outputs": [
    {
     "name": "stdout",
     "output_type": "stream",
     "text": [
      "        0 \n",
      "      0 0 1 \n",
      "    0 0 0 1 2 \n",
      "  0 0 0 0 1 2 3 \n"
     ]
    }
   ],
   "source": [
    "fooTriangle(4)"
   ]
  },
  {
   "cell_type": "code",
   "execution_count": 66,
   "id": "4fee656e",
   "metadata": {},
   "outputs": [],
   "source": [
    "## Triangle pattern - 4\n",
    "def fooTriangle(n):\n",
    "    for i in range(1, n + 1): # Outer loop for the number of rows\n",
    "        for j in range(1, n - i + 1): # Inner loop for printing spaces\n",
    "            print(\" \", end=\" \")\n",
    "        for k in range(1, i + 1):  # Inner loop for printing stars\n",
    "            print(\"*\", end=\" \") # Move to the next line to start a new row\n",
    "        print()"
   ]
  },
  {
   "cell_type": "code",
   "execution_count": 67,
   "id": "244172bd",
   "metadata": {},
   "outputs": [
    {
     "name": "stdout",
     "output_type": "stream",
     "text": [
      "      * \n",
      "    * * \n",
      "  * * * \n",
      "* * * * \n"
     ]
    }
   ],
   "source": [
    "fooTriangle(4)"
   ]
  },
  {
   "cell_type": "code",
   "execution_count": 70,
   "id": "e673ccd8",
   "metadata": {},
   "outputs": [],
   "source": [
    "def fooTriangle(n):\n",
    "    for i in range(1, n + 1): # Outer loop for the number of rows\n",
    "        for j in range(1, n - i + 1): # Inner loop for printing spaces\n",
    "            print(\" \", end=\" \")\n",
    "        for k in range(1, i + 1):  # Inner loop for printing stars\n",
    "            print(j, end=\" \") # Move to the next line to start a new row\n",
    "        print()"
   ]
  },
  {
   "cell_type": "code",
   "execution_count": 72,
   "id": "ad8e7d8e",
   "metadata": {},
   "outputs": [
    {
     "name": "stdout",
     "output_type": "stream",
     "text": [
      "        4 \n",
      "      3 3 \n",
      "    2 2 2 \n",
      "  1 1 1 1 \n",
      "1 1 1 1 1 \n"
     ]
    }
   ],
   "source": [
    "fooTriangle(5)"
   ]
  },
  {
   "cell_type": "code",
   "execution_count": 114,
   "id": "41d347b3",
   "metadata": {},
   "outputs": [
    {
     "name": "stdout",
     "output_type": "stream",
     "text": [
      "* \n",
      "* * \n",
      "* * * \n",
      "* * * * \n",
      "* * * * * \n",
      "* * * * * \n",
      "* * * * \n",
      "* * * \n",
      "* * \n",
      "* \n"
     ]
    }
   ],
   "source": [
    "x=5\n",
    "for i in range(1,x+1):\n",
    "    for j in range(i):\n",
    "        print('*',end=' ')\n",
    "    print()\n",
    "for i in range(x):\n",
    "    for j in range(i,x):\n",
    "        print('*',end=' ')\n",
    "    print()"
   ]
  },
  {
   "cell_type": "code",
   "execution_count": 59,
   "id": "3fbb6634",
   "metadata": {},
   "outputs": [
    {
     "name": "stdout",
     "output_type": "stream",
     "text": [
      "        * * * * * * \n",
      "        * * * * * * \n",
      "        * * * * * * \n",
      "        * * * * * * \n",
      "        * * * * * * \n"
     ]
    }
   ],
   "source": [
    "## Square\n",
    "for i in range(n):\n",
    "    for j in range(1,n):\n",
    "        print(' ',end=' ')\n",
    "    for j in range(1+n):\n",
    "        print('*',end=' ')\n",
    "    print()"
   ]
  },
  {
   "cell_type": "code",
   "execution_count": 60,
   "id": "dd4130fa",
   "metadata": {},
   "outputs": [],
   "source": [
    "## square pattern-2\n",
    "def square(n):\n",
    "    for i in range(n):\n",
    "        for j in range(n,i-1):\n",
    "            print(' ',end=' ')\n",
    "        for j in range(i,n):\n",
    "            print('*',end=' ')\n",
    "        for j in range(i+1):\n",
    "            print('*',end=' ')\n",
    "        print()"
   ]
  },
  {
   "cell_type": "code",
   "execution_count": 62,
   "id": "805cf088",
   "metadata": {},
   "outputs": [
    {
     "name": "stdout",
     "output_type": "stream",
     "text": [
      "* * * * * \n",
      "* * * * * \n",
      "* * * * * \n",
      "* * * * * \n"
     ]
    }
   ],
   "source": [
    "square(4)"
   ]
  },
  {
   "cell_type": "code",
   "execution_count": 55,
   "id": "7dbff7cf",
   "metadata": {},
   "outputs": [
    {
     "name": "stdout",
     "output_type": "stream",
     "text": [
      "* * * * * 0 \n",
      "* * * * 0 1 \n",
      "* * * 0 1 2 \n",
      "* * 0 1 2 3 \n",
      "* 0 1 2 3 4 \n"
     ]
    }
   ],
   "source": [
    "n = 5\n",
    "for i in range(n):\n",
    "    for j in range(-1,-1):\n",
    "        print(' ',end=' ')\n",
    "    for j in range(i,n):\n",
    "           print('*',end=' ')\n",
    "    for j in range(i+1):\n",
    "              print(j,end=' ')\n",
    "    print()"
   ]
  },
  {
   "cell_type": "code",
   "execution_count": 79,
   "id": "fb5db22d",
   "metadata": {},
   "outputs": [],
   "source": [
    "def fooReversePyramid(n):\n",
    "    for i in range(n,-1,-1): \n",
    "        for j in range(i,n):\n",
    "            print(' ',end= ' ')\n",
    "        for j in range(i):\n",
    "            print('*',end=' ')\n",
    "        for j in range(i+1):\n",
    "            print('*',end=' ')\n",
    "        print()"
   ]
  },
  {
   "cell_type": "code",
   "execution_count": 80,
   "id": "349c0940",
   "metadata": {},
   "outputs": [
    {
     "name": "stdout",
     "output_type": "stream",
     "text": [
      "* * * * * * * * * * * \n",
      "  * * * * * * * * * \n",
      "    * * * * * * * \n",
      "      * * * * * \n",
      "        * * * \n",
      "          * \n"
     ]
    }
   ],
   "source": [
    "fooReversePyramid(5)"
   ]
  },
  {
   "cell_type": "code",
   "execution_count": 86,
   "id": "9f5b81d2",
   "metadata": {},
   "outputs": [],
   "source": [
    "## Rhombus Pattern\n",
    "\n",
    "def fooTriangle(n):\n",
    "    for i in range(n): \n",
    "        for j in range(i,n):\n",
    "            print(' ',end= ' ')\n",
    "        for j in range(i):\n",
    "            print('*',end=' ')\n",
    "        for j in range(i+1):\n",
    "            print('*',end=' ')\n",
    "        print()\n",
    "    for i in range(n,-1,-1): \n",
    "        for j in range(i,n):\n",
    "            print(' ',end= ' ')\n",
    "        for j in range(i):\n",
    "            print('*',end=' ')\n",
    "        for j in range(i+1):\n",
    "            print('*',end=' ')\n",
    "        print()"
   ]
  },
  {
   "cell_type": "code",
   "execution_count": 87,
   "id": "1f916355",
   "metadata": {},
   "outputs": [
    {
     "name": "stdout",
     "output_type": "stream",
     "text": [
      "          * \n",
      "        * * * \n",
      "      * * * * * \n",
      "    * * * * * * * \n",
      "  * * * * * * * * * \n",
      "* * * * * * * * * * * \n",
      "  * * * * * * * * * \n",
      "    * * * * * * * \n",
      "      * * * * * \n",
      "        * * * \n",
      "          * \n"
     ]
    }
   ],
   "source": [
    "fooTriangle(5)"
   ]
  },
  {
   "cell_type": "code",
   "execution_count": 91,
   "id": "5bc90466",
   "metadata": {},
   "outputs": [],
   "source": [
    "## Parallelogram Pattern\n",
    "\n",
    "def fooParallelogram(n):\n",
    "    for i in range(n):\n",
    "        for j in range(i,n):\n",
    "            print(' ',end=' ')\n",
    "        for j in range(i,n):\n",
    "            print('*',end=' ')\n",
    "        for j in range(i+1):\n",
    "            print('*',end=' ')\n",
    "        print()"
   ]
  },
  {
   "cell_type": "code",
   "execution_count": 92,
   "id": "ea36d769",
   "metadata": {},
   "outputs": [
    {
     "name": "stdout",
     "output_type": "stream",
     "text": [
      "          * * * * * * \n",
      "        * * * * * * \n",
      "      * * * * * * \n",
      "    * * * * * * \n",
      "  * * * * * * \n"
     ]
    }
   ],
   "source": [
    "fooParallelogram(5)"
   ]
  },
  {
   "cell_type": "code",
   "execution_count": 96,
   "id": "7dfa0846",
   "metadata": {},
   "outputs": [],
   "source": [
    "def fooParallelogram(n):\n",
    "    for i in range(n):\n",
    "        for j in range(i,n):\n",
    "            print(' ',end=' ')\n",
    "        for j in range(i,n):\n",
    "            print(0,end=' ')\n",
    "        for j in range(i+1):\n",
    "            print(j,end=' ')\n",
    "        print()"
   ]
  },
  {
   "cell_type": "code",
   "execution_count": 97,
   "id": "e99c5519",
   "metadata": {},
   "outputs": [
    {
     "name": "stdout",
     "output_type": "stream",
     "text": [
      "          0 0 0 0 0 0 \n",
      "        0 0 0 0 0 1 \n",
      "      0 0 0 0 1 2 \n",
      "    0 0 0 1 2 3 \n",
      "  0 0 1 2 3 4 \n"
     ]
    }
   ],
   "source": [
    "fooParallelogram(5)"
   ]
  },
  {
   "cell_type": "code",
   "execution_count": 99,
   "id": "92a4d12f",
   "metadata": {},
   "outputs": [],
   "source": [
    "## Hour Sand Glass:\n",
    "\n",
    "def fooHourSandGlass(n):\n",
    "    for i in range(n-1,-1,-1): \n",
    "        for j in range(i,n):\n",
    "            print(' ',end= ' ')\n",
    "        for j in range(i):\n",
    "            print('*',end=' ')\n",
    "        for j in range(i+1):\n",
    "            print('*',end=' ')\n",
    "        print()\n",
    "    for i in range(n): \n",
    "        for j in range(i,n):\n",
    "            print(' ',end= ' ')\n",
    "        for j in range(i):\n",
    "            print('*',end=' ')\n",
    "        for j in range(i+1):\n",
    "            print('*',end=' ')\n",
    "        print()"
   ]
  },
  {
   "cell_type": "code",
   "execution_count": 100,
   "id": "184949fc",
   "metadata": {},
   "outputs": [
    {
     "name": "stdout",
     "output_type": "stream",
     "text": [
      "  * * * * * * * * * \n",
      "    * * * * * * * \n",
      "      * * * * * \n",
      "        * * * \n",
      "          * \n",
      "          * \n",
      "        * * * \n",
      "      * * * * * \n",
      "    * * * * * * * \n",
      "  * * * * * * * * * \n"
     ]
    }
   ],
   "source": [
    "fooHourSandGlass(5)"
   ]
  },
  {
   "cell_type": "code",
   "execution_count": 105,
   "id": "63085b54",
   "metadata": {},
   "outputs": [],
   "source": [
    "def fooHourSandGlass(n):\n",
    "    for i in range(n-1,-1,-1): \n",
    "        for j in range(i,n):\n",
    "            print(' ',end= ' ')\n",
    "        for j in range(i):\n",
    "            print(j,end=' ')\n",
    "        for j in range(i+1):\n",
    "            print(j,end=' ')\n",
    "        print()\n",
    "    for i in range(n): \n",
    "        for j in range(i,n):\n",
    "            print(' ',end= ' ')\n",
    "        for j in range(i):\n",
    "            print(j,end=' ')\n",
    "        for j in range(i+1):\n",
    "            print(j,end=' ')\n",
    "        print()"
   ]
  },
  {
   "cell_type": "code",
   "execution_count": 106,
   "id": "c78cdeaa",
   "metadata": {},
   "outputs": [
    {
     "name": "stdout",
     "output_type": "stream",
     "text": [
      "  0 1 2 3 0 1 2 3 4 \n",
      "    0 1 2 0 1 2 3 \n",
      "      0 1 0 1 2 \n",
      "        0 0 1 \n",
      "          0 \n",
      "          0 \n",
      "        0 0 1 \n",
      "      0 1 0 1 2 \n",
      "    0 1 2 0 1 2 3 \n",
      "  0 1 2 3 0 1 2 3 4 \n"
     ]
    }
   ],
   "source": [
    "fooHourSandGlass(5)"
   ]
  }
 ],
 "metadata": {
  "kernelspec": {
   "display_name": "Python 3 (ipykernel)",
   "language": "python",
   "name": "python3"
  },
  "language_info": {
   "codemirror_mode": {
    "name": "ipython",
    "version": 3
   },
   "file_extension": ".py",
   "mimetype": "text/x-python",
   "name": "python",
   "nbconvert_exporter": "python",
   "pygments_lexer": "ipython3",
   "version": "3.11.5"
  }
 },
 "nbformat": 4,
 "nbformat_minor": 5
}
