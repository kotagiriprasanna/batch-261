{
 "cells": [
  {
   "cell_type": "markdown",
   "id": "2e5036a1",
   "metadata": {},
   "source": [
    "## 1.Write a python program that asks the user for their age and prints\"You are an adult\"if the age is 18 or order, otherwise prints \"You are an minor\"."
   ]
  },
  {
   "cell_type": "code",
   "execution_count": 17,
   "id": "1ce49e64",
   "metadata": {},
   "outputs": [
    {
     "name": "stdout",
     "output_type": "stream",
     "text": [
      "enter your age16\n",
      "you are minor\n"
     ]
    }
   ],
   "source": [
    "Age = int(input('enter your age'))\n",
    "if Age>18:\n",
    "    print('you are major')\n",
    "elif Age<=18:\n",
    "    print('you are minor')"
   ]
  },
  {
   "cell_type": "markdown",
   "id": "97f42404",
   "metadata": {},
   "source": [
    "## 2.Write a program that takes a numerical grade (out of 100) as input and prints the corresponding letter grade according to the following scale:\n",
    " \n",
    "* 90-100: A\n",
    "* 80-89: B\n",
    "* 70-79: C\n",
    "* 60-69: D\n",
    "* Below 60: F\n"
   ]
  },
  {
   "cell_type": "code",
   "execution_count": 50,
   "id": "ce4298dd",
   "metadata": {},
   "outputs": [
    {
     "name": "stdout",
     "output_type": "stream",
     "text": [
      "enter your marks55\n",
      "Fail\n"
     ]
    }
   ],
   "source": [
    "Marks = int(input('enter your marks'))\n",
    "if Marks<0 or Marks>100:\n",
    "    print(\"Invalid Marks\")\n",
    "elif Marks in range(90,101):\n",
    "        print('A-Grade')\n",
    "elif Marks in range(80,90):\n",
    "        print('b-Grade')\n",
    "elif Marks in range(70,80):\n",
    "        print('c-Grade')\n",
    "elif Marks in range(60,70):\n",
    "        print('d-Grade')\n",
    "else:\n",
    "    print('Fail')\n"
   ]
  },
  {
   "cell_type": "markdown",
   "id": "08586cc6",
   "metadata": {},
   "source": [
    "## 3.Write a program that calculates the Body Mass Index (BMI) of a person. The user should input their weight in kilograms and height in meters. The program should then print whether the person is underweight, normal weight, overweight, or obese."
   ]
  },
  {
   "cell_type": "code",
   "execution_count": 64,
   "id": "cf900b98",
   "metadata": {},
   "outputs": [
    {
     "name": "stdout",
     "output_type": "stream",
     "text": [
      "enter your weight22\n",
      "enter your height1.5\n",
      "underweight\n"
     ]
    }
   ],
   "source": [
    "Weight,height = float(input('enter your weight')),float(input('enter your height'))\n",
    "\n",
    "BMI = (Weight/height**2)\n",
    "if BMI <=18.5:\n",
    "    print('underweight')\n",
    "elif BMI >=18.5 or BMI <=25:\n",
    "    print('normal')\n",
    "elif BMI in range(25-30):\n",
    "    print('overweight')\n",
    "\n"
   ]
  },
  {
   "cell_type": "markdown",
   "id": "4493de00",
   "metadata": {},
   "source": [
    "## 4.Write a program that asks the user for three numbers and prints the maximum of the three."
   ]
  },
  {
   "cell_type": "code",
   "execution_count": 75,
   "id": "e17f3e07",
   "metadata": {},
   "outputs": [
    {
     "name": "stdout",
     "output_type": "stream",
     "text": [
      "enter 1st value :12\n",
      "enter 2nd value :15\n",
      "enter 3rd value :18\n",
      "18.0\n"
     ]
    }
   ],
   "source": [
    "# Max of three number\n",
    "a = float(input('enter 1st value :'))\n",
    "b = float(input('enter 2nd value :'))\n",
    "c = float(input('enter 3rd value :'))\n",
    "\n",
    "maximum = max(a, b, c)\n",
    "print(maximum)\n",
    "\n"
   ]
  },
  {
   "cell_type": "code",
   "execution_count": null,
   "id": "0e506f33",
   "metadata": {},
   "outputs": [],
   "source": []
  },
  {
   "cell_type": "markdown",
   "id": "043b3af4",
   "metadata": {},
   "source": [
    "## 5.Write a program that asks the user for a temperature (in Celsius) and prints \"It's freezing\" if the temperature is below 0, \"It's cool\" if it's between 0 and 10, \"It's warm\" if it's between 10 and 20, and \"It's hot\" if it's above 20"
   ]
  },
  {
   "cell_type": "code",
   "execution_count": 72,
   "id": "c12159d5",
   "metadata": {},
   "outputs": [
    {
     "name": "stdout",
     "output_type": "stream",
     "text": [
      "enter temparature11\n",
      "its hot\n"
     ]
    }
   ],
   "source": [
    "Temparature = int(input('enter temparature'))\n",
    "if Temparature ==0:\n",
    "    print('its freezing')\n",
    "elif Temparature in range(0,10):\n",
    "    print('its cool')\n",
    "elif Temparature in range(10,20):\n",
    "    print('its hot')"
   ]
  },
  {
   "cell_type": "markdown",
   "id": "7d20903b",
   "metadata": {},
   "source": [
    "## 6.Write a program that asks the user for a number (1-7) and prints the corresponding day of the week."
   ]
  },
  {
   "cell_type": "code",
   "execution_count": 97,
   "id": "f6e2e246",
   "metadata": {},
   "outputs": [
    {
     "name": "stdout",
     "output_type": "stream",
     "text": [
      "Day: 1\n",
      "Sun\n"
     ]
    }
   ],
   "source": [
    "x=int(input('Day: '))\n",
    "if 7>=x<=1:  \n",
    "    if x == 1: \n",
    "        print('Sun')\n",
    "elif x == 2: \n",
    "    print('Mon') \n",
    "elif x == 3:\n",
    "    print('Tues')   \n",
    "elif x == 4: \n",
    "    print('Wednes')\n",
    "elif x == 5:\n",
    "    print('Thurs') \n",
    "elif x == 6:\n",
    "    print('Fri')            \n",
    "elif x == 7:\n",
    "    print('Satur')\n",
    "else: \n",
    "    print('Invalid Day')\n",
    "Day: 1"
   ]
  },
  {
   "cell_type": "markdown",
   "id": "8d00da30",
   "metadata": {},
   "source": [
    "## 7.Write a program that asks the user for a number and prints \"In range\" if the number is between 10 and 20 (inclusive), and \"Out of range\" otherwise.\n"
   ]
  },
  {
   "cell_type": "code",
   "execution_count": 87,
   "id": "72dd3ed2",
   "metadata": {},
   "outputs": [
    {
     "name": "stdout",
     "output_type": "stream",
     "text": [
      "enter a number11\n",
      "In range\n"
     ]
    }
   ],
   "source": [
    "number = int(input('enter a number'))\n",
    "\n",
    "if 10 <= number <= 20:\n",
    "    print(\"In range\")\n",
    "else:\n",
    "    print(\"Out of range\")"
   ]
  },
  {
   "cell_type": "markdown",
   "id": "703cfb8e",
   "metadata": {},
   "source": [
    "## 8.Write a program that asks the user for an integer and prints whether it's even or odd.\n",
    "\n"
   ]
  },
  {
   "cell_type": "code",
   "execution_count": 94,
   "id": "4e08a3e1",
   "metadata": {},
   "outputs": [
    {
     "name": "stdout",
     "output_type": "stream",
     "text": [
      "enter your number4\n",
      "even number\n"
     ]
    }
   ],
   "source": [
    "x = int(input('enter your number'))\n",
    "\n",
    "if x%2==0:\n",
    "    print(\"even number\")\n",
    "else:\n",
    "    print(\"odd number\")"
   ]
  },
  {
   "cell_type": "markdown",
   "id": "887a1d88",
   "metadata": {},
   "source": [
    "## 9.Write a Python program to add 'ing' at the end of a given string (string length should be equal to or more than 3). If the given string already ends with 'ing' then add 'ly' instead.If the string length of the given string is less than 3, leave it unchanged"
   ]
  },
  {
   "cell_type": "code",
   "execution_count": 98,
   "id": "0db3586b",
   "metadata": {},
   "outputs": [
    {
     "name": "stdout",
     "output_type": "stream",
     "text": [
      "string: us\n",
      "string\n"
     ]
    }
   ],
   "source": [
    "a=str(input('string: ')) #given input as string\n",
    "if len(a) < 3: #checks length of a is below  3 \n",
    "        print('string') #if it is true it prints string \n",
    "elif a[-3:] == 'ing': # 3rd negative index it will add 'ly'\n",
    "            print(string+'ly')\n",
    "else: # otherwise it will add 'ing' to the last of given string\n",
    "            print(string + 'ing') "
   ]
  },
  {
   "cell_type": "markdown",
   "id": "0cdaf306",
   "metadata": {},
   "source": [
    "## 10.Create rock-paper-scissors by using the if condition."
   ]
  },
  {
   "cell_type": "code",
   "execution_count": 88,
   "id": "dfe0078e",
   "metadata": {},
   "outputs": [
    {
     "name": "stdout",
     "output_type": "stream",
     "text": [
      "player - Ir\n",
      "player -IIs\n",
      "a wins\n"
     ]
    }
   ],
   "source": [
    "a,b = input('player - I'), input('player -II').lower()\n",
    "\n",
    "if a == 'r':\n",
    "    if b == 'p':\n",
    "      print('b wins')\n",
    "    elif b == 's':\n",
    "        print('a wins')"
   ]
  },
  {
   "cell_type": "code",
   "execution_count": 89,
   "id": "820d8e5b",
   "metadata": {},
   "outputs": [
    {
     "name": "stdout",
     "output_type": "stream",
     "text": [
      "a wins\n"
     ]
    }
   ],
   "source": [
    "if a == 'p' and b =='r':\n",
    "    print('a wins')\n",
    "elif a == 's' and b == 'p':\n",
    "    print('a wins')\n",
    "elif a == 'r' and b == 's':\n",
    "    print('a wins')\n",
    "elif a == 'b':\n",
    "    print('tie')\n",
    "else:\n",
    "    print('b')"
   ]
  },
  {
   "cell_type": "code",
   "execution_count": 90,
   "id": "573ca041",
   "metadata": {},
   "outputs": [
    {
     "name": "stdout",
     "output_type": "stream",
     "text": [
      "player I :r\n",
      "player II :p\n",
      "player II Wins\n"
     ]
    }
   ],
   "source": [
    "a= (input(\"player I :\"))\n",
    "b= (input(\"player II :\"))\n",
    "\n",
    "if (a == 'p' and b =='r') or (a == 's' and b == 'p') or (a == 'r' and b == 's'):\n",
    "    print('player-I wins')\n",
    "elif a == 's' and b == 'p':\n",
    "    print('player-I wins')\n",
    "elif a == 'r' and b == 's':\n",
    "    print('player-I wins')\n",
    "elif a == b :\n",
    "    print('tie')\n",
    "else:\n",
    "    print('player II Wins')"
   ]
  },
  {
   "cell_type": "code",
   "execution_count": 92,
   "id": "df6ab2f3",
   "metadata": {},
   "outputs": [
    {
     "name": "stdout",
     "output_type": "stream",
     "text": [
      "player - I:r\n",
      "a win\n"
     ]
    }
   ],
   "source": [
    "import random\n",
    "b = list('rps')\n",
    "random.shuffle(b)\n",
    "b = b[0]\n",
    "a = input('player - I:').lower()\n",
    "if (a == 'p' and b == 'r') or (a == 's' and b == 'p') or (a == 'r' and b == 's'):\n",
    "    print('a win')\n",
    "elif a == b:\n",
    "    print('tie')\n",
    "else:\n",
    "    print('b')"
   ]
  },
  {
   "cell_type": "markdown",
   "id": "dfaf7af0",
   "metadata": {},
   "source": [
    "## 11.Create a dynamic calculator which asks for numbers and operator and return the answers,\n",
    "             Example\n",
    "    Input: Type first number: 10\",\n",
    "    Type any of this (+, -, *, /, %, **): ,*\n",
    "    Assignment-2 ,\n",
    "   Type second number: 19,\n",
    "    Output:Answer is 190\n"
   ]
  },
  {
   "cell_type": "code",
   "execution_count": 99,
   "id": "fdc3836a",
   "metadata": {},
   "outputs": [
    {
     "name": "stdout",
     "output_type": "stream",
     "text": [
      " First number: 12\n",
      "Type any of this (+, -, *, /, %, **): +\n",
      "Second number: 14\n",
      "Answer is 26.0\n"
     ]
    }
   ],
   "source": [
    "num1 = int(input(\" First number: \")) # input as  integer\n",
    "operator = input(\"Type any of this (+, -, *, /, %, **): \") # using  which type of  integeroperator\n",
    "num2 = float(input(\"Second number: \"))# input as  number\n",
    "if operator == \"+\": #adds two numbers and prints it\n",
    "    print(\"Answer is\", num1 + num2)\n",
    "if operator == \"-\": # subtracts two numbers and prints it \n",
    "     print(\"Answer is\", num1 - num2)\n",
    "if operator == \"*\": #multiplies two numbers and prints it \n",
    "     print(\"Answer is\", num1 * num2)\n",
    "if operator == \"/\":# divides two numbers and prints it \n",
    "     print(\"Answer is\", num1 / num2)\n",
    "if operator == \"%\": #modulus  and prints it \n",
    "     print(\"Answer is\", num1 % num2)\n",
    "if operator == \"**\": #exponential and prints it\n",
    "     print(\"Answer is\", num1 ** num2)"
   ]
  },
  {
   "cell_type": "markdown",
   "id": "962d0edf",
   "metadata": {},
   "source": [
    "## 12.Manoj Kumar has family and friends. Help him remind them who is who. Given a string with a name, return the relation of that person to Manoj Kumar.,\n",
    " Person Relation,\n",
    " Shiva father ,Letha mother, Tarun brother,Kavitha sister ,,Strange Coder.\n"
   ]
  },
  {
   "cell_type": "code",
   "execution_count": null,
   "id": "69abae2c",
   "metadata": {},
   "outputs": [],
   "source": [
    "string = str(input('manoj kumar relation:'))\n",
    "a = 'shiva'\n",
    "b = 'letha'\n",
    "c = 'tarun'\n",
    "d = 'kavitha'\n",
    "e = 'strange'\n",
    "\n",
    "if "
   ]
  },
  {
   "cell_type": "markdown",
   "id": "489ecafd",
   "metadata": {},
   "source": [
    "## 13.Write a python program that takes in a word and determines whether or not it is plural. A plural word is one that ends with “s”\n"
   ]
  },
  {
   "cell_type": "code",
   "execution_count": 96,
   "id": "d3dece99",
   "metadata": {},
   "outputs": [
    {
     "name": "stdout",
     "output_type": "stream",
     "text": [
      "Enter a word: yes\n",
      "word is plural\n"
     ]
    }
   ],
   "source": [
    "# Plural or not\n",
    "word = input(\"Enter a word: \")\n",
    "\n",
    "if word.endswith('s'):\n",
    "    print(\"word is plural\")\n",
    "else:\n",
    "    print(\"word is not plural\")"
   ]
  },
  {
   "cell_type": "markdown",
   "id": "445e7577",
   "metadata": {},
   "source": [
    "## 14.A company decided to give a bonus of 5% to employees if his/her year of service is more than 5 years.Ask user for their salary and year of service and print the net bonus amount.\n"
   ]
  },
  {
   "cell_type": "code",
   "execution_count": 100,
   "id": "056180cd",
   "metadata": {},
   "outputs": [
    {
     "name": "stdout",
     "output_type": "stream",
     "text": [
      "Salary: 15000\n",
      "Years of service:3\n",
      "You are not eligible for bonus as you have less service years\n"
     ]
    }
   ],
   "source": [
    "salary = float(input(\"Salary: \")) # input as  float values\n",
    "service_yrs = int(input(\"Years of service:\")) #input as integers\n",
    "if service_yrs > 5: # checks service years more than 5 years\n",
    "    print(\"Yours salary(+Bonus) = \",salary + (salary)*5/100) # calculating bonus \n",
    "else: # if statement is false it executes else \n",
    "    print(\"You are not eligible for bonus as you have less service years\")"
   ]
  },
  {
   "cell_type": "markdown",
   "id": "92c1f789",
   "metadata": {},
   "source": [
    "## 15.Take values of length and breadth of a rectangle from the user and check if it is square or not."
   ]
  },
  {
   "cell_type": "code",
   "execution_count": 101,
   "id": "40420289",
   "metadata": {},
   "outputs": [
    {
     "name": "stdout",
     "output_type": "stream",
     "text": [
      "Salary: 10000\n",
      "Years of service:2\n",
      "You are not eligible for bonus as you have less service years\n"
     ]
    }
   ],
   "source": [
    "salary = float(input(\"Salary: \")) # input as  float values\n",
    "service_yrs = int(input(\"Years of service:\")) #input as integers\n",
    "if service_yrs > 5: # checks service years more than 5 years\n",
    "    print(\"Yours salary(+Bonus) = \",salary + (salary)*5/100) # calculating bonus \n",
    "else: # if statement is false it executes else \n",
    "    print(\"You are not eligible for bonus as you have less service years\")"
   ]
  },
  {
   "cell_type": "markdown",
   "id": "1b119fd9",
   "metadata": {},
   "source": [
    "## 16.Accept any city from the user and display the momentum of the city \n",
    "Hyderabad  : “charminar”\n",
    "“Delhi”         : “red fort\n",
    "“Agra           : Taj mahal\n",
    "If the city name is not given correctly, give him a warning message.\n",
    "\n"
   ]
  },
  {
   "cell_type": "code",
   "execution_count": 102,
   "id": "1fee8689",
   "metadata": {},
   "outputs": [
    {
     "name": "stdout",
     "output_type": "stream",
     "text": [
      "City name: bangalore\n",
      "Warning: Wrong City Name\n"
     ]
    }
   ],
   "source": [
    "city = str(input((\"City name: \"))) #input as string\n",
    "if city == \"Hyderabad\": #Assinging city as Hyderabad\n",
    "    print(\"Charminar\")# then prints'charminar'\n",
    "elif city == \"Delhi\":#assigning city as Delhi  \n",
    "    print(\"Red Fort\")# then prints'RedFort'\n",
    "elif city == \"Agra\":#assigning city as 'Agra'\n",
    "    print(\"Taj Mahal\")# then prints'Tajmahal'\n",
    "else: # if above mentioned cities are not available then it  print wrong city name\n",
    "    print(\"Warning: Wrong City Name\")"
   ]
  },
  {
   "cell_type": "markdown",
   "id": "9ad0d6bb",
   "metadata": {},
   "source": [
    "## 17.Write a program to check whether a person is eligible for voting or not  (voting age>=18)."
   ]
  },
  {
   "cell_type": "code",
   "execution_count": 103,
   "id": "900a61c6",
   "metadata": {},
   "outputs": [
    {
     "name": "stdout",
     "output_type": "stream",
     "text": [
      "Age: 15\n",
      "You are not eligible to vote\n"
     ]
    }
   ],
   "source": [
    "age = int(input(\"Age: \")) # input as integewr \n",
    "if age>=18:# checks age is above '18'\n",
    "    print(\"You are eligible to vote\") #if it is true prints eligible to vote\n",
    "else: # if above condition is false then it executes else\n",
    "    print(\"You are not eligible to vote\")    "
   ]
  },
  {
   "cell_type": "markdown",
   "id": "ece9e215",
   "metadata": {},
   "source": [
    "## 18.Accept three sides of the triangle and check whether the triangle is possible or not.(Triangle is possible only when the sum of any two sides is greater than 3 rd side)."
   ]
  },
  {
   "cell_type": "code",
   "execution_count": 104,
   "id": "ed1e760c",
   "metadata": {},
   "outputs": [
    {
     "name": "stdout",
     "output_type": "stream",
     "text": [
      "Enter the first angle: 15\n",
      "Enter the second angle: 20\n",
      "Enter the third angle: 16\n",
      "No,triangle not possible\n"
     ]
    }
   ],
   "source": [
    "x = int(input(\"Enter the first angle: \"))\n",
    "y = int(input(\"Enter the second angle: \"))\n",
    "z = int(input(\"Enter the third angle: \")) # to check whether sum of angles are 180 and each angle\n",
    "if(x != 0 and y != 0 and z != 0 and (x + y + z)== 180): # not equal to 0\n",
    "  if((x + y)>= z or (x + z)>= y or (y + z)>= x):   # Checking sum of 2 angles greater than the third \n",
    "      print(\"Yes,triangle is valid\")\n",
    "else: \n",
    "      print(\"No,triangle not possible\")"
   ]
  },
  {
   "cell_type": "code",
   "execution_count": null,
   "id": "57970e7a",
   "metadata": {},
   "outputs": [],
   "source": []
  },
  {
   "cell_type": "code",
   "execution_count": null,
   "id": "857f7d72",
   "metadata": {},
   "outputs": [],
   "source": []
  },
  {
   "cell_type": "code",
   "execution_count": null,
   "id": "29814bfd",
   "metadata": {},
   "outputs": [],
   "source": []
  },
  {
   "cell_type": "code",
   "execution_count": null,
   "id": "a643e2b7",
   "metadata": {},
   "outputs": [],
   "source": []
  },
  {
   "cell_type": "code",
   "execution_count": null,
   "id": "aadc14eb",
   "metadata": {},
   "outputs": [],
   "source": []
  }
 ],
 "metadata": {
  "kernelspec": {
   "display_name": "Python 3 (ipykernel)",
   "language": "python",
   "name": "python3"
  },
  "language_info": {
   "codemirror_mode": {
    "name": "ipython",
    "version": 3
   },
   "file_extension": ".py",
   "mimetype": "text/x-python",
   "name": "python",
   "nbconvert_exporter": "python",
   "pygments_lexer": "ipython3",
   "version": "3.11.5"
  }
 },
 "nbformat": 4,
 "nbformat_minor": 5
}
