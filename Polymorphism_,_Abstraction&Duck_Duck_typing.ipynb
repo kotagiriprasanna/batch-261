{
 "cells": [
  {
   "cell_type": "markdown",
   "id": "a35d8853",
   "metadata": {},
   "source": [
    "## polymorphism "
   ]
  },
  {
   "cell_type": "markdown",
   "id": "10b8f205",
   "metadata": {},
   "source": [
    "* poly means many\n",
    "* overloading\n",
    "  - method overloading (vanilla python doesn't supporrts this)\n",
    "  - constructor overloading(vanilla python doesn't supporrts this)\n",
    "  - operator overloading\n",
    "* overriding\n",
    "  - method overriding\n",
    "  - constructor overriding"
   ]
  },
  {
   "cell_type": "markdown",
   "id": "7971b6ca",
   "metadata": {},
   "source": [
    "### Method overriding:\n",
    "* Method overriding is a feature of object-oriented programming languages where the subclass or child class can provide the program with specific characteristics or a specific implementation process of data provided that are already defined in the parent class or superclass."
   ]
  },
  {
   "cell_type": "markdown",
   "id": "1fedf6ec",
   "metadata": {},
   "source": [
    "### Constructor overriding:\n",
    "* That means the sub class constructor is replacing the super class constructor. This is called constructor overriding . Similarly in the sub class, if we write a method with exactly same name as that of super class method, it will override the super class method. This is called method overriding ."
   ]
  },
  {
   "cell_type": "code",
   "execution_count": 3,
   "id": "5731b021",
   "metadata": {},
   "outputs": [],
   "source": [
    "class FooClass: \n",
    "    def __init__(self, a, b):\n",
    "        self.a = a\n",
    "        self.b = b\n",
    "    def foo(self):\n",
    "        print('Hello')"
   ]
  },
  {
   "cell_type": "code",
   "execution_count": 4,
   "id": "858ead21",
   "metadata": {},
   "outputs": [],
   "source": [
    "x = FooClass(5, 10)"
   ]
  },
  {
   "cell_type": "code",
   "execution_count": 5,
   "id": "91f659e7",
   "metadata": {},
   "outputs": [
    {
     "name": "stdout",
     "output_type": "stream",
     "text": [
      "Hello\n"
     ]
    }
   ],
   "source": [
    "x.foo()"
   ]
  },
  {
   "cell_type": "markdown",
   "id": "8894d8e0",
   "metadata": {},
   "source": [
    " "
   ]
  },
  {
   "cell_type": "code",
   "execution_count": 2,
   "id": "ed0dd351",
   "metadata": {},
   "outputs": [],
   "source": [
    "class FooClass: # using constructor nd method over-riding\n",
    "    def __init__(self, a, b):\n",
    "        self.a = a\n",
    "        self.b = b\n",
    "    \n",
    "    def __init__(self,a, b, c, d):\n",
    "        self.m = a+b\n",
    "        self.n = c-d\n",
    "        \n",
    "    def foo(self):\n",
    "        print('Hello')\n",
    "        \n",
    "    def foo(self):\n",
    "        print('Good Morning')"
   ]
  },
  {
   "cell_type": "code",
   "execution_count": 9,
   "id": "0bf854c1",
   "metadata": {},
   "outputs": [],
   "source": [
    "x = FooClass(5, 10, 10, 15)"
   ]
  },
  {
   "cell_type": "code",
   "execution_count": 10,
   "id": "fa77cf22",
   "metadata": {},
   "outputs": [
    {
     "name": "stdout",
     "output_type": "stream",
     "text": [
      "Good Morning\n"
     ]
    }
   ],
   "source": [
    "x.foo()"
   ]
  },
  {
   "cell_type": "code",
   "execution_count": 12,
   "id": "0a70da8b",
   "metadata": {},
   "outputs": [],
   "source": [
    "class Xclass(FooClass):\n",
    "    def foo(self):\n",
    "        print('Prasanna!')"
   ]
  },
  {
   "cell_type": "code",
   "execution_count": 14,
   "id": "1918dfae",
   "metadata": {},
   "outputs": [],
   "source": [
    "x = Xclass(10, 12, 15, 8)"
   ]
  },
  {
   "cell_type": "code",
   "execution_count": 15,
   "id": "e7633c53",
   "metadata": {},
   "outputs": [
    {
     "name": "stdout",
     "output_type": "stream",
     "text": [
      "Prasanna!\n"
     ]
    }
   ],
   "source": [
    "x.foo()"
   ]
  },
  {
   "cell_type": "markdown",
   "id": "a28247e8",
   "metadata": {},
   "source": [
    "### Operator overloading"
   ]
  },
  {
   "cell_type": "code",
   "execution_count": 16,
   "id": "566725a4",
   "metadata": {},
   "outputs": [
    {
     "data": {
      "text/plain": [
       "[1, 2, 3, 4, 5, 6]"
      ]
     },
     "execution_count": 16,
     "metadata": {},
     "output_type": "execute_result"
    }
   ],
   "source": [
    "[1, 2, 3] + [4, 5, 6] # example"
   ]
  },
  {
   "cell_type": "code",
   "execution_count": 23,
   "id": "b315b05e",
   "metadata": {},
   "outputs": [
    {
     "ename": "TypeError",
     "evalue": "can't multiply sequence by non-int of type 'list'",
     "output_type": "error",
     "traceback": [
      "\u001b[1;31m---------------------------------------------------------------------------\u001b[0m",
      "\u001b[1;31mTypeError\u001b[0m                                 Traceback (most recent call last)",
      "Cell \u001b[1;32mIn[23], line 1\u001b[0m\n\u001b[1;32m----> 1\u001b[0m [\u001b[38;5;241m1\u001b[39m,\u001b[38;5;241m2\u001b[39m,\u001b[38;5;241m3\u001b[39m] \u001b[38;5;241m*\u001b[39m [\u001b[38;5;241m4\u001b[39m, \u001b[38;5;241m5\u001b[39m, \u001b[38;5;241m6\u001b[39m]\n",
      "\u001b[1;31mTypeError\u001b[0m: can't multiply sequence by non-int of type 'list'"
     ]
    }
   ],
   "source": [
    "[1,2,3] * [4, 5, 6] # example for to see the error"
   ]
  },
  {
   "cell_type": "code",
   "execution_count": 24,
   "id": "94450735",
   "metadata": {},
   "outputs": [
    {
     "data": {
      "text/plain": [
       "[1, 2, 3, 1, 2, 3]"
      ]
     },
     "execution_count": 24,
     "metadata": {},
     "output_type": "execute_result"
    }
   ],
   "source": [
    "[1, 2, 3]*2 # example"
   ]
  },
  {
   "cell_type": "code",
   "execution_count": 17,
   "id": "e32d0e77",
   "metadata": {},
   "outputs": [],
   "source": [
    "class Mylist:\n",
    "    def __init__(self, value):\n",
    "        self.val = value\n",
    "    def __mul__(self, OtherMyList):\n",
    "        return [i*j for i, j in zip(self.val, OtherMyList.val)]"
   ]
  },
  {
   "cell_type": "code",
   "execution_count": 21,
   "id": "36c9fea4",
   "metadata": {},
   "outputs": [],
   "source": [
    "x,y = Mylist([1,2,3]), Mylist([4,5,6])"
   ]
  },
  {
   "cell_type": "code",
   "execution_count": 22,
   "id": "8efc0e79",
   "metadata": {},
   "outputs": [
    {
     "data": {
      "text/plain": [
       "[4, 10, 18]"
      ]
     },
     "execution_count": 22,
     "metadata": {},
     "output_type": "execute_result"
    }
   ],
   "source": [
    "x*y"
   ]
  },
  {
   "cell_type": "code",
   "execution_count": null,
   "id": "7e5c1e89",
   "metadata": {},
   "outputs": [],
   "source": [
    "class Mylist:\n",
    "    def __init__(self, value):\n",
    "        self.val = value\n",
    "    def __mul__(self, OtherMyList):\n",
    "        return [i*j for i, j in zip(self.val, OtherMyList.val)]"
   ]
  },
  {
   "cell_type": "markdown",
   "id": "6293fcb7",
   "metadata": {},
   "source": [
    "### Method overloading:\n",
    "* Two or more methods have the same name but different numbers of parameters or different types of parameters, or both. These methods are called overloaded methods and this is called method overloading. "
   ]
  },
  {
   "cell_type": "code",
   "execution_count": 10,
   "id": "004f78de",
   "metadata": {},
   "outputs": [],
   "source": [
    "import multipledispatch"
   ]
  },
  {
   "cell_type": "code",
   "execution_count": 11,
   "id": "e309c58c",
   "metadata": {},
   "outputs": [],
   "source": [
    "from multipledispatch import dispatch"
   ]
  },
  {
   "cell_type": "code",
   "execution_count": 12,
   "id": "915e53c0",
   "metadata": {},
   "outputs": [],
   "source": [
    "class MyClass:\n",
    "    \n",
    "    def __init__(self, a, b):\n",
    "        self.a = a\n",
    "        self.b = b\n",
    "        \n",
    "    @dispatch(int, int)   \n",
    "    def foo(self, x, y):\n",
    "        return x * y\n",
    "    \n",
    "    @dispatch(set, set)\n",
    "    def foo(self, m, n):\n",
    "        return m.union(n)\n",
    "        "
   ]
  },
  {
   "cell_type": "code",
   "execution_count": 13,
   "id": "d03fd9f1",
   "metadata": {},
   "outputs": [],
   "source": [
    "x = MyClass(5, 10)"
   ]
  },
  {
   "cell_type": "code",
   "execution_count": 14,
   "id": "84e3e91e",
   "metadata": {},
   "outputs": [
    {
     "data": {
      "text/plain": [
       "8"
      ]
     },
     "execution_count": 14,
     "metadata": {},
     "output_type": "execute_result"
    }
   ],
   "source": [
    "x.foo(2, 4)"
   ]
  },
  {
   "cell_type": "code",
   "execution_count": 15,
   "id": "4d54ff3f",
   "metadata": {},
   "outputs": [
    {
     "data": {
      "text/plain": [
       "{1, 2, 3, 4, 5, 6}"
      ]
     },
     "execution_count": 15,
     "metadata": {},
     "output_type": "execute_result"
    }
   ],
   "source": [
    "x.foo({1,2,3}, {4,5,6})"
   ]
  },
  {
   "cell_type": "code",
   "execution_count": 16,
   "id": "20739ccc",
   "metadata": {},
   "outputs": [
    {
     "ename": "TypeError",
     "evalue": "unsupported operand type(s) for +: 'set' and 'set'",
     "output_type": "error",
     "traceback": [
      "\u001b[1;31m---------------------------------------------------------------------------\u001b[0m",
      "\u001b[1;31mTypeError\u001b[0m                                 Traceback (most recent call last)",
      "Cell \u001b[1;32mIn[16], line 1\u001b[0m\n\u001b[1;32m----> 1\u001b[0m {\u001b[38;5;241m1\u001b[39m,\u001b[38;5;241m2\u001b[39m,\u001b[38;5;241m3\u001b[39m}\u001b[38;5;241m+\u001b[39m{\u001b[38;5;241m4\u001b[39m,\u001b[38;5;241m5\u001b[39m,\u001b[38;5;241m6\u001b[39m}\n",
      "\u001b[1;31mTypeError\u001b[0m: unsupported operand type(s) for +: 'set' and 'set'"
     ]
    }
   ],
   "source": [
    "{1,2,3}+{4,5,6} # to see the error"
   ]
  },
  {
   "cell_type": "code",
   "execution_count": null,
   "id": "f5ce9be8",
   "metadata": {},
   "outputs": [],
   "source": [
    "class MyClass:\n",
    "    \n",
    "    def __init__(self, a, b, c):\n",
    "        self.a = a\n",
    "        self.b = b\n",
    "        \n",
    "    @dispatch(int, int)   \n",
    "    def foo(self, x, y):\n",
    "        return x * y\n",
    "    \n",
    "    @dispatch(set, set)\n",
    "    def foo(self, m, n):\n",
    "        return m.union(n)\n",
    "    \n",
    "    @dispatch(str, str)\n",
    "    def foo(self, m, n):\n",
    "        return m + n\n",
    "    \n",
    "    @dispatch(int, int, int)   \n",
    "    def foo(self, x, y, z):\n",
    "        return (x * y)//z"
   ]
  },
  {
   "cell_type": "code",
   "execution_count": null,
   "id": "da8d4550",
   "metadata": {},
   "outputs": [],
   "source": [
    "x = MyClass(5, 10, 12)"
   ]
  },
  {
   "cell_type": "code",
   "execution_count": null,
   "id": "bc7cd5da",
   "metadata": {},
   "outputs": [],
   "source": [
    "x.foo('hi','hello')"
   ]
  },
  {
   "cell_type": "code",
   "execution_count": null,
   "id": "09291a5c",
   "metadata": {},
   "outputs": [],
   "source": [
    "x.foo(2,5,3)"
   ]
  },
  {
   "cell_type": "markdown",
   "id": "85318f3a",
   "metadata": {},
   "source": [
    "### Constructor overloading:\n",
    "* Constructor overloading means more than one constructor in a class with the same name but a different argument (parameter). Python does not support Constructor overloading; it has no form of function."
   ]
  },
  {
   "cell_type": "code",
   "execution_count": 17,
   "id": "20d59658",
   "metadata": {},
   "outputs": [],
   "source": [
    "class MyClass:\n",
    "    \n",
    "    @dispatch(int, int)\n",
    "    def __init__(self, a, b):\n",
    "        self.x = a*b\n",
    "        \n",
    "    @dispatch(str, str)\n",
    "    def __init__(self, fname, lname):\n",
    "        self.name = fname + ' ' + lname"
   ]
  },
  {
   "cell_type": "code",
   "execution_count": 18,
   "id": "f487c113",
   "metadata": {},
   "outputs": [],
   "source": [
    "x = MyClass(1, 5)"
   ]
  },
  {
   "cell_type": "code",
   "execution_count": 19,
   "id": "54ca0452",
   "metadata": {},
   "outputs": [
    {
     "data": {
      "text/plain": [
       "5"
      ]
     },
     "execution_count": 19,
     "metadata": {},
     "output_type": "execute_result"
    }
   ],
   "source": [
    "x.x"
   ]
  },
  {
   "cell_type": "code",
   "execution_count": 23,
   "id": "897b4aa2",
   "metadata": {},
   "outputs": [],
   "source": [
    "class MyClass:\n",
    "    \n",
    "    @dispatch(int, int)   \n",
    "    def foo(self, x, y):\n",
    "        return x * y\n",
    "    @dispatch(str, str)\n",
    "    def __init__(self, fname, lname):\n",
    "        self.name = fname + ' ' + lname\n",
    "\n",
    "    @dispatch(int, int)   \n",
    "    def foo(self, x, y):\n",
    "        return x * y\n",
    "    \n",
    "    @dispatch(set, set)\n",
    "    def foo(self, m, n):\n",
    "        return m.union(n)\n",
    "    \n",
    "    @dispatch(str, str)\n",
    "    def foo(self, m, n):\n",
    "        return m + n\n",
    "    \n",
    "    @dispatch(int, int, int)   \n",
    "    def foo(self, x, y, z):\n",
    "        return (x * y)//z\n",
    "        \n",
    "    @dispatch(list, list)\n",
    "    def foo(self, m, n):\n",
    "        return [i*j for i, j in zip(m, n)]\n",
    "        "
   ]
  },
  {
   "cell_type": "code",
   "execution_count": 24,
   "id": "8ff2944a",
   "metadata": {},
   "outputs": [],
   "source": [
    "class Child(MyClass):\n",
    "    pass"
   ]
  },
  {
   "cell_type": "code",
   "execution_count": 25,
   "id": "911b16e6",
   "metadata": {},
   "outputs": [],
   "source": [
    "x = Child('abc','xyz')"
   ]
  },
  {
   "cell_type": "code",
   "execution_count": 26,
   "id": "ed81744c",
   "metadata": {},
   "outputs": [
    {
     "data": {
      "text/plain": [
       "'abc xyz'"
      ]
     },
     "execution_count": 26,
     "metadata": {},
     "output_type": "execute_result"
    }
   ],
   "source": [
    "x.name"
   ]
  },
  {
   "cell_type": "markdown",
   "id": "01f9df80",
   "metadata": {},
   "source": [
    "### ABSTRACTION:\n",
    "* An abstract class can be considered a blueprint for other classes.\n",
    "* It allows you to create a set of methods that must be created within any child classes built from the abstract class.\n",
    "* A class that contains one or more abstract methods is called an abstract class. \n",
    "* An abstract method is a method that has a declaration but does not have an implementation.\n",
    "* While we are designing large functional units we use an abstract class. \n",
    "* When we want to provide a common interface for different implementations of a component, we use an abstract class. "
   ]
  },
  {
   "cell_type": "code",
   "execution_count": null,
   "id": "962319de",
   "metadata": {},
   "outputs": [],
   "source": [
    "import abc "
   ]
  },
  {
   "cell_type": "code",
   "execution_count": null,
   "id": "f8b1bea7",
   "metadata": {},
   "outputs": [],
   "source": [
    "from abc import abstractmethod, ABC"
   ]
  },
  {
   "cell_type": "code",
   "execution_count": null,
   "id": "da666f17",
   "metadata": {},
   "outputs": [],
   "source": [
    "class Ben10(ABC):\n",
    "    \n",
    "    @abstractmethod\n",
    "    def omniTransformation(self):\n",
    "        '''Hey!'''\n",
    "        pass\n",
    "    "
   ]
  },
  {
   "cell_type": "code",
   "execution_count": null,
   "id": "9557ba3a",
   "metadata": {},
   "outputs": [],
   "source": [
    "class DiamondHead(Ben10):\n",
    "    def omniTransformation(self):\n",
    "        print('DiamondHead Transformation Done!')"
   ]
  },
  {
   "cell_type": "code",
   "execution_count": null,
   "id": "0bccb1c2",
   "metadata": {},
   "outputs": [],
   "source": [
    "x = DiamondHead()"
   ]
  },
  {
   "cell_type": "code",
   "execution_count": null,
   "id": "7095363f",
   "metadata": {},
   "outputs": [],
   "source": [
    "x.omniTransformation()"
   ]
  },
  {
   "cell_type": "code",
   "execution_count": null,
   "id": "9db4ca86",
   "metadata": {},
   "outputs": [],
   "source": [
    "help(x.omniTransformation())"
   ]
  },
  {
   "cell_type": "markdown",
   "id": "c81a1582",
   "metadata": {},
   "source": [
    "### Duck Duck Typing:\n",
    "* In Python, duck typing is less concerned with the class of an object and more interested in what methods the object has.\n",
    "* This is why you can call a method on an object without knowing its class, as long as the method exists. \n",
    "* Consider this example: class Duck: def quack(self): return 'Quack!"
   ]
  },
  {
   "cell_type": "code",
   "execution_count": null,
   "id": "dfa9c3a4",
   "metadata": {},
   "outputs": [],
   "source": [
    "def foo(x : str, y : str):\n",
    "    return x+y"
   ]
  },
  {
   "cell_type": "code",
   "execution_count": null,
   "id": "ecf145f2",
   "metadata": {},
   "outputs": [],
   "source": [
    "foo(5,6)"
   ]
  },
  {
   "cell_type": "code",
   "execution_count": null,
   "id": "d112deee",
   "metadata": {},
   "outputs": [],
   "source": [
    "foo([1,2,3],[4,5,6])"
   ]
  },
  {
   "cell_type": "code",
   "execution_count": null,
   "id": "865eebe0",
   "metadata": {},
   "outputs": [],
   "source": [
    "class Duck:\n",
    "    def quack(self):\n",
    "        print('quack!')\n",
    "    def fly(self):\n",
    "        print('Flap-Flap!')\n",
    "        \n",
    "class DogDuck:\n",
    "    def quack(self):\n",
    "        print('Bowuaack!')\n",
    "    def fly(self):\n",
    "        print('zoommm!')\n",
    "        "
   ]
  },
  {
   "cell_type": "code",
   "execution_count": null,
   "id": "352663c0",
   "metadata": {},
   "outputs": [],
   "source": [
    "def foo(x : Duck):\n",
    "    x.quack()"
   ]
  },
  {
   "cell_type": "code",
   "execution_count": null,
   "id": "3f555cdd",
   "metadata": {},
   "outputs": [],
   "source": [
    "a, b = Duck(),DogDuck()"
   ]
  },
  {
   "cell_type": "code",
   "execution_count": null,
   "id": "280962b9",
   "metadata": {},
   "outputs": [],
   "source": [
    "foo(a)"
   ]
  },
  {
   "cell_type": "code",
   "execution_count": null,
   "id": "c4754ec7",
   "metadata": {},
   "outputs": [],
   "source": [
    "foo(b)"
   ]
  },
  {
   "cell_type": "code",
   "execution_count": null,
   "id": "c2319f76",
   "metadata": {},
   "outputs": [],
   "source": [
    "dir(list)"
   ]
  },
  {
   "cell_type": "code",
   "execution_count": null,
   "id": "f00c7fd0",
   "metadata": {},
   "outputs": [],
   "source": []
  },
  {
   "cell_type": "code",
   "execution_count": null,
   "id": "bccb57fb",
   "metadata": {},
   "outputs": [],
   "source": []
  }
 ],
 "metadata": {
  "kernelspec": {
   "display_name": "Python 3 (ipykernel)",
   "language": "python",
   "name": "python3"
  },
  "language_info": {
   "codemirror_mode": {
    "name": "ipython",
    "version": 3
   },
   "file_extension": ".py",
   "mimetype": "text/x-python",
   "name": "python",
   "nbconvert_exporter": "python",
   "pygments_lexer": "ipython3",
   "version": "3.11.5"
  }
 },
 "nbformat": 4,
 "nbformat_minor": 5
}
